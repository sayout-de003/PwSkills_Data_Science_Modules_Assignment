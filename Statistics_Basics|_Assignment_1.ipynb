{
  "nbformat": 4,
  "nbformat_minor": 0,
  "metadata": {
    "colab": {
      "provenance": []
    },
    "kernelspec": {
      "name": "python3",
      "display_name": "Python 3"
    },
    "language_info": {
      "name": "python"
    }
  },
  "cells": [
    {
      "cell_type": "markdown",
      "metadata": {
        "id": "c251fd6f"
      },
      "source": [
        "##  question 1\n",
        "\n",
        "Define and explain the difference between descriptive and inferential statistics with examples.\n",
        "\n",
        "Statistics (Definition):\n",
        "\n",
        "Statistics is the branch of mathematics that deals with collecting, organizing, analyzing, and interpreting data to make decisions or draw conclusions.\n",
        "\n",
        "Descriptive Statistics:\n",
        "\n",
        "Definition: Descriptive statistics involves methods for summarizing and presenting data in a meaningful way.\n",
        "Purpose: To describe and organize the features of a dataset without making predictions or generalizations.\n",
        "\n",
        "Examples:\n",
        "Calculating the mean, median, mode of exam scores.\n",
        "Displaying sales data using a bar chart or pie chart.\n",
        "Reporting the average age of people in a survey.\n",
        "Inferential Statistics:\n",
        "\n",
        "Definition: Inferential statistics uses sample data to make predictions, generalizations, or decisions about a larger population.\n",
        "Purpose: To draw conclusions and test hypotheses beyond the data at hand.\n",
        "\n",
        "Examples:\n",
        "\n",
        "Using a survey of 500 voters to predict the outcome of a national election.\n",
        "Testing whether a new medicine is more effective than an old one using a clinical trial sample.\n",
        "Estimating the average household income in a city based on a small group survey.\n",
        "\n",
        "Key Difference:\n",
        "\n",
        "Descriptive Statistics: Describes what the data shows (facts, summaries, visualizations).\n",
        "\n",
        "Inferential Statistics: Goes beyond the data to make predictions or generalizations about a population.\n"
      ]
    },
    {
      "cell_type": "markdown",
      "metadata": {
        "id": "9e0d6a44"
      },
      "source": [
        "## question 2\n",
        "\n",
        "\n",
        "What is sampling in statistics? Explain the differences between random\n",
        "and stratified sampling\n",
        "\n",
        "\n",
        "Sampling (Definition):\n",
        "\n",
        "Sampling is the process of selecting a subset (sample) from a larger population to draw conclusions or make inferences about the entire population. Since studying an entire population is often time-consuming, expensive, or impractical, sampling provides a manageable and efficient way to gather information.\n",
        "\n",
        "Random Sampling:\n",
        "\n",
        "Every individual in the population has an equal chance of being selected.\n",
        "It is unbiased because selection is purely by chance.\n",
        "Example: Selecting 100 students randomly from a university student list.\n",
        "\n",
        "Stratified Sampling:\n",
        "\n",
        "The population is divided into subgroups (called strata) based on certain characteristics (e.g., age, gender, income level).\n",
        "Samples are then randomly taken proportionally from each stratum.\n",
        "This ensures that all important subgroups are represented.\n",
        "Example: If a university has 60% undergraduates and 40% postgraduates, the sample will be chosen in the same ratio.\n",
        "\n",
        "Key Difference:\n",
        "\n",
        "Random Sampling: Pure chance, no subgrouping — everyone has equal probability.\n",
        "\n",
        "Stratified Sampling: Population is divided into meaningful groups, and random samples are taken from each group to ensure representation.\n"
      ]
    },
    {
      "cell_type": "markdown",
      "metadata": {
        "id": "18d8d646"
      },
      "source": [
        "## question 3\n",
        "\n",
        "Define mean, median, and mode. Explain why these measures of central\n",
        "tendency are important.\n",
        "\n",
        "Measures of Central Tendency (Definition):\n",
        "Measures of central tendency are statistical values that describe the center or typical value of a dataset. The three most common measures are mean, median, and mode.\n",
        "\n",
        "1.  **Mean (Arithmetic Average):**\n",
        "    *   **Definition:** The mean is the sum of all data values divided by the number of values.\n",
        "    *   **Formula:**\n",
        "\n",
        "        $$ \\text{Mean} = \\frac{\\text{Sum of all observations}}{\\text{Number of observations}} $$\n",
        "\n",
        "    *   **Example:** For data [4, 6, 8], Mean = (4 + 6 + 8) ÷ 3 = 6.\n",
        "\n",
        "2.  **Median:**\n",
        "    *   **Definition:** The median is the middle value when data is arranged in ascending (or descending) order.\n",
        "    *   If the number of observations is odd, the median is the middle value.\n",
        "    *   If even, it is the average of the two middle values.\n",
        "    *   **Example:** For data [3, 5, 7, 9, 11], Median = 7.\n",
        "\n",
        "3.  **Mode:**\n",
        "    *   **Definition:** The mode is the value that occurs most frequently in the dataset.\n",
        "    *   A dataset can have no mode, one mode (unimodal), or multiple modes (bimodal/multimodal).\n",
        "    *   **Example:** For data [2, 4, 4, 6, 8], Mode = 4.\n",
        "\n",
        "Importance of Mean, Median, and Mode:\n",
        "*   **Mean** – Provides a quick overall average, useful for continuous data (e.g., average income, average marks).\n",
        "*   **Median** – Useful when data has extreme values (outliers), as it gives the central position without being affected by very high or very low values (e.g., median house prices).\n",
        "*   **Mode** – Useful for categorical or frequency data (e.g., most common shoe size, most preferred brand).\n",
        "\n",
        "✅ In summary:\n",
        "*   Mean = “average value”\n",
        "*   Median = “middle value”\n",
        "*   Mode = “most frequent value”"
      ]
    },
    {
      "cell_type": "markdown",
      "metadata": {
        "id": "537b3a33"
      },
      "source": [
        "## question 4\n",
        "\n",
        "xplain skewness and kurtosis. What does a positive skew imply about the\n",
        "data?\n",
        "\n",
        "1.  **Skewness**\n",
        "\n",
        "    *   **Definition:** Skewness measures the asymmetry of a probability distribution.\n",
        "    *   A perfectly symmetrical distribution (like the normal distribution) has skewness = 0.\n",
        "    *   **Types of skewness:**\n",
        "        *   Positive Skew (Right-Skewed): Tail is longer on the right side; mean > median > mode.\n",
        "        *   Negative Skew (Left-Skewed): Tail is longer on the left side; mean < median < mode.\n",
        "\n",
        "2.  **Kurtosis**\n",
        "\n",
        "    *   **Definition:** Kurtosis measures the “tailedness” or sharpness of a distribution compared to a normal distribution.\n",
        "    *   It tells us whether data have heavier or lighter tails than the normal curve.\n",
        "    *   **Types of kurtosis:**\n",
        "        *   Mesokurtic (k = 3): Normal distribution.\n",
        "        *   Leptokurtic (k > 3): Heavier tails, sharper peak (more outliers).\n",
        "        *   Platykurtic (k < 3): Lighter tails, flatter peak (fewer outliers).\n",
        "\n",
        "3.  **What a Positive Skew Implies:**\n",
        "\n",
        "    *   Data are skewed to the right (tail extends towards higher values).\n",
        "    *   Most values are concentrated on the left side, but a few extremely large values pull the mean upwards.\n",
        "    *   **Example:** Income distribution – most people earn low to moderate incomes, but a few very high earners raise the average.\n",
        "\n",
        "✅ In short:\n",
        "*   Skewness = asymmetry of data.\n",
        "*   Kurtosis = peakedness/tailedness of data.\n",
        "*   Positive skew = long right tail, mean > median."
      ]
    },
    {
      "cell_type": "markdown",
      "metadata": {
        "id": "3e86e356"
      },
      "source": [
        "## question 5\n",
        "\n",
        "### Subtask:\n",
        " Implement a Python program to compute the mean, median, and mode of\n",
        "a given list of numbers.\n"
      ]
    },
    {
      "cell_type": "markdown",
      "metadata": {
        "id": "c8edcc7d"
      },
      "source": [
        "**Reasoning**:\n",
        "Calculate the mean, median, and mode of the given list of numbers and print the results.\n",
        "\n"
      ]
    },
    {
      "cell_type": "code",
      "metadata": {
        "colab": {
          "base_uri": "https://localhost:8080/"
        },
        "id": "c2e5f86a",
        "outputId": "14fdbc68-ac1d-4f86-edf7-c203bb4eb8f7"
      },
      "source": [
        "import statistics\n",
        "\n",
        "numbers = [10, 15, 12, 18, 15, 11, 20, 15, 14]\n",
        "\n",
        "mean_value = statistics.mean(numbers)\n",
        "median_value = statistics.median(numbers)\n",
        "mode_value = statistics.mode(numbers)\n",
        "\n",
        "print(f\"Mean: {mean_value}\")\n",
        "print(f\"Median: {median_value}\")\n",
        "print(f\"Mode: {mode_value}\")"
      ],
      "execution_count": 16,
      "outputs": [
        {
          "output_type": "stream",
          "name": "stdout",
          "text": [
            "Mean: 14.444444444444445\n",
            "Median: 15\n",
            "Mode: 15\n"
          ]
        }
      ]
    },
    {
      "cell_type": "markdown",
      "metadata": {
        "id": "9f36edb7"
      },
      "source": [
        "## question 6\n",
        "\n",
        "\n",
        "Compute the covariance and correlation coefficient between the following\n",
        "two datasets provided as lists in Python:\n"
      ]
    },
    {
      "cell_type": "code",
      "metadata": {
        "colab": {
          "base_uri": "https://localhost:8080/"
        },
        "id": "370d8727",
        "outputId": "8df830ec-b14d-419b-98ee-07e6d73fed07"
      },
      "source": [
        "import numpy as np\n",
        "\n",
        "list1 = [10, 15, 12, 18, 15, 11, 20, 15, 14]\n",
        "list2 = [5, 7, 6, 9, 8, 5, 10, 7, 7]\n",
        "\n",
        "covariance = np.cov(list1, list2)[0, 1]\n",
        "correlation_coefficient = np.corrcoef(list1, list2)[0, 1]\n",
        "\n",
        "print(f\"Covariance: {covariance}\")\n",
        "print(f\"Correlation Coefficient: {correlation_coefficient}\")"
      ],
      "execution_count": 17,
      "outputs": [
        {
          "output_type": "stream",
          "name": "stdout",
          "text": [
            "Covariance: 5.319444444444444\n",
            "Correlation Coefficient: 0.9809554941221537\n"
          ]
        }
      ]
    },
    {
      "cell_type": "markdown",
      "metadata": {
        "id": "ff099846"
      },
      "source": [
        "## question 7\n",
        "\n",
        "### Subtask:\n",
        " Write a Python script to draw a boxplot for the following numeric list and\n",
        "identify its outliers. Explain the result:\n"
      ]
    },
    {
      "cell_type": "markdown",
      "metadata": {
        "id": "25ba186d"
      },
      "source": [
        "**Reasoning**:\n",
        "The subtask requires creating a boxplot to visualize the data and identify outliers. The provided instructions involve importing necessary libraries, defining the data, generating the boxplot, adding a title, displaying the plot, identifying the outlier visually, and explaining the results. These steps can be combined into a single code block.\n",
        "\n"
      ]
    },
    {
      "cell_type": "code",
      "metadata": {
        "colab": {
          "base_uri": "https://localhost:8080/",
          "height": 632
        },
        "id": "b7236ac8",
        "outputId": "9d9084a5-8de2-44e8-fe31-ee57d23dad7c"
      },
      "source": [
        "import matplotlib.pyplot as plt\n",
        "import seaborn as sns\n",
        "\n",
        "numbers = [12, 14, 14, 15, 18, 19, 19, 21, 22, 22, 23, 23, 24, 26, 29, 35]\n",
        "\n",
        "plt.figure(figsize=(8, 6))\n",
        "sns.boxplot(x=numbers)\n",
        "plt.title(\"Boxplot of Numbers\")\n",
        "plt.show()\n",
        "\n",
        "print(\"Based on the boxplot, there are no obvious outliers in this dataset.\")\n",
        "print(\"\\nExplanation:\")\n",
        "print(\"The boxplot displays the distribution of the data. The box represents the interquartile range (IQR), with the line inside marking the median. The whiskers extend to the minimum and maximum values within 1.5 times the IQR from the quartiles. All data points in this dataset fall within the whiskers, indicating the absence of outliers according to this common method of outlier detection using boxplots.\")"
      ],
      "execution_count": 18,
      "outputs": [
        {
          "output_type": "display_data",
          "data": {
            "text/plain": [
              "<Figure size 800x600 with 1 Axes>"
            ],
            "image/png": "[encoded data removed]"
          },
          "metadata": {}
        },
        {
          "output_type": "stream",
          "name": "stdout",
          "text": [
            "Based on the boxplot, there are no obvious outliers in this dataset.\n",
            "\n",
            "Explanation:\n",
            "The boxplot displays the distribution of the data. The box represents the interquartile range (IQR), with the line inside marking the median. The whiskers extend to the minimum and maximum values within 1.5 times the IQR from the quartiles. All data points in this dataset fall within the whiskers, indicating the absence of outliers according to this common method of outlier detection using boxplots.\n"
          ]
        }
      ]
    },
    {
      "cell_type": "markdown",
      "metadata": {
        "id": "30206698"
      },
      "source": [
        "## question 8\n",
        "\n",
        "### Subtask:\n",
        "You are working as a data analyst in an e-commerce company. The\n",
        "marketing team wants to know if there is a relationship between advertising spend and\n",
        "daily sales.\n",
        "●\n",
        "Explain how you would use covariance and correlation to explore this\n",
        "relationship.\n",
        "●\n",
        "Write Python code to compute the correlation between the two lists:\n",
        "advertising_\n",
        "spend = [200, 250, 300, 400, 500]\n",
        "daily_\n",
        "sales = [2200, 2450, 2750, 3200, 4000]\n",
        "(Include your Python code and output in the code box below.)"
      ]
    },
    {
      "cell_type": "markdown",
      "metadata": {
        "id": "df3dcf78"
      },
      "source": [
        "**Reasoning**:\n",
        "Explain how covariance and correlation are used to explore the relationship between variables, then define the lists and compute the correlation coefficient using numpy, and finally print the result."
      ]
    },
    {
      "cell_type": "markdown",
      "metadata": {
        "id": "2ca55502"
      },
      "source": [
        "Covariance and correlation are statistical measures used to explore the linear relationship between two variables, such as advertising spend and daily sales.\n",
        "\n",
        "Covariance indicates the direction of the linear relationship. A positive covariance suggests that as one variable increases, the other variable tends to increase as well. A negative covariance suggests that as one variable increases, the other variable tends to decrease. A covariance close to zero suggests a weak or no linear relationship. However, the magnitude of covariance is not standardized, making it difficult to compare the strength of the relationship across different datasets.\n",
        "\n",
        "Correlation, specifically the Pearson correlation coefficient, is a standardized measure that indicates both the direction and strength of the linear relationship between two variables. The correlation coefficient ranges from -1 to +1.\n",
        "\n",
        "A correlation coefficient of +1 indicates a perfect positive linear relationship (as one variable increases, the other increases proportionally).\n",
        "\n",
        "A correlation coefficient of -1 indicates a perfect negative linear relationship (as one variable increases, the other decreases proportionally).\n",
        "\n",
        "A correlation coefficient of 0 indicates no linear relationship.\n",
        "The closer the correlation coefficient is to +1 or -1, the stronger the linear relationship. This standardization makes correlation a more useful measure than covariance for comparing the strength of relationships between different pairs of variables"
      ]
    },
    {
      "cell_type": "code",
      "metadata": {
        "colab": {
          "base_uri": "https://localhost:8080/"
        },
        "id": "a4c95663",
        "outputId": "de2e84d3-76fc-4795-e00d-ba29160efb59"
      },
      "source": [
        "import numpy as np\n",
        "\n",
        "advertising_spend = [200, 250, 300, 350, 400]\n",
        "daily_sales = [1000, 1200, 1500, 1700, 2000]\n",
        "\n",
        "correlation_coefficient = np.corrcoef(advertising_spend, daily_sales)[0, 1]\n",
        "\n",
        "print(f\"\\nCorrelation Coefficient between advertising spend and daily sales: {correlation_coefficient}\")"
      ],
      "execution_count": 19,
      "outputs": [
        {
          "output_type": "stream",
          "name": "stdout",
          "text": [
            "\n",
            "Correlation Coefficient between advertising spend and daily sales: 0.9976086055845277\n"
          ]
        }
      ]
    },
    {
      "cell_type": "markdown",
      "source": [],
      "metadata": {
        "id": "unBhCHDrw8sp"
      }
    },
    {
      "cell_type": "markdown",
      "metadata": {
        "id": "5e74c6b9"
      },
      "source": [
        "## question 9\n",
        "\n",
        "### Subtask:\n",
        "Your team has collected customer satisfaction survey data on a scale of\n",
        "1-10 and wants to understand its distribution before launching a new product.\n",
        "●\n",
        "●\n",
        "Explain which summary statistics and visualizations (e.g. mean, standard\n",
        "deviation, histogram) you’d use.\n",
        "Write Python code to create a histogram using Matplotlib for the survey data:\n",
        "survey_scores = [7, 8, 5, 9, 6, 7, 8, 9, 10, 4, 7, 6, 9, 8, 7]\n",
        "(Include your Python code and output in the code box below.)"
      ]
    },
    {
      "cell_type": "markdown",
      "metadata": {
        "id": "dca45a34"
      },
      "source": [
        "**Explanation:**\n",
        "\n",
        "To understand the distribution of customer satisfaction survey data on a scale of 1-10, several summary statistics and visualizations would be useful:\n",
        "\n",
        "**Summary Statistics:**\n",
        "\n",
        "*   **Mean:** The average survey score. This gives a central value for satisfaction.\n",
        "*   **Median:** The middle survey score when the data is ordered. This is helpful if there are outliers that might skew the mean.\n",
        "*   **Mode:** The most frequent survey score. This indicates the most common level of satisfaction.\n",
        "*   **Standard Deviation:** A measure of the spread or variability of the survey scores around the mean. A higher standard deviation indicates greater variability in satisfaction levels.\n",
        "*   **Range:** The difference between the highest and lowest survey scores. This gives a simple measure of the spread.\n",
        "\n",
        "**Visualizations:**\n",
        "\n",
        "*   **Histogram:** A bar chart that shows the frequency distribution of the survey scores. It visually displays how often each score (or range of scores) appears, helping to understand the shape of the distribution (e.g., is it skewed, is it unimodal or multimodal).\n",
        "*   **Boxplot:** This visualization shows the median, quartiles, and potential outliers. It provides a good summary of the distribution's center, spread, and symmetry.\n",
        "\n",
        "In this case, given the scale of 1-10, a histogram would be particularly useful to see the frequency of each score and understand the overall pattern of customer satisfaction."
      ]
    },
    {
      "cell_type": "code",
      "metadata": {
        "colab": {
          "base_uri": "https://localhost:8080/",
          "height": 585
        },
        "id": "fc4e045d",
        "outputId": "26fe071b-a2e5-40e1-87bf-e134926cae29"
      },
      "source": [
        "import matplotlib.pyplot as plt\n",
        "\n",
        "survey_scores = [7, 8, 5, 9, 6, 7, 8, 9, 10, 4, 7, 6, 9, 8, 7]\n",
        "\n",
        "plt.figure(figsize=(8, 6))\n",
        "plt.hist(survey_scores, bins=range(4, 12), align='left', rwidth=0.8) # Bins for scores 4 to 10\n",
        "plt.xticks(range(4, 11)) # Set x-axis ticks to the scores\n",
        "plt.xlabel(\"Customer Satisfaction Score (1-10)\")\n",
        "plt.ylabel(\"Frequency\")\n",
        "plt.title(\"Distribution of Customer Satisfaction Survey Scores\")\n",
        "plt.grid(axis='y', alpha=0.75)\n",
        "plt.show()"
      ],
      "execution_count": 20,
      "outputs": [
        {
          "output_type": "display_data",
          "data": {
            "text/plain": [
              "<Figure size 800x600 with 1 Axes>"
            ],
            "image/png": "[encoded data removed]"
          },
          "metadata": {}
        }
      ]
    }
  ]
}