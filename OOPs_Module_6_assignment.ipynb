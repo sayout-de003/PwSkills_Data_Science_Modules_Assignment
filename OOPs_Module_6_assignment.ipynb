{
  "nbformat": 4,
  "nbformat_minor": 0,
  "metadata": {
    "colab": {
      "provenance": []
    },
    "kernelspec": {
      "name": "python3",
      "display_name": "Python 3"
    },
    "language_info": {
      "name": "python"
    }
  },
  "cells": [
    {
      "cell_type": "markdown",
      "source": [
        "# ***Theory Question Answers***"
      ],
      "metadata": {
        "id": "-GA_tlKy67In"
      }
    },
    {
      "cell_type": "markdown",
      "source": [
        "1. What is Object–Oriented Programming (OOP)?\n",
        "\n",
        "        Object-Oriented Programming (OOP) is a programming paradigm that organizes software design around data,\n",
        "         or objects, rather than functions and logic.\n",
        "        Objects are instances of classes, which can hold both data (attributes) and functions (methods) that operate on the data.\n",
        "        OOP promotes concepts like inheritance, encapsulation, abstraction, and polymorphism.\n",
        "\n"
      ],
      "metadata": {
        "id": "J_B4wML-1y60"
      }
    },
    {
      "cell_type": "code",
      "source": [
        "class Dog:\n",
        "    def bark(self):\n",
        "        print(\"Woof!\")\n"
      ],
      "metadata": {
        "id": "nucrANU713hh"
      },
      "execution_count": null,
      "outputs": []
    },
    {
      "cell_type": "markdown",
      "source": [
        "2. What is a class in OOP?\n",
        "\n",
        "        A class is a blueprint or template for creating objects.\n",
        "         It defines properties (variables) and behaviors (methods)."
      ],
      "metadata": {
        "id": "MwJhDaf62car"
      }
    },
    {
      "cell_type": "code",
      "source": [
        "class Person:\n",
        "    def __init__(self, name):\n",
        "        self.name = name\n",
        "\n",
        "    def greet(self):\n",
        "        print(\"Hello, my name is\", self.name)\n"
      ],
      "metadata": {
        "id": "w7P0H3M-171K"
      },
      "execution_count": null,
      "outputs": []
    },
    {
      "cell_type": "markdown",
      "source": [
        "3. What is an object in OOP?\n",
        "\n",
        "An object is an instance of a class. It is created based on the structure defined in the class and can access the class's attributes and methods."
      ],
      "metadata": {
        "id": "fkQJEiFa20yU"
      }
    },
    {
      "cell_type": "code",
      "source": [
        "p = Person(\"Alice\")\n",
        "print(p.name)  # Output: Alice\n",
        "p.greet()  # Output: Hello, my name is Alice"
      ],
      "metadata": {
        "colab": {
          "base_uri": "https://localhost:8080/"
        },
        "id": "EatRy-Ny2pTM",
        "outputId": "bb3ab08c-2269-4d96-f47d-373a5e29394e"
      },
      "execution_count": null,
      "outputs": [
        {
          "output_type": "stream",
          "name": "stdout",
          "text": [
            "Alice\n",
            "Hello, my name is Alice\n"
          ]
        }
      ]
    },
    {
      "cell_type": "markdown",
      "source": [
        "4. What is the difference between abstraction and encapsulation?\n",
        "\n",
        "Abstraction is the process of hiding the implementation details and showing only the essential features of an object.\n",
        "\n",
        "Encapsulation is the bundling of data and methods that operate on that data within one unit (class) and restricting access to some of the object’s components."
      ],
      "metadata": {
        "id": "pnWwqG8p2-6P"
      }
    },
    {
      "cell_type": "code",
      "source": [
        "class Car:\n",
        "    def __init__(self):\n",
        "        self.__engine_status = \"Off\"  # Private attribute\n",
        "\n",
        "    def start(self):  # Abstracted behavior\n",
        "        self.__engine_status = \"On\"\n",
        "        print(\"Car started\")"
      ],
      "metadata": {
        "id": "1TCqiV1G26l9"
      },
      "execution_count": null,
      "outputs": []
    },
    {
      "cell_type": "markdown",
      "source": [
        "5. What are dunder methods in Python?\n",
        "\n",
        "Dunder methods (double underscore methods) are special methods in Python that begin and end with double underscores. They allow us to define custom behaviors for standard operations (e.g., __init__, __str__, __repr__)."
      ],
      "metadata": {
        "id": "lndicQ8E3JbY"
      }
    },
    {
      "cell_type": "code",
      "source": [
        "class Book:\n",
        "    def __init__(self, title):\n",
        "        self.title = title\n",
        "\n",
        "    def __str__(self):\n",
        "        return f\"Book: {self.title}\""
      ],
      "metadata": {
        "id": "gv3K4wNa3BJt"
      },
      "execution_count": null,
      "outputs": []
    },
    {
      "cell_type": "markdown",
      "source": [
        "6. Explain the concept of inheritance in OOP.\n",
        "\n",
        "Inheritance allows a class (child class) to inherit properties and methods from another class (parent class). This promotes code reuse and logical hierarchy."
      ],
      "metadata": {
        "id": "izLTFckE3R77"
      }
    },
    {
      "cell_type": "code",
      "source": [
        "class Animal:\n",
        "    def speak(self):\n",
        "        print(\"Animal speaks\")\n",
        "\n",
        "class Dog(Animal):\n",
        "    def speak(self):\n",
        "        print(\"Dog barks\")\n",
        "\n",
        "d = Dog()\n",
        "d.speak()  # Output: Dog barks"
      ],
      "metadata": {
        "colab": {
          "base_uri": "https://localhost:8080/"
        },
        "id": "cg5gAx0x3QD_",
        "outputId": "5c8ca14d-e557-491f-a201-5b9b1bcd2d91"
      },
      "execution_count": null,
      "outputs": [
        {
          "output_type": "stream",
          "name": "stdout",
          "text": [
            "Dog barks\n"
          ]
        }
      ]
    },
    {
      "cell_type": "markdown",
      "source": [
        "7. What is polymorphism in OOP?\n",
        "\n",
        "Polymorphism allows objects of different classes to be treated as objects of a common superclass. It allows the same interface to have different implementations."
      ],
      "metadata": {
        "id": "T6lR55Vl3WS0"
      }
    },
    {
      "cell_type": "code",
      "source": [
        "class Bird:\n",
        "    def sound(self):\n",
        "        print(\"Chirp\")\n",
        "\n",
        "class Cat:\n",
        "    def sound(self):\n",
        "        print(\"Meow\")\n",
        "\n",
        "def make_sound(animal):\n",
        "    animal.sound()\n",
        "\n",
        "make_sound(Bird())\n",
        "make_sound(Cat())"
      ],
      "metadata": {
        "colab": {
          "base_uri": "https://localhost:8080/"
        },
        "id": "v53d_sdv3UxY",
        "outputId": "ccb7aa50-7265-4b19-cd35-9bdabfe83ab6"
      },
      "execution_count": null,
      "outputs": [
        {
          "output_type": "stream",
          "name": "stdout",
          "text": [
            "Chirp\n",
            "Meow\n"
          ]
        }
      ]
    },
    {
      "cell_type": "markdown",
      "source": [
        "8. How is encapsulation achieved in Python?\n",
        "\n",
        "Encapsulation is achieved by using private variables (prefix with __) and providing public methods to access or modify them.\n",
        "\n"
      ],
      "metadata": {
        "id": "-N-_OR9C3gAK"
      }
    },
    {
      "cell_type": "code",
      "source": [
        "class Account:\n",
        "    def __init__(self):\n",
        "        self.__balance = 0\n",
        "\n",
        "    def deposit(self, amount):\n",
        "        self.__balance += amount\n",
        "\n",
        "    def get_balance(self):\n",
        "        return self.__balance"
      ],
      "metadata": {
        "id": "YxwkBsvf3aqp"
      },
      "execution_count": null,
      "outputs": []
    },
    {
      "cell_type": "markdown",
      "source": [
        "9. What is a constructor in Python?\n",
        "\n",
        "A constructor is a special method __init__ that is called automatically when an object is created. It initializes the object’s attributes."
      ],
      "metadata": {
        "id": "T-5u-wq93jqi"
      }
    },
    {
      "cell_type": "code",
      "source": [
        "class Student:\n",
        "    def __init__(self, name):\n",
        "        self.name = name"
      ],
      "metadata": {
        "id": "5o_6OyLD3iIK"
      },
      "execution_count": null,
      "outputs": []
    },
    {
      "cell_type": "markdown",
      "source": [
        "10. What are class and static methods in Python?\n",
        "\n",
        "Class method: Uses @classmethod decorator and takes cls as the first argument.\n",
        "Static method: Uses @staticmethod and takes no special first argument.\n",
        "\n",
        "\n"
      ],
      "metadata": {
        "id": "8UndARQl3ozL"
      }
    },
    {
      "cell_type": "code",
      "source": [
        "class Demo:\n",
        "    @classmethod\n",
        "    def class_method(cls):\n",
        "        print(\"Class Method\")\n",
        "\n",
        "    @staticmethod\n",
        "    def static_method():\n",
        "        print(\"Static Method\")"
      ],
      "metadata": {
        "id": "HgcMM36s3lm_"
      },
      "execution_count": null,
      "outputs": []
    },
    {
      "cell_type": "markdown",
      "source": [
        "11. What is method overloading in Python?\n",
        "\n",
        "Python does not support traditional method overloading (same method name with different parameters). Instead, it can be achieved using default parameters or *args/**kwargs.\n",
        "\n"
      ],
      "metadata": {
        "id": "Tg_E1iXD35zu"
      }
    },
    {
      "cell_type": "code",
      "source": [
        "class Test:\n",
        "    def greet(self, name=None):\n",
        "        if name:\n",
        "            print(\"Hello\", name)\n",
        "        else:\n",
        "            print(\"Hello\")"
      ],
      "metadata": {
        "id": "Z_wKi43-31_e"
      },
      "execution_count": null,
      "outputs": []
    },
    {
      "cell_type": "markdown",
      "source": [
        "12. What is method overriding in OOP?\n",
        "\n",
        "Method overriding occurs when a subclass provides a specific implementation of a method already defined in its superclass.\n",
        "\n"
      ],
      "metadata": {
        "id": "9FqOruhw5JUx"
      }
    },
    {
      "cell_type": "code",
      "source": [
        "class Parent:\n",
        "    def show(self):\n",
        "        print(\"Parent\")\n",
        "\n",
        "class Child(Parent):\n",
        "    def show(self):\n",
        "        print(\"Child\")"
      ],
      "metadata": {
        "id": "WisYSw045HkK"
      },
      "execution_count": null,
      "outputs": []
    },
    {
      "cell_type": "markdown",
      "source": [
        "13. What is a property decorator in Python?\n",
        "\n",
        "A property decorator allows you to define methods that can be accessed like attributes. It is commonly used to create getter/setter methods."
      ],
      "metadata": {
        "id": "YcpT_x9o5Nv1"
      }
    },
    {
      "cell_type": "code",
      "source": [
        "class Circle:\n",
        "    def __init__(self, radius):\n",
        "        self._radius = radius\n",
        "\n",
        "    @property\n",
        "    def area(self):\n",
        "        return 3.14 * self._radius ** 2"
      ],
      "metadata": {
        "id": "TSk94zIy5MDk"
      },
      "execution_count": null,
      "outputs": []
    },
    {
      "cell_type": "markdown",
      "source": [
        "14. Why is polymorphism important in OOP?\n",
        "\n",
        "Polymorphism improves code reusability, flexibility, and maintainability. It enables different classes to be treated through the same interface.\n",
        "\n"
      ],
      "metadata": {
        "id": "QpjzxCtu5Sqq"
      }
    },
    {
      "cell_type": "markdown",
      "source": [
        "15. What is an abstract class in Python?\n",
        "\n",
        "An abstract class is a class that cannot be instantiated and serves as a blueprint for other classes. It can contain abstract methods that must be implemented by subclasses.\n",
        "\n"
      ],
      "metadata": {
        "id": "LwyBgoB25UtZ"
      }
    },
    {
      "cell_type": "code",
      "source": [
        "from abc import ABC, abstractmethod\n",
        "\n",
        "class Shape(ABC):\n",
        "    @abstractmethod\n",
        "    def area(self):\n",
        "        pass"
      ],
      "metadata": {
        "id": "ay_b66945Q-f"
      },
      "execution_count": null,
      "outputs": []
    },
    {
      "cell_type": "markdown",
      "source": [
        "16. What are the advantages of OOP?\n",
        "\n",
        "Modularity: Code is organized into classes.\n",
        "\n",
        "Reusability: Code can be reused through inheritance.\n",
        "\n",
        "Extensibility: New behavior can be added without modifying existing code.\n",
        "\n",
        "Maintenance: Easier to manage and update code."
      ],
      "metadata": {
        "id": "hd0A6RT75ZGp"
      }
    },
    {
      "cell_type": "markdown",
      "source": [
        "17. What is the difference between a class variable and an instance variable?\n",
        "\n",
        "\n",
        "Class Variable: Shared among all instances.\n",
        "\n",
        "Instance Variable: Unique to each instance.\n",
        "\n"
      ],
      "metadata": {
        "id": "qMRCJTdx5bgS"
      }
    },
    {
      "cell_type": "code",
      "source": [
        "class Test:\n",
        "    count = 0  # class variable\n",
        "\n",
        "    def __init__(self):\n",
        "        self.id = Test.count\n",
        "        Test.count += 1"
      ],
      "metadata": {
        "id": "cUjQvHwT5XXw"
      },
      "execution_count": null,
      "outputs": []
    },
    {
      "cell_type": "markdown",
      "source": [
        "18. What is multiple inheritance in Python?\n",
        "\n",
        "When a class inherits from more than one class, it's called multiple inheritance."
      ],
      "metadata": {
        "id": "gKJDgIgq5h9T"
      }
    },
    {
      "cell_type": "code",
      "source": [
        "class A:\n",
        "    def method(self):\n",
        "        print(\"A\")\n",
        "\n",
        "class B:\n",
        "    def method(self):\n",
        "        print(\"B\")\n",
        "\n",
        "class C(A, B):\n",
        "    pass\n",
        "\n",
        "c = C()\n",
        "c.method()  # Output: A (method resolution ord)"
      ],
      "metadata": {
        "colab": {
          "base_uri": "https://localhost:8080/"
        },
        "id": "u0NJiwl05e96",
        "outputId": "6d08177d-b66e-4966-c626-bfdb8c1bea63"
      },
      "execution_count": null,
      "outputs": [
        {
          "output_type": "stream",
          "name": "stdout",
          "text": [
            "A\n"
          ]
        }
      ]
    },
    {
      "cell_type": "markdown",
      "source": [
        "19. Explain the purpose of __str__ and __repr__ methods in Python.\n",
        "\n",
        "__str__: Returns a readable string for users.\n",
        "\n",
        "__repr__: Returns a string for developers, often used for debugging."
      ],
      "metadata": {
        "id": "Yk_Kbakm6BZS"
      }
    },
    {
      "cell_type": "code",
      "source": [
        "class Demo:\n",
        "    def __str__(self):\n",
        "        return \"String version\"\n",
        "\n",
        "    def __repr__(self):\n",
        "        return \"Debug version\""
      ],
      "metadata": {
        "id": "ixQbEn3l5mBg"
      },
      "execution_count": null,
      "outputs": []
    },
    {
      "cell_type": "markdown",
      "source": [
        "20. What is the significance of the super() function in Python?\n",
        "\n",
        "super() is used to call methods from the parent class, commonly in constructors or overridden methods."
      ],
      "metadata": {
        "id": "geJGDbTX6FZh"
      }
    },
    {
      "cell_type": "code",
      "source": [
        "class A:\n",
        "    def greet(self):\n",
        "        print(\"Hello from A\")\n",
        "\n",
        "class B(A):\n",
        "    def greet(self):\n",
        "        super().greet()\n",
        "        print(\"Hello from B\")"
      ],
      "metadata": {
        "id": "wivHqDEC6Dtk"
      },
      "execution_count": null,
      "outputs": []
    },
    {
      "cell_type": "markdown",
      "source": [
        "21. What is the significance of the __del__ method in Python?\n",
        "\n",
        "__del__ is a destructor method called when an object is deleted, used for cleanup tasks like closing files or releasing resources."
      ],
      "metadata": {
        "id": "JTeR8VKg6Ji9"
      }
    },
    {
      "cell_type": "code",
      "source": [
        "class Test:\n",
        "    def __del__(self):\n",
        "        print(\"Object deleted\")"
      ],
      "metadata": {
        "id": "Wyz8HU4J6H8J"
      },
      "execution_count": null,
      "outputs": []
    },
    {
      "cell_type": "markdown",
      "source": [
        "22. What is the difference between @staticmethod and @classmethod in Python?\n",
        "\n",
        "@staticmethod: Does not access class or instance; behaves like a regular function inside the class.\n",
        "\n",
        "@classmethod: Takes class (cls) as a parameter and can access or modify class state."
      ],
      "metadata": {
        "id": "KpXK-DtI6Pbf"
      }
    },
    {
      "cell_type": "code",
      "source": [
        "class MyClass:\n",
        "    class_variable = 0\n",
        "\n",
        "    def __init__(self):\n",
        "        MyClass.class_variable += 1\n",
        "\n",
        "    @staticmethod\n",
        "    def static_method():\n",
        "        print(\"I am a static method. I don't access class or instance.\")\n",
        "\n",
        "    @classmethod\n",
        "    def class_method(cls):\n",
        "        print(f\"I am a class method. class_variable = {cls.class_variable}\")\n"
      ],
      "metadata": {
        "id": "0V9SPj2V6Lj1"
      },
      "execution_count": null,
      "outputs": []
    },
    {
      "cell_type": "code",
      "source": [
        "MyClass.static_method()\n",
        "# Output: I am a static method. I don't access class or instance.\n",
        "\n",
        "MyClass.class_method()\n",
        "# Output: I am a class method. class_variable = 0\n",
        "\n",
        "obj1 = MyClass()\n",
        "obj2 = MyClass()\n",
        "\n",
        "MyClass.class_method()\n",
        "# Output: I am a class method. class_variable = 2\n"
      ],
      "metadata": {
        "colab": {
          "base_uri": "https://localhost:8080/"
        },
        "id": "HVSlLE4g6ivK",
        "outputId": "f48ebf16-8407-4143-fce1-b187313f66f7"
      },
      "execution_count": null,
      "outputs": [
        {
          "output_type": "stream",
          "name": "stdout",
          "text": [
            "I am a static method. I don't access class or instance.\n",
            "I am a class method. class_variable = 0\n",
            "I am a class method. class_variable = 2\n"
          ]
        }
      ]
    },
    {
      "cell_type": "markdown",
      "source": [
        "23. How does polymorphism work in Python with inheritance?\n",
        "\n",
        "Through method overriding, subclasses can redefine methods from the parent class to behave differently.\n",
        "\n"
      ],
      "metadata": {
        "id": "A8_VZ0I46qtA"
      }
    },
    {
      "cell_type": "code",
      "source": [
        "class Animal:\n",
        "    def speak(self):\n",
        "        print(\"Generic sound\")\n",
        "\n",
        "class Dog(Animal):\n",
        "    def speak(self):\n",
        "        print(\"Bark\")\n",
        "\n",
        "a = Dog()\n",
        "a.speak()"
      ],
      "metadata": {
        "colab": {
          "base_uri": "https://localhost:8080/"
        },
        "id": "iGjoGnVK6hFm",
        "outputId": "facfdceb-b030-4c7c-87e4-845af04cea2c"
      },
      "execution_count": null,
      "outputs": [
        {
          "output_type": "stream",
          "name": "stdout",
          "text": [
            "Bark\n"
          ]
        }
      ]
    },
    {
      "cell_type": "markdown",
      "source": [
        "24. What is method chaining in Python OOP?\n",
        "\n",
        "Method chaining is calling multiple methods sequentially by returning self from each method.\n",
        "\n"
      ],
      "metadata": {
        "id": "PqbC4h6X6vg1"
      }
    },
    {
      "cell_type": "code",
      "source": [
        "class Builder:\n",
        "    def __init__(self):\n",
        "        self.data = []\n",
        "\n",
        "    def add(self, item):\n",
        "        self.data.append(item)\n",
        "        return self\n",
        "\n",
        "b = Builder().add(1).add(2).add(3)\n",
        "print(b.data)"
      ],
      "metadata": {
        "colab": {
          "base_uri": "https://localhost:8080/"
        },
        "id": "UuHsOqZN6sEq",
        "outputId": "1af29307-cad5-4a2d-e3e4-3bf2ea006ed9"
      },
      "execution_count": null,
      "outputs": [
        {
          "output_type": "stream",
          "name": "stdout",
          "text": [
            "[1, 2, 3]\n"
          ]
        }
      ]
    },
    {
      "cell_type": "markdown",
      "source": [
        "25. What is the purpose of the __call__ method in Python?\n",
        "\n",
        "__call__ allows an instance of a class to be called like a function."
      ],
      "metadata": {
        "id": "VY6PjXGh62lw"
      }
    },
    {
      "cell_type": "code",
      "source": [
        "class Callable:\n",
        "    def __call__(self, x):\n",
        "        return x * 2\n",
        "\n",
        "obj = Callable()\n",
        "print(obj(5))  # Output: 10"
      ],
      "metadata": {
        "colab": {
          "base_uri": "https://localhost:8080/"
        },
        "id": "TZ2Yv9lu6yWp",
        "outputId": "a3219271-32aa-4c1a-aef6-ba4095c6e22a"
      },
      "execution_count": null,
      "outputs": [
        {
          "output_type": "stream",
          "name": "stdout",
          "text": [
            "10\n"
          ]
        }
      ]
    },
    {
      "cell_type": "markdown",
      "source": [
        "# ***Practical Question Answers***"
      ],
      "metadata": {
        "id": "37vrX2Ie649y"
      }
    },
    {
      "cell_type": "markdown",
      "source": [
        "1. Create a parent class Animal with a method speak) that prints a generic message. Create a child class Dog that overrides the speak method to print \"Bark!\"."
      ],
      "metadata": {
        "id": "S9MSuKnO7MwM"
      }
    },
    {
      "cell_type": "code",
      "source": [
        "class Animal:\n",
        "    def speak(self):\n",
        "        print(\"Animal speaks\")\n",
        "\n",
        "class Dog(Animal):\n",
        "    def speak(self):\n",
        "        print(\"Bark!\")\n",
        "\n",
        "dog = Dog()\n",
        "dog.speak()\n"
      ],
      "metadata": {
        "colab": {
          "base_uri": "https://localhost:8080/"
        },
        "id": "9h_yhfMj8C6k",
        "outputId": "c135079c-d4bd-433a-a042-aa4f742d1b12"
      },
      "execution_count": null,
      "outputs": [
        {
          "output_type": "stream",
          "name": "stdout",
          "text": [
            "Bark!\n"
          ]
        }
      ]
    },
    {
      "cell_type": "markdown",
      "source": [
        "2. Write a program to create an abstract class Shape with a method area (). Derive classes Circle and Rectangle from it and implement the area ( method in both."
      ],
      "metadata": {
        "id": "qXRB5UEd8HCq"
      }
    },
    {
      "cell_type": "code",
      "source": [
        "from abc import ABC, abstractmethod\n",
        "\n",
        "class Shape(ABC):\n",
        "    @abstractmethod\n",
        "    def area(self):\n",
        "        pass\n",
        "\n",
        "class Circle(Shape):\n",
        "    def __init__(self, radius):\n",
        "        self.radius = radius\n",
        "\n",
        "    def area(self):\n",
        "        return 3.14 * self.radius ** 2\n",
        "\n",
        "class Rectangle(Shape):\n",
        "    def __init__(self, length, width):\n",
        "        self.length = length\n",
        "        self.width = width\n",
        "\n",
        "    def area(self):\n",
        "        return self.length * self.width\n",
        "\n",
        "c = Circle(5)\n",
        "r = Rectangle(4, 5)\n",
        "print(c.area())\n",
        "print(r.area())\n"
      ],
      "metadata": {
        "colab": {
          "base_uri": "https://localhost:8080/"
        },
        "id": "zxTPyN4A8qDP",
        "outputId": "1696c7d7-d4f6-462a-c385-37626c0a938e"
      },
      "execution_count": null,
      "outputs": [
        {
          "output_type": "stream",
          "name": "stdout",
          "text": [
            "78.5\n",
            "20\n"
          ]
        }
      ]
    },
    {
      "cell_type": "markdown",
      "source": [
        "3. Implement a multi-level inheritance scenario where a class Vehicle has an attribute type. Derive a class Car and further derive a class Electricar that adds a battery attribute."
      ],
      "metadata": {
        "id": "R5H0bpqF8IZ3"
      }
    },
    {
      "cell_type": "code",
      "source": [
        "class Vehicle:\n",
        "    def __init__(self, type):\n",
        "        self.type = type\n",
        "\n",
        "class Car(Vehicle):\n",
        "    def __init__(self, type, model):\n",
        "        super().__init__(type)\n",
        "        self.model = model\n",
        "\n",
        "class ElectricCar(Car):\n",
        "    def __init__(self, type, model, battery):\n",
        "        super().__init__(type, model)\n",
        "        self.battery = battery\n",
        "\n",
        "e_car = ElectricCar(\"4-wheeler\", \"Tesla\", \"85kWh\")\n",
        "print(e_car.type, e_car.model, e_car.battery)\n"
      ],
      "metadata": {
        "colab": {
          "base_uri": "https://localhost:8080/"
        },
        "id": "KGAZcZg08uSE",
        "outputId": "99f5df73-fb4d-4d5f-847e-1adc9bc7385b"
      },
      "execution_count": null,
      "outputs": [
        {
          "output_type": "stream",
          "name": "stdout",
          "text": [
            "4-wheeler Tesla 85kWh\n"
          ]
        }
      ]
    },
    {
      "cell_type": "markdown",
      "source": [
        "4. Demonstrate polymorphism by creating a base class Bird with a method fly ). Create two derived classes\n",
        "Sparrow and Penguin that override the fly) method."
      ],
      "metadata": {
        "id": "VaEs4QfT8JzM"
      }
    },
    {
      "cell_type": "code",
      "source": [
        "class Bird:\n",
        "    def fly(self):\n",
        "        print(\"Bird can fly\")\n",
        "\n",
        "class Sparrow(Bird):\n",
        "    def fly(self):\n",
        "        print(\"Sparrow flies\")\n",
        "\n",
        "class Penguin(Bird):\n",
        "    def fly(self):\n",
        "        print(\"Penguin cannot fly\")\n",
        "\n",
        "for bird in [Sparrow(), Penguin()]:\n",
        "    bird.fly()\n"
      ],
      "metadata": {
        "colab": {
          "base_uri": "https://localhost:8080/"
        },
        "id": "5-Zsd6W68xhX",
        "outputId": "b8590007-4ed5-4fbc-bcb1-369325cd5c04"
      },
      "execution_count": null,
      "outputs": [
        {
          "output_type": "stream",
          "name": "stdout",
          "text": [
            "Sparrow flies\n",
            "Penguin cannot fly\n"
          ]
        }
      ]
    },
    {
      "cell_type": "markdown",
      "source": [
        "5. Write a program to demonstrate encapsulation by creating a class BankAccount with private attributes balance and methods to deposit, withdraw, and check"
      ],
      "metadata": {
        "id": "bUadBDgo8Lun"
      }
    },
    {
      "cell_type": "code",
      "source": [
        "class BankAccount:\n",
        "    def __init__(self):\n",
        "        self.__balance = 0\n",
        "\n",
        "    def deposit(self, amount):\n",
        "        self.__balance += amount\n",
        "\n",
        "    def withdraw(self, amount):\n",
        "        if amount <= self.__balance:\n",
        "            self.__balance -= amount\n",
        "\n",
        "    def check_balance(self):\n",
        "        return self.__balance\n",
        "\n",
        "acc = BankAccount()\n",
        "acc.deposit(1000)\n",
        "acc.withdraw(200)\n",
        "print(acc.check_balance())\n"
      ],
      "metadata": {
        "colab": {
          "base_uri": "https://localhost:8080/"
        },
        "id": "7sK99erf8zyI",
        "outputId": "34f6fc18-f9fe-4797-f459-19ae5eb7865b"
      },
      "execution_count": null,
      "outputs": [
        {
          "output_type": "stream",
          "name": "stdout",
          "text": [
            "800\n"
          ]
        }
      ]
    },
    {
      "cell_type": "markdown",
      "source": [
        "6. Demonstrate runtime polymorphism using a method play) in a base class Instrument. Derive classes Guitar and Piano that implement their own version of play)."
      ],
      "metadata": {
        "id": "siHx2sNj8NgK"
      }
    },
    {
      "cell_type": "code",
      "source": [
        "class Instrument:\n",
        "    def play(self):\n",
        "        print(\"Instrument playing\")\n",
        "\n",
        "class Guitar(Instrument):\n",
        "    def play(self):\n",
        "        print(\"Guitar strumming\")\n",
        "\n",
        "class Piano(Instrument):\n",
        "    def play(self):\n",
        "        print(\"Piano playing\")\n",
        "\n",
        "for inst in [Guitar(), Piano()]:\n",
        "    inst.play()\n"
      ],
      "metadata": {
        "colab": {
          "base_uri": "https://localhost:8080/"
        },
        "id": "0Csiy0uY89qc",
        "outputId": "e9ea78dd-c575-4a41-c8b7-2dbabb908938"
      },
      "execution_count": null,
      "outputs": [
        {
          "output_type": "stream",
          "name": "stdout",
          "text": [
            "Guitar strumming\n",
            "Piano playing\n"
          ]
        }
      ]
    },
    {
      "cell_type": "markdown",
      "source": [
        "7. Create a class MathOperations with a class method add _numbers) to add two numbers and a static method subtract_numbers) to subtract two numbers."
      ],
      "metadata": {
        "id": "5vGNzfg78QFz"
      }
    },
    {
      "cell_type": "code",
      "source": [
        "class MathOperations:\n",
        "    @classmethod\n",
        "    def add_numbers(cls, a, b):\n",
        "        return a + b\n",
        "\n",
        "    @staticmethod\n",
        "    def subtract_numbers(a, b):\n",
        "        return a - b\n",
        "\n",
        "print(MathOperations.add_numbers(5, 3))\n",
        "print(MathOperations.subtract_numbers(10, 4))\n"
      ],
      "metadata": {
        "colab": {
          "base_uri": "https://localhost:8080/"
        },
        "id": "dO59aI3d9Hm5",
        "outputId": "c5bd553f-1675-4678-f8ff-428790478335"
      },
      "execution_count": null,
      "outputs": [
        {
          "output_type": "stream",
          "name": "stdout",
          "text": [
            "8\n",
            "6\n"
          ]
        }
      ]
    },
    {
      "cell_type": "markdown",
      "source": [
        "8. Implement a class Person with a class method to count the total number of persons created."
      ],
      "metadata": {
        "id": "41oB5_Y58R9U"
      }
    },
    {
      "cell_type": "code",
      "source": [
        "class Person:\n",
        "    count = 0\n",
        "\n",
        "    def __init__(self):\n",
        "        Person.count += 1\n",
        "\n",
        "    @classmethod\n",
        "    def total_persons(cls):\n",
        "        return cls.count\n",
        "\n",
        "p1 = Person()\n",
        "p2 = Person()\n",
        "print(Person.total_persons())\n"
      ],
      "metadata": {
        "colab": {
          "base_uri": "https://localhost:8080/"
        },
        "id": "Gh3AnTip9Jh1",
        "outputId": "507af75c-e3be-4e7d-fa90-6067377a09c9"
      },
      "execution_count": null,
      "outputs": [
        {
          "output_type": "stream",
          "name": "stdout",
          "text": [
            "2\n"
          ]
        }
      ]
    },
    {
      "cell_type": "markdown",
      "source": [
        "9. Write a class Fraction with attributes numerator and denominator. Override the str method to display the fraction as \"numerator/ denominator\"."
      ],
      "metadata": {
        "id": "562prq1P8Tlf"
      }
    },
    {
      "cell_type": "code",
      "source": [
        "class Fraction:\n",
        "    def __init__(self, numerator, denominator):\n",
        "        self.numerator = numerator\n",
        "        self.denominator = denominator\n",
        "\n",
        "    def __str__(self):\n",
        "        return f\"{self.numerator}/{self.denominator}\"\n",
        "\n",
        "f = Fraction(3, 4)\n",
        "print(f)\n"
      ],
      "metadata": {
        "colab": {
          "base_uri": "https://localhost:8080/"
        },
        "id": "ElU2pxgq9LYl",
        "outputId": "4025d930-83a4-464b-a889-76fb320e0046"
      },
      "execution_count": null,
      "outputs": [
        {
          "output_type": "stream",
          "name": "stdout",
          "text": [
            "3/4\n"
          ]
        }
      ]
    },
    {
      "cell_type": "markdown",
      "source": [
        "10. Demonstrate operator overloading by creating a class Vector and overriding the add method to add two vectors."
      ],
      "metadata": {
        "id": "hUn3-f3b8Vov"
      }
    },
    {
      "cell_type": "code",
      "source": [
        "class Vector:\n",
        "    def __init__(self, x, y):\n",
        "        self.x = x\n",
        "        self.y = y\n",
        "\n",
        "    def __add__(self, other):\n",
        "        return Vector(self.x + other.x, self.y + other.y)\n",
        "\n",
        "    def __str__(self):\n",
        "        return f\"({self.x}, {self.y})\"\n",
        "\n",
        "v1 = Vector(1, 2)\n",
        "v2 = Vector(3, 4)\n",
        "print(v1 + v2)\n"
      ],
      "metadata": {
        "colab": {
          "base_uri": "https://localhost:8080/"
        },
        "id": "rui9st2I9M-Z",
        "outputId": "690fb3bc-137b-4d65-cc9e-080256202fe9"
      },
      "execution_count": null,
      "outputs": [
        {
          "output_type": "stream",
          "name": "stdout",
          "text": [
            "(4, 6)\n"
          ]
        }
      ]
    },
    {
      "cell_type": "markdown",
      "source": [
        "11. Create a class Person with attributes name and age. Add a method greet) that prints \"Hello, my name is {name} and I am {age) years old.\""
      ],
      "metadata": {
        "id": "4vIGHVhv8XVm"
      }
    },
    {
      "cell_type": "code",
      "source": [
        "class Person:\n",
        "    def __init__(self, name, age):\n",
        "        self.name = name\n",
        "        self.age = age\n",
        "\n",
        "    def greet(self):\n",
        "        print(f\"Hello, my name is {self.name} and I am {self.age} years old.\")\n",
        "\n",
        "p = Person(\"Alice\", 30)\n",
        "p.greet()\n"
      ],
      "metadata": {
        "colab": {
          "base_uri": "https://localhost:8080/"
        },
        "id": "se_Ay_It9O-B",
        "outputId": "9cd8b0f0-136b-4f2f-acb4-a4b0de3daa52"
      },
      "execution_count": null,
      "outputs": [
        {
          "output_type": "stream",
          "name": "stdout",
          "text": [
            "Hello, my name is Alice and I am 30 years old.\n"
          ]
        }
      ]
    },
    {
      "cell_type": "markdown",
      "source": [
        "12. Implement a class Student with attributes name and grades. Create a method average -grade ) to compute the average of the grades."
      ],
      "metadata": {
        "id": "JqmQVMUD8ZGn"
      }
    },
    {
      "cell_type": "code",
      "source": [
        "class Student:\n",
        "    def __init__(self, name, grades):\n",
        "        self.name = name\n",
        "        self.grades = grades\n",
        "\n",
        "    def average_grade(self):\n",
        "        return sum(self.grades) / len(self.grades)\n",
        "\n",
        "s = Student(\"John\", [80, 90, 70])\n",
        "print(s.average_grade())\n"
      ],
      "metadata": {
        "colab": {
          "base_uri": "https://localhost:8080/"
        },
        "id": "c8Pyuizt9U9H",
        "outputId": "ca8a0078-ac0a-4806-dcfc-6477d7b6a64b"
      },
      "execution_count": null,
      "outputs": [
        {
          "output_type": "stream",
          "name": "stdout",
          "text": [
            "80.0\n"
          ]
        }
      ]
    },
    {
      "cell_type": "markdown",
      "source": [
        "13. Create a class Rectangle with methods set_dimensions) to set the dimensions and area () to calculate the area."
      ],
      "metadata": {
        "id": "SqlplzuW8blv"
      }
    },
    {
      "cell_type": "code",
      "source": [
        "class Rectangle:\n",
        "    def set_dimensions(self, length, width):\n",
        "        self.length = length\n",
        "        self.width = width\n",
        "\n",
        "    def area(self):\n",
        "        return self.length * self.width\n",
        "\n",
        "r = Rectangle()\n",
        "r.set_dimensions(4, 5)\n",
        "print(r.area())\n"
      ],
      "metadata": {
        "colab": {
          "base_uri": "https://localhost:8080/"
        },
        "id": "VovkqH909WkL",
        "outputId": "0785554b-f662-4447-9707-69bb6db43645"
      },
      "execution_count": null,
      "outputs": [
        {
          "output_type": "stream",
          "name": "stdout",
          "text": [
            "20\n"
          ]
        }
      ]
    },
    {
      "cell_type": "markdown",
      "source": [
        "14. Create a class Employee with a method calculate _salary) that computes the salary based on hours worked and hourly rate. Create a derived class Manager that adds a bonus to the salary."
      ],
      "metadata": {
        "id": "97JJvapk8eEE"
      }
    },
    {
      "cell_type": "code",
      "source": [
        "class Employee:\n",
        "    def __init__(self, hours, rate):\n",
        "        self.hours = hours\n",
        "        self.rate = rate\n",
        "\n",
        "    def calculate_salary(self):\n",
        "        return self.hours * self.rate\n",
        "\n",
        "class Manager(Employee):\n",
        "    def __init__(self, hours, rate, bonus):\n",
        "        super().__init__(hours, rate)\n",
        "        self.bonus = bonus\n",
        "\n",
        "    def calculate_salary(self):\n",
        "        return super().calculate_salary() + self.bonus\n",
        "\n",
        "m = Manager(40, 100, 500)\n",
        "print(m.calculate_salary())\n"
      ],
      "metadata": {
        "colab": {
          "base_uri": "https://localhost:8080/"
        },
        "id": "kpReEeiV9YIN",
        "outputId": "eb545229-6a48-47f9-cbb0-ac78f98d27aa"
      },
      "execution_count": null,
      "outputs": [
        {
          "output_type": "stream",
          "name": "stdout",
          "text": [
            "4500\n"
          ]
        }
      ]
    },
    {
      "cell_type": "markdown",
      "source": [
        "15. Create a class Product with attributes name, price, and quantity. Implement a method total _price ) that calculates the total price of the product."
      ],
      "metadata": {
        "id": "njPZn-L58jEG"
      }
    },
    {
      "cell_type": "code",
      "source": [
        "class Product:\n",
        "    def __init__(self, name, price, quantity):\n",
        "        self.name = name\n",
        "        self.price = price\n",
        "        self.quantity = quantity\n",
        "\n",
        "    def total_price(self):\n",
        "        return self.price * self.quantity\n",
        "\n",
        "p = Product(\"Pen\", 10, 5)\n",
        "print(p.total_price())\n"
      ],
      "metadata": {
        "colab": {
          "base_uri": "https://localhost:8080/"
        },
        "id": "I1ZN-1e29aJ4",
        "outputId": "fa2cfbec-27e8-4873-c9c8-be700fea9944"
      },
      "execution_count": null,
      "outputs": [
        {
          "output_type": "stream",
          "name": "stdout",
          "text": [
            "50\n"
          ]
        }
      ]
    },
    {
      "cell_type": "markdown",
      "source": [
        "16. Create a class Animal with an abstract method sound). Create two derived classes Cow and Sheep that implement the sound () method."
      ],
      "metadata": {
        "id": "8r123cW78kv6"
      }
    },
    {
      "cell_type": "code",
      "source": [
        "from abc import ABC, abstractmethod\n",
        "\n",
        "class Animal(ABC):\n",
        "    @abstractmethod\n",
        "    def sound(self):\n",
        "        pass\n",
        "\n",
        "class Cow(Animal):\n",
        "    def sound(self):\n",
        "        return \"Moo\"\n",
        "\n",
        "class Sheep(Animal):\n",
        "    def sound(self):\n",
        "        return \"Baa\"\n",
        "\n",
        "print(Cow().sound())\n",
        "print(Sheep().sound())\n"
      ],
      "metadata": {
        "colab": {
          "base_uri": "https://localhost:8080/"
        },
        "id": "KTd0X6VB9cAZ",
        "outputId": "91c1d6e9-805e-4458-cdb7-f1dc59ddbc01"
      },
      "execution_count": null,
      "outputs": [
        {
          "output_type": "stream",
          "name": "stdout",
          "text": [
            "Moo\n",
            "Baa\n"
          ]
        }
      ]
    },
    {
      "cell_type": "markdown",
      "source": [
        "17. Create a class Book with attributes title, author, and year_published. Add a method get_book_infol) that returns a formatted string with the book's details."
      ],
      "metadata": {
        "id": "DqoIEkPc8mfJ"
      }
    },
    {
      "cell_type": "code",
      "source": [
        "class Book:\n",
        "    def __init__(self, title, author, year_published):\n",
        "        self.title = title\n",
        "        self.author = author\n",
        "        self.year_published = year_published\n",
        "\n",
        "    def get_book_info(self):\n",
        "        return f\"{self.title} by {self.author}, published in {self.year_published}\"\n",
        "\n",
        "b = Book(\"1984\", \"George Orwell\", 1949)\n",
        "print(b.get_book_info())\n"
      ],
      "metadata": {
        "colab": {
          "base_uri": "https://localhost:8080/"
        },
        "id": "Xy-sAXBC9doz",
        "outputId": "6d1afa86-7539-4c1b-a42a-a40b77b62b36"
      },
      "execution_count": null,
      "outputs": [
        {
          "output_type": "stream",
          "name": "stdout",
          "text": [
            "1984 by George Orwell, published in 1949\n"
          ]
        }
      ]
    },
    {
      "cell_type": "markdown",
      "source": [
        "18. Create a class House with attributes address and price. Create a derived class Mansion that adds an attribute number_of_rooms."
      ],
      "metadata": {
        "id": "yBT5DQbS8oJn"
      }
    },
    {
      "cell_type": "code",
      "source": [
        "class House:\n",
        "    def __init__(self, address, price):\n",
        "        self.address = address\n",
        "        self.price = price\n",
        "\n",
        "class Mansion(House):\n",
        "    def __init__(self, address, price, number_of_rooms):\n",
        "        super().__init__(address, price)\n",
        "        self.number_of_rooms = number_of_rooms\n",
        "\n",
        "m = Mansion(\"123 Road\", 5000000, 10)\n",
        "print(m.address, m.price, m.number_of_rooms)\n"
      ],
      "metadata": {
        "colab": {
          "base_uri": "https://localhost:8080/"
        },
        "id": "Fo8-57718FBz",
        "outputId": "726dd004-1f16-4477-d982-43d4c5ccdf45"
      },
      "execution_count": null,
      "outputs": [
        {
          "output_type": "stream",
          "name": "stdout",
          "text": [
            "123 Road 5000000 10\n"
          ]
        }
      ]
    },
    {
      "cell_type": "code",
      "source": [],
      "metadata": {
        "id": "PABElDNE9l5S"
      },
      "execution_count": null,
      "outputs": []
    }
  ]
}