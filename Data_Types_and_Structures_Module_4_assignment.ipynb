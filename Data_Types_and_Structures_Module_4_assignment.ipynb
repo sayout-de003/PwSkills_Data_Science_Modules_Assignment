{
  "nbformat": 4,
  "nbformat_minor": 0,
  "metadata": {
    "colab": {
      "provenance": []
    },
    "kernelspec": {
      "name": "python3",
      "display_name": "Python 3"
    },
    "language_info": {
      "name": "python"
    }
  },
  "cells": [
    {
      "cell_type": "markdown",
      "source": [
        "1. What are data structures, and why are they important?\n",
        "\n",
        "\n",
        "      Answer:\n",
        "      Data structures are ways to store and organize data efficiently. They help manage data for operations like access, insertion, deletion, and searching.\n",
        "      Example:\n",
        "\n",
        "      Lists store ordered items.\n",
        "\n",
        "      Dictionaries store key-value pairs for fast lookups.\n",
        "\n"
      ],
      "metadata": {
        "id": "1l_aJj57HXHy"
      }
    },
    {
      "cell_type": "markdown",
      "source": [
        "2. Explain the difference between mutable and immutable data types with examples.\n",
        "Answer:\n",
        "\n",
        "          Mutable: Can be changed after creation (e.g., list, dictionary).\n",
        "          Immutable: Cannot be changed after creation (e.g., string, tuple).\n"
      ],
      "metadata": {
        "id": "pjl-uSueHaMY"
      }
    },
    {
      "cell_type": "code",
      "source": [
        "# Mutable\n",
        "lst = [1, 2, 3]\n",
        "lst[0] = 10  # Works"
      ],
      "metadata": {
        "id": "9p7QgKi2IFFw"
      },
      "execution_count": null,
      "outputs": []
    },
    {
      "cell_type": "code",
      "source": [
        "# Immutable\n",
        "tup = (1, 2, 3)\n",
        "tup[0] = 10  # Raises TypeError"
      ],
      "metadata": {
        "colab": {
          "base_uri": "https://localhost:8080/",
          "height": 190
        },
        "id": "OPISuVI2IOqx",
        "outputId": "5550bdcf-3446-4376-84a6-6fbafe2ab3b6"
      },
      "execution_count": null,
      "outputs": [
        {
          "output_type": "error",
          "ename": "TypeError",
          "evalue": "'tuple' object does not support item assignment",
          "traceback": [
            "\u001b[0;31m---------------------------------------------------------------------------\u001b[0m",
            "\u001b[0;31mTypeError\u001b[0m                                 Traceback (most recent call last)",
            "\u001b[0;32m/tmp/ipython-input-2-3323226882.py\u001b[0m in \u001b[0;36m<cell line: 0>\u001b[0;34m()\u001b[0m\n\u001b[1;32m      1\u001b[0m \u001b[0;31m# Immutable\u001b[0m\u001b[0;34m\u001b[0m\u001b[0;34m\u001b[0m\u001b[0m\n\u001b[1;32m      2\u001b[0m \u001b[0mtup\u001b[0m \u001b[0;34m=\u001b[0m \u001b[0;34m(\u001b[0m\u001b[0;36m1\u001b[0m\u001b[0;34m,\u001b[0m \u001b[0;36m2\u001b[0m\u001b[0;34m,\u001b[0m \u001b[0;36m3\u001b[0m\u001b[0;34m)\u001b[0m\u001b[0;34m\u001b[0m\u001b[0;34m\u001b[0m\u001b[0m\n\u001b[0;32m----> 3\u001b[0;31m \u001b[0mtup\u001b[0m\u001b[0;34m[\u001b[0m\u001b[0;36m0\u001b[0m\u001b[0;34m]\u001b[0m \u001b[0;34m=\u001b[0m \u001b[0;36m10\u001b[0m  \u001b[0;31m# Raises TypeError\u001b[0m\u001b[0;34m\u001b[0m\u001b[0;34m\u001b[0m\u001b[0m\n\u001b[0m",
            "\u001b[0;31mTypeError\u001b[0m: 'tuple' object does not support item assignment"
          ]
        }
      ]
    },
    {
      "cell_type": "markdown",
      "source": [
        "3. What are the main differences between lists and tuples in Python?\n",
        "\n",
        "         Mutability:\n",
        "            Lists are mutable, meaning their contents can be\n",
        "            changed after creation. You can add, remove, or update\n",
        "            elements in a list. In contrast, tuples are\n",
        "            immutable, which means once created, their elements\n",
        "            cannot be modified. This immutability makes tuples\n",
        "            more suitable for constant data that shouldn't\n",
        "            change throughout the program.\n",
        "\n",
        "        Syntax:\n",
        "            Lists are defined using square brackets: [1, 2, 3].\n",
        "            Tuples, on the other hand, use parentheses: (1, 2, 3).\n",
        "            This syntactical difference makes it easy to\n",
        "            distinguish between the two at a glance.\n",
        "\n",
        "        Performance:\n",
        "            Tuples are faster than lists in terms of performance.\n",
        "            This is primarily because their immutability allows\n",
        "            for optimizations at the interpreter level. Lists,\n",
        "            being mutable, require additional overhead to handle\n",
        "            dynamic operations, making them slower in comparison.\n",
        "\n",
        "        Use Case:\n",
        "            Lists are preferred when the data is dynamic and may\n",
        "            need modifications during execution — such as\n",
        "            collecting user input, appending values, or modifying\n",
        "            items. Tuples are ideal for fixed data collections —\n",
        "            such as coordinates, RGB color values, or data you\n",
        "            want to ensure remains constant throughout the program.\n"
      ],
      "metadata": {
        "id": "UgklKEhnIX1b"
      }
    },
    {
      "cell_type": "markdown",
      "source": [
        "4. Describe how dictionaries store data.\n",
        "\n",
        "        Answer:\n",
        "          Dictionaries store data as key-value pairs using a hash table. Keys must be hashable."
      ],
      "metadata": {
        "id": "QNm6klBUJIp6"
      }
    },
    {
      "cell_type": "code",
      "source": [
        "student = {'name': 'Alice', 'age': 21}\n",
        "print(student['name'])  # Output: Alice\n"
      ],
      "metadata": {
        "colab": {
          "base_uri": "https://localhost:8080/"
        },
        "id": "tICSoyXwJZy0",
        "outputId": "61768ec6-2559-449e-8be1-13b19b7f9081"
      },
      "execution_count": null,
      "outputs": [
        {
          "output_type": "stream",
          "name": "stdout",
          "text": [
            "Alice\n"
          ]
        }
      ]
    },
    {
      "cell_type": "markdown",
      "source": [
        "5. Why might you use a set instead of a list in Python?\n",
        "\n",
        "        Answer:\n",
        "        Sets automatically remove duplicates and allow faster\n",
        "        membership tests.For removig duplicates and work with unique values we can convert a list into set."
      ],
      "metadata": {
        "id": "jl7sFqAAJjhf"
      }
    },
    {
      "cell_type": "code",
      "source": [
        "numbers = [1, 2, 2, 3]\n",
        "unique = set(numbers)  # {1, 2, 3}\n",
        "print(numbers)\n",
        "print(unique)"
      ],
      "metadata": {
        "colab": {
          "base_uri": "https://localhost:8080/"
        },
        "id": "5T3gUhZ1J3O5",
        "outputId": "9c69bb4c-6354-4a12-86cb-9fb1c9e337d9"
      },
      "execution_count": null,
      "outputs": [
        {
          "output_type": "stream",
          "name": "stdout",
          "text": [
            "[1, 2, 2, 3]\n",
            "{1, 2, 3}\n"
          ]
        }
      ]
    },
    {
      "cell_type": "markdown",
      "source": [
        "6. What is a string in Python, and how is it different from a list?\n",
        "      \n",
        "          Answer:\n",
        "              A string is an immutable sequence of characters. A list can hold any data type and is mutable."
      ],
      "metadata": {
        "id": "t60z8ZIJKDfw"
      }
    },
    {
      "cell_type": "code",
      "source": [
        "s = \"hello\"\n",
        "l = list(s)\n",
        "print(\"String: \", s)\n",
        "print(\"List: \", l)\n",
        "l[0] = 'p'\n",
        "print(\"Modified List: \", l)"
      ],
      "metadata": {
        "colab": {
          "base_uri": "https://localhost:8080/"
        },
        "id": "q6IZdzIUKMRx",
        "outputId": "d1300d21-79d1-46a5-d698-59d2c9b7ac99"
      },
      "execution_count": null,
      "outputs": [
        {
          "output_type": "stream",
          "name": "stdout",
          "text": [
            "String:  hello\n",
            "List:  ['h', 'e', 'l', 'l', 'o']\n",
            "Modified List:  ['p', 'e', 'l', 'l', 'o']\n"
          ]
        }
      ]
    },
    {
      "cell_type": "markdown",
      "source": [
        "7. How do tuples ensure data integrity in Python?\n",
        "\n",
        "        Answer:\n",
        "        Tuples are immutable, so once created, data cannot be altered, ensuring consistency.\n",
        "\n"
      ],
      "metadata": {
        "id": "E8QLUsYkKj35"
      }
    },
    {
      "cell_type": "code",
      "source": [
        "coords = (10.0, 20.0)  # Can't be changed later\n",
        "try:\n",
        "    coords[0] = 11.0\n",
        "except Exception as e:\n",
        "    print(\"Exception: \",e)\n"
      ],
      "metadata": {
        "colab": {
          "base_uri": "https://localhost:8080/"
        },
        "id": "VvvemUXcKvzw",
        "outputId": "c584731b-74ca-4626-9136-8af1fb8c5a6b"
      },
      "execution_count": null,
      "outputs": [
        {
          "output_type": "stream",
          "name": "stdout",
          "text": [
            "Exception:  'tuple' object does not support item assignment\n"
          ]
        }
      ]
    },
    {
      "cell_type": "markdown",
      "source": [
        "8. What is a hash table, and how does it relate to dictionaries in Python?\n",
        "        Answer:\n",
        "                A hash table is a data structure that maps keys to values using a hash function.\n",
        "                Python dictionaries are implemented using hash tables\n",
        "\n",
        "                In Python, a dict is an implementation of a hash table. When you store a key-value pair in a dictionary:\n",
        "\n",
        "            1. The key is passed through a hash function (using Python’s built-in hash()).\n",
        "            \n",
        "            2. This hash value determines where the value is stored in memory.\n",
        "\n",
        "            3. On lookup, the key is hashed again and used to access the value directly.\n",
        "\n",
        "            \n"
      ],
      "metadata": {
        "id": "Bfg7t8YSLH7M"
      }
    },
    {
      "cell_type": "code",
      "source": [
        "# Creating a dictionary (uses a hash table internally)\n",
        "person = {\n",
        "    \"name\": \"Alice\",\n",
        "    \"age\": 30,\n",
        "    \"location\": \"New York\"\n",
        "}\n",
        "\n",
        "# Accessing values (fast lookup using hash table)\n",
        "print(person[\"name\"])      # Output: Alice\n",
        "print(person.get(\"age\"))   # Output: 30\n",
        "\n",
        "# Adding a new key-value pair\n",
        "person[\"email\"] = \"alice@example.com\"\n",
        "\n",
        "# Modifying a value\n",
        "person[\"age\"] = 31\n",
        "\n",
        "# Deleting a key\n",
        "del person[\"location\"]\n",
        "\n",
        "# Final dictionary\n",
        "print(person)\n"
      ],
      "metadata": {
        "colab": {
          "base_uri": "https://localhost:8080/"
        },
        "id": "z8q2TH_pLpPB",
        "outputId": "2b26decc-e93a-49d6-90e7-a6f9f1379fa2"
      },
      "execution_count": null,
      "outputs": [
        {
          "output_type": "stream",
          "name": "stdout",
          "text": [
            "Alice\n",
            "30\n",
            "{'name': 'Alice', 'age': 31, 'email': 'alice@example.com'}\n"
          ]
        }
      ]
    },
    {
      "cell_type": "markdown",
      "source": [
        "9. Can lists contain different data types in Python?\n",
        "\n",
        "        Answer:\n",
        "        Yes, lists can store mixed data types.\n",
        "\n",
        "\n"
      ],
      "metadata": {
        "id": "Y2SjX1a4LtJu"
      }
    },
    {
      "cell_type": "code",
      "source": [
        "mixed = [1, \"hello\", 3.14, True]\n",
        "for m in mixed:\n",
        "  print(type(m), \" - \" , m)"
      ],
      "metadata": {
        "colab": {
          "base_uri": "https://localhost:8080/"
        },
        "id": "RaKSbHppLvdA",
        "outputId": "4a3a185f-22ce-43d9-8ff4-8a6a43460c1d"
      },
      "execution_count": null,
      "outputs": [
        {
          "output_type": "stream",
          "name": "stdout",
          "text": [
            "<class 'int'>  -  1\n",
            "<class 'str'>  -  hello\n",
            "<class 'float'>  -  3.14\n",
            "<class 'bool'>  -  True\n"
          ]
        }
      ]
    },
    {
      "cell_type": "markdown",
      "source": [
        "10. Explain why strings are immutable in Python.\n",
        "\n",
        "    Strings in Python are immutable, meaning once a string is created, it cannot be changed.\n",
        "      Any operation that seems to modify a string actually creates a new string.\n",
        "\n",
        "    **Reasons for String Immutability:**\n",
        "\n",
        "    **Memory Efficiency (String Interning):**\n",
        "    Python optimizes memory by reusing strings (called interning).\n",
        "    This is only safe if strings can’t be changed — otherwise, one change would affect all variables pointing to the same string.\n",
        "\n",
        "    **Hashing and Dictionary Keys:**\n",
        "    Strings are often used as keys in dictionaries, which require keys to be hashable.\n",
        "    Immutability ensures that a string’s hash value stays the same, making lookup safe and consistent.\n",
        "\n",
        "    **Thread Safety:**\n",
        "    Immutable objects are naturally thread-safe.\n",
        "    Multiple threads can access the same string without synchronization issues, since the data can't be changed.\n",
        "\n",
        "    **Predictable Behavior:**\n",
        "    Since strings can’t change, their behavior is consistent and easy to reason about.\n",
        "    This helps prevent bugs in large-scale applications.\n",
        "\n"
      ],
      "metadata": {
        "id": "_3XLE7TjW_Uf"
      }
    },
    {
      "cell_type": "markdown",
      "source": [
        "11. What advantages do dictionaries offer over lists for certain tasks?\n",
        "    Answer:\n",
        "\n",
        "    Faster lookups (O(1)).\n",
        "    Associative data storage via keys."
      ],
      "metadata": {
        "id": "hf5h4XtBXhGO"
      }
    },
    {
      "cell_type": "code",
      "source": [
        "users = {'alice': 1001, 'bob': 1002}\n",
        "print(users['alice'])"
      ],
      "metadata": {
        "colab": {
          "base_uri": "https://localhost:8080/"
        },
        "id": "kYb8mZhAYBCB",
        "outputId": "1832ed72-9346-4b46-e38f-23f008c40125"
      },
      "execution_count": null,
      "outputs": [
        {
          "output_type": "stream",
          "name": "stdout",
          "text": [
            "1001\n"
          ]
        }
      ]
    },
    {
      "cell_type": "markdown",
      "source": [
        "12. Describe a scenario where using a tuple would be preferable over a list.\n",
        "          A tuple is preferable over a list in scenarios\n",
        "           where immutability, performance, or data integrity is important.  \n",
        "          \n",
        "           "
      ],
      "metadata": {
        "id": "D3mHWjMRYLjI"
      }
    },
    {
      "cell_type": "code",
      "source": [
        "#For example, when storing the coordinates of cities as keys and their names as values:\n",
        "\n",
        "city_data = {\n",
        "    (28.6139, 77.2090): \"New Delhi\",\n",
        "    (19.0760, 72.8777): \"Mumbai\"\n",
        "}\n",
        "print(city_data[(28.6139, 77.2090)])\n",
        "#Here, a tuple is used because it is immutable and hashable, allowing it to be used as a dictionary key.\n",
        "#Lists cannot be used in such a case because they are mutable and unhashable."
      ],
      "metadata": {
        "colab": {
          "base_uri": "https://localhost:8080/"
        },
        "id": "akQW9ivwSsoq",
        "outputId": "09e52edc-4662-42cb-d0a8-739c4257bfed"
      },
      "execution_count": null,
      "outputs": [
        {
          "output_type": "stream",
          "name": "stdout",
          "text": [
            "New Delhi\n"
          ]
        }
      ]
    },
    {
      "cell_type": "markdown",
      "source": [
        "13. How do sets handle duplicate values in Python?\n",
        "\n",
        "        n Python, sets automatically eliminate duplicate values.\n",
        "        When duplicate elements are added to a set, only one instance of each unique element is stored.\n",
        "         Sets are unordered collections of unique items."
      ],
      "metadata": {
        "id": "X7qit2X5TSpS"
      }
    },
    {
      "cell_type": "code",
      "source": [
        "my_set = {1, 2, 2, 3, 4, 4, 4}\n",
        "print(my_set)\n"
      ],
      "metadata": {
        "colab": {
          "base_uri": "https://localhost:8080/"
        },
        "id": "HWM-Xe4CTTtV",
        "outputId": "1f533bc7-d752-46ab-a924-218fb29587a8"
      },
      "execution_count": null,
      "outputs": [
        {
          "output_type": "stream",
          "name": "stdout",
          "text": [
            "{1, 2, 3, 4}\n"
          ]
        }
      ]
    },
    {
      "cell_type": "markdown",
      "source": [
        "14. How does the “in” keyword work differently for lists and dictionaries?\n",
        "\n",
        "\n",
        "      Answer:\n",
        "      List: Checks for values.\n",
        "      Dict: Checks for keys only."
      ],
      "metadata": {
        "id": "VFC-rDuQTj5e"
      }
    },
    {
      "cell_type": "code",
      "source": [
        "print(3 in [1, 2, 3])                 # True\n",
        "print('name' in {'name': 'Alice'})   # True\n",
        "print('Alice' in {'name': 'Alice'})  # False"
      ],
      "metadata": {
        "colab": {
          "base_uri": "https://localhost:8080/"
        },
        "id": "OQdgQ6Y9Tf2H",
        "outputId": "6528d3ed-cc85-442f-def6-a0a5868281e2"
      },
      "execution_count": null,
      "outputs": [
        {
          "output_type": "stream",
          "name": "stdout",
          "text": [
            "True\n",
            "True\n",
            "False\n"
          ]
        }
      ]
    },
    {
      "cell_type": "markdown",
      "source": [
        "15. Can you modify the elements of a tuple? Explain why or why not.\n",
        "\n",
        "        Answer:\n",
        "          No, you cannot modify the elements of a tuple in Python because tuples are immutable.\n",
        "          Once a tuple is created, its elements cannot be changed, added, or removed.\n",
        "\n",
        "        This immutability ensures data integrity and allows tuples\n",
        "        to be used as keys in dictionaries or elements in sets, which require hashable types."
      ],
      "metadata": {
        "id": "jmWslfXJUTn5"
      }
    },
    {
      "cell_type": "code",
      "source": [
        "t = (1, 2, 3)\n",
        "t[0] = 10  # This will raise a TypeError\n"
      ],
      "metadata": {
        "colab": {
          "base_uri": "https://localhost:8080/",
          "height": 173
        },
        "id": "_zXIyR8zUnnY",
        "outputId": "a113432e-1d4e-468c-8887-495ffffd7dd8"
      },
      "execution_count": null,
      "outputs": [
        {
          "output_type": "error",
          "ename": "TypeError",
          "evalue": "'tuple' object does not support item assignment",
          "traceback": [
            "\u001b[0;31m---------------------------------------------------------------------------\u001b[0m",
            "\u001b[0;31mTypeError\u001b[0m                                 Traceback (most recent call last)",
            "\u001b[0;32m/tmp/ipython-input-7-4076137353.py\u001b[0m in \u001b[0;36m<cell line: 0>\u001b[0;34m()\u001b[0m\n\u001b[1;32m      1\u001b[0m \u001b[0mt\u001b[0m \u001b[0;34m=\u001b[0m \u001b[0;34m(\u001b[0m\u001b[0;36m1\u001b[0m\u001b[0;34m,\u001b[0m \u001b[0;36m2\u001b[0m\u001b[0;34m,\u001b[0m \u001b[0;36m3\u001b[0m\u001b[0;34m)\u001b[0m\u001b[0;34m\u001b[0m\u001b[0;34m\u001b[0m\u001b[0m\n\u001b[0;32m----> 2\u001b[0;31m \u001b[0mt\u001b[0m\u001b[0;34m[\u001b[0m\u001b[0;36m0\u001b[0m\u001b[0;34m]\u001b[0m \u001b[0;34m=\u001b[0m \u001b[0;36m10\u001b[0m  \u001b[0;31m# This will raise a TypeError\u001b[0m\u001b[0;34m\u001b[0m\u001b[0;34m\u001b[0m\u001b[0m\n\u001b[0m",
            "\u001b[0;31mTypeError\u001b[0m: 'tuple' object does not support item assignment"
          ]
        }
      ]
    },
    {
      "cell_type": "markdown",
      "source": [
        "16. What is a nested dictionary, and give an example of its use case?\n",
        "\n",
        "          Answer:\n",
        "\n",
        "          A nested dictionary is a dictionary where values can be other dictionaries.\n",
        "          It allows storing hierarchical or structured data in a key-value format."
      ],
      "metadata": {
        "id": "kjCPNwsbU8Jt"
      }
    },
    {
      "cell_type": "code",
      "source": [
        "students = {\n",
        "    'John': {'Math': 90, 'Science': 85},\n",
        "    'Alice': {'Math': 95, 'Science': 92}\n",
        "}\n",
        "\n",
        "print(students['Alice']['Science'])  # Output: 92\n"
      ],
      "metadata": {
        "colab": {
          "base_uri": "https://localhost:8080/"
        },
        "id": "wHjlmCzYU1-a",
        "outputId": "f12b5563-b946-459a-922c-366647ac48bc"
      },
      "execution_count": null,
      "outputs": [
        {
          "output_type": "stream",
          "name": "stdout",
          "text": [
            "92\n"
          ]
        }
      ]
    },
    {
      "cell_type": "markdown",
      "source": [
        "17. Describe the time complexity of accessing elements in a dictionary.\n",
        "\n",
        "        Answer:\n",
        "\n",
        "        Accessing elements in a Python dictionary has an average time complexity of O(1),\n",
        "        which means it takes constant time regardless of the dictionary size.\n",
        "\n",
        "        This efficiency is due to the hash table implementation of dictionaries. Each key is hashed,\n",
        "        and the resulting index points directly to the value's location."
      ],
      "metadata": {
        "id": "mIahRlv9VM5z"
      }
    },
    {
      "cell_type": "code",
      "source": [
        "data = {'a': 10, 'b': 20}\n",
        "print(data['b'])  # Output: 20\n"
      ],
      "metadata": {
        "colab": {
          "base_uri": "https://localhost:8080/"
        },
        "id": "s0jkGq4VVHov",
        "outputId": "f6e8f152-206e-406e-ab75-6abf4e739ef0"
      },
      "execution_count": null,
      "outputs": [
        {
          "output_type": "stream",
          "name": "stdout",
          "text": [
            "20\n"
          ]
        }
      ]
    },
    {
      "cell_type": "markdown",
      "source": [
        "18. In what situations are lists preferred over dictionaries?\n",
        "\n",
        "          Lists are preferred over dictionaries in the following\n",
        "          situations:\n",
        "          \n",
        "          Ordered Data:\n",
        "          Lists maintain the order of elements, unlike dictionaries.\n",
        "          \n",
        "          Index-Based Access:\n",
        "          Elements can be accessed using integer indices, which is useful in position-based operations.\n",
        "          \n",
        "          Simple Sequence Storage:\n",
        "          Lists are ideal for storing a collection of values without requiring named keys.\n",
        "          \n",
        "          Efficient Iteration:\n",
        "          Iterating over lists is straightforward and follows the original insertion order.\n",
        "          \n",
        "          Lower Memory Usage:\n",
        "          Lists consume less memory than dictionaries since they do not store keys.\n"
      ],
      "metadata": {
        "id": "TUV9WCTZVbJh"
      }
    },
    {
      "cell_type": "code",
      "source": [
        "# 1. Ordered Data\n",
        "cities = ['Delhi', 'Mumbai', 'Chennai']\n",
        "\n",
        "# 2. Index-Based Access\n",
        "print(cities[0])  # Output: Delhi\n",
        "\n",
        "# 3. Simple Sequence\n",
        "primes = [2, 3, 5, 7, 11]\n",
        "\n",
        "# 4. Efficient Iteration\n",
        "for city in cities:\n",
        "    print(city)\n",
        "\n",
        "# 5. Lower Memory Usage\n",
        "# Lists are compact and suitable for simple datasets\n"
      ],
      "metadata": {
        "colab": {
          "base_uri": "https://localhost:8080/"
        },
        "id": "n0QiaLx0VYwB",
        "outputId": "15b07352-59a8-4507-bb5c-8eb75077fa87"
      },
      "execution_count": null,
      "outputs": [
        {
          "output_type": "stream",
          "name": "stdout",
          "text": [
            "Delhi\n",
            "Delhi\n",
            "Mumbai\n",
            "Chennai\n"
          ]
        }
      ]
    },
    {
      "cell_type": "markdown",
      "source": [
        "19. Why are dictionaries considered unordered, and how does that affect data retrieval?\n",
        "\n",
        "        Answer:\n",
        "\n",
        "        Dictionaries were traditionally considered unordered because they did not maintain the insertion order of key-value pairs (prior to Python 3.7).\n",
        "        From Python 3.7 onwards, dictionaries preserve insertion order, but they are still conceptually unordered because data is stored based on hashing, not sequence.\n",
        "\n",
        "        Effect on Data Retrieval:\n",
        "\n",
        "        Access by key only: You cannot access dictionary elements by index; only by key.\n",
        "\n",
        "        No guaranteed order (in older versions): The order of items may not reflect insertion order.\n",
        "        \n",
        "        Efficient lookups: Despite being unordered, retrieval by key is fast (average time complexity O(1)).\n"
      ],
      "metadata": {
        "id": "hBgv3YRxWUxT"
      }
    },
    {
      "cell_type": "code",
      "source": [
        "data = {'name': 'Alice', 'age': 25, 'city': 'Delhi'}\n",
        "print(data['age'])  # Output: 25\n",
        "\n",
        "# Access by key is allowed\n",
        "# Access by index like data[0] is invalid\n"
      ],
      "metadata": {
        "colab": {
          "base_uri": "https://localhost:8080/"
        },
        "id": "XL-1yCjkWNLu",
        "outputId": "fb314850-4f1a-462d-dc8c-43a4fbe5e8ed"
      },
      "execution_count": null,
      "outputs": [
        {
          "output_type": "stream",
          "name": "stdout",
          "text": [
            "25\n"
          ]
        }
      ]
    },
    {
      "cell_type": "markdown",
      "source": [
        "20. Explain the difference between a list and a dictionary in terms of data retrieval.\n",
        "\n",
        "\n",
        "      Answer:\n",
        "      Access Method:\n",
        "      List: Elements are accessed using integer indices starting from 0.\n",
        "      Dictionary: Elements are accessed using unique keys.\n",
        "      Data Structure Type:\n",
        "      List: Stores data in a sequential manner.\n",
        "      Dictionary: Stores data as key-value pairs.\n",
        "      Retrieval Speed:\n",
        "      List: Accessing by index is fast (O(1)), but searching by value is slower (O(n)).\n",
        "      Dictionary: Access by key is very fast (O(1) on average) due to internal hashing.\n",
        "      Use Case:\n",
        "      List: Best when position matters, or when working with ordered collections.\n",
        "      Dictionary: Best when fast lookup by name/label/key is needed.\n",
        "      Ordering:\n",
        "      List: Always ordered.\n",
        "      Dictionary: Maintains insertion order from Python 3.7+, but ordering is not used for access.\n"
      ],
      "metadata": {
        "id": "eCvATfu-W8Dq"
      }
    },
    {
      "cell_type": "code",
      "source": [
        "# List example\n",
        "fruits = ['apple', 'banana', 'cherry']\n",
        "print(fruits[1])  # Output: banana (access by index)\n",
        "\n",
        "# Dictionary example\n",
        "student = {'name': 'Alice', 'age': 22, 'grade': 'A'}\n",
        "print(student['grade'])  # Output: A (access by key)\n"
      ],
      "metadata": {
        "colab": {
          "base_uri": "https://localhost:8080/"
        },
        "id": "oD-JJ4KOXHxr",
        "outputId": "a7858594-60b5-456f-cf64-15dd7a64c682"
      },
      "execution_count": null,
      "outputs": [
        {
          "output_type": "stream",
          "name": "stdout",
          "text": [
            "banana\n",
            "A\n"
          ]
        }
      ]
    },
    {
      "cell_type": "markdown",
      "source": [
        "***Practical Questions***"
      ],
      "metadata": {
        "id": "9W5hF6v5kT6y"
      }
    },
    {
      "cell_type": "markdown",
      "source": [
        "1. Write a code to create a string with your name and print it."
      ],
      "metadata": {
        "id": "GN1LQJE5Xc0i"
      }
    },
    {
      "cell_type": "code",
      "source": [
        "# Creating a string with my name\n",
        "name = \"Sayantan\"\n",
        "print(name)\n"
      ],
      "metadata": {
        "colab": {
          "base_uri": "https://localhost:8080/"
        },
        "id": "BQL__BPJX4wF",
        "outputId": "3955a5f3-c9a9-4055-d326-3e4fc8b9839d"
      },
      "execution_count": 1,
      "outputs": [
        {
          "output_type": "stream",
          "name": "stdout",
          "text": [
            "Sayantan\n"
          ]
        }
      ]
    },
    {
      "cell_type": "markdown",
      "source": [
        "2. Write a code to find the length of the string \"Hello World\"."
      ],
      "metadata": {
        "id": "c8Co7IulYCst"
      }
    },
    {
      "cell_type": "code",
      "source": [
        "s = \"Hello World\"\n",
        "print(len(s))\n"
      ],
      "metadata": {
        "colab": {
          "base_uri": "https://localhost:8080/"
        },
        "id": "9aIRsvrUX6DH",
        "outputId": "079c015e-2936-46d1-d968-9f5f37d4aa53"
      },
      "execution_count": 2,
      "outputs": [
        {
          "output_type": "stream",
          "name": "stdout",
          "text": [
            "11\n"
          ]
        }
      ]
    },
    {
      "cell_type": "markdown",
      "source": [
        "3. Write a code to slice the first 3 characters from the string \"Python Programming\"."
      ],
      "metadata": {
        "id": "qKXC5I_1YGfa"
      }
    },
    {
      "cell_type": "code",
      "source": [
        "text = \"Python Programming\"\n",
        "print(text[:3])\n"
      ],
      "metadata": {
        "colab": {
          "base_uri": "https://localhost:8080/"
        },
        "id": "kInXr_eUYEHy",
        "outputId": "206b3794-4563-4fc5-f1b3-984af2847ac0"
      },
      "execution_count": 3,
      "outputs": [
        {
          "output_type": "stream",
          "name": "stdout",
          "text": [
            "Pyt\n"
          ]
        }
      ]
    },
    {
      "cell_type": "markdown",
      "source": [
        "4. Write a code to convert the string \"hello\" to uppercase."
      ],
      "metadata": {
        "id": "q1GlXg_CYYrr"
      }
    },
    {
      "cell_type": "code",
      "source": [
        "s = \"hello\"\n",
        "print(s.upper())\n"
      ],
      "metadata": {
        "colab": {
          "base_uri": "https://localhost:8080/"
        },
        "id": "MUX-M_eaYIry",
        "outputId": "84f3baf5-bfa2-48c4-8079-0c0858a43fcd"
      },
      "execution_count": 4,
      "outputs": [
        {
          "output_type": "stream",
          "name": "stdout",
          "text": [
            "HELLO\n"
          ]
        }
      ]
    },
    {
      "cell_type": "markdown",
      "source": [
        "5. Write a code to replace the word \"apple\" with \"orange\" in the string \"I like apple\"."
      ],
      "metadata": {
        "id": "XKN5InaaYcTb"
      }
    },
    {
      "cell_type": "code",
      "source": [
        "s = \"I like apple\"\n",
        "print(s.replace(\"apple\", \"orange\"))\n"
      ],
      "metadata": {
        "colab": {
          "base_uri": "https://localhost:8080/"
        },
        "id": "LAkYISOtYa0i",
        "outputId": "5be488d7-0c9e-407d-bc57-400d5f3b48a5"
      },
      "execution_count": 5,
      "outputs": [
        {
          "output_type": "stream",
          "name": "stdout",
          "text": [
            "I like orange\n"
          ]
        }
      ]
    },
    {
      "cell_type": "markdown",
      "source": [
        "6. Write a code to create a list with numbers 1 to 5 and print it."
      ],
      "metadata": {
        "id": "TvOS7GZKYi2K"
      }
    },
    {
      "cell_type": "code",
      "source": [
        "lst = [1, 2, 3, 4, 5]\n",
        "print(lst)\n"
      ],
      "metadata": {
        "colab": {
          "base_uri": "https://localhost:8080/"
        },
        "id": "Yo9n5t4IYip_",
        "outputId": "96dd42a2-526b-4deb-f0b0-1f8eb9737eb8"
      },
      "execution_count": 6,
      "outputs": [
        {
          "output_type": "stream",
          "name": "stdout",
          "text": [
            "[1, 2, 3, 4, 5]\n"
          ]
        }
      ]
    },
    {
      "cell_type": "markdown",
      "source": [
        "7. Write a code to append the number 10 to the list [1, 2, 3, 4]."
      ],
      "metadata": {
        "id": "8JWN4cvCYorn"
      }
    },
    {
      "cell_type": "code",
      "source": [
        "lst = [1, 2, 3, 4]\n",
        "lst.append(10)\n",
        "print(lst)\n"
      ],
      "metadata": {
        "colab": {
          "base_uri": "https://localhost:8080/"
        },
        "id": "XcBFdwVTYee8",
        "outputId": "8232a2c2-f511-4ad4-d8d3-d50545d2ce97"
      },
      "execution_count": 7,
      "outputs": [
        {
          "output_type": "stream",
          "name": "stdout",
          "text": [
            "[1, 2, 3, 4, 10]\n"
          ]
        }
      ]
    },
    {
      "cell_type": "markdown",
      "source": [
        "8. Write a code to remove the number 3 from the list [1, 2, 3, 4, 5]."
      ],
      "metadata": {
        "id": "xBH-SURSYtVx"
      }
    },
    {
      "cell_type": "code",
      "source": [
        "lst = [1, 2, 3, 4, 5]\n",
        "lst.remove(3)\n",
        "print(lst)\n"
      ],
      "metadata": {
        "colab": {
          "base_uri": "https://localhost:8080/"
        },
        "id": "uVzJfuEgYrwo",
        "outputId": "970d0a1e-f1e5-44c4-97ff-b99f415b7859"
      },
      "execution_count": 8,
      "outputs": [
        {
          "output_type": "stream",
          "name": "stdout",
          "text": [
            "[1, 2, 4, 5]\n"
          ]
        }
      ]
    },
    {
      "cell_type": "markdown",
      "source": [
        "9. Write a code to access the second element in the list ['a', 'b', 'c', 'd']."
      ],
      "metadata": {
        "id": "xUfJ-Hm_YyuT"
      }
    },
    {
      "cell_type": "code",
      "source": [
        "lst = ['a', 'b', 'c', 'd']\n",
        "print(lst[1])\n"
      ],
      "metadata": {
        "colab": {
          "base_uri": "https://localhost:8080/"
        },
        "id": "CUFJXxb9YwCq",
        "outputId": "dab44ad0-a113-48c3-99a5-14183812b8fc"
      },
      "execution_count": 9,
      "outputs": [
        {
          "output_type": "stream",
          "name": "stdout",
          "text": [
            "b\n"
          ]
        }
      ]
    },
    {
      "cell_type": "markdown",
      "source": [
        "10. Write a code to reverse the list [10, 20, 30, 40, 50]."
      ],
      "metadata": {
        "id": "rz_9LhvBY258"
      }
    },
    {
      "cell_type": "code",
      "source": [
        "lst = [10, 20, 30, 40, 50]\n",
        "print(\"first method: \", lst[::-1])\n",
        "lst.reverse()\n",
        "print(\"Second Method: \", lst)\n"
      ],
      "metadata": {
        "colab": {
          "base_uri": "https://localhost:8080/"
        },
        "id": "2Fc5Saa1Y1L9",
        "outputId": "5f70f920-0a8b-4261-bdbd-677fe1d251ae"
      },
      "execution_count": 11,
      "outputs": [
        {
          "output_type": "stream",
          "name": "stdout",
          "text": [
            "first method:  [50, 40, 30, 20, 10]\n",
            "Second Method:  [50, 40, 30, 20, 10]\n"
          ]
        }
      ]
    },
    {
      "cell_type": "markdown",
      "source": [
        "11. Write a code to create a tuple with the elements 100, 200, 300 and print it."
      ],
      "metadata": {
        "id": "Bw_I0lRrZNST"
      }
    },
    {
      "cell_type": "code",
      "source": [
        "t = (100, 200, 300)\n",
        "print(t)\n"
      ],
      "metadata": {
        "colab": {
          "base_uri": "https://localhost:8080/"
        },
        "id": "lzkGJizVY7WX",
        "outputId": "a1f5f9d3-6f61-4a0b-89e4-840940fe0cd3"
      },
      "execution_count": 12,
      "outputs": [
        {
          "output_type": "stream",
          "name": "stdout",
          "text": [
            "(100, 200, 300)\n"
          ]
        }
      ]
    },
    {
      "cell_type": "markdown",
      "source": [
        "12. Write a code to access the second-to-last element of the tuple ('red', 'green', 'blue', 'yellow')."
      ],
      "metadata": {
        "id": "eAaUHS6dZQvG"
      }
    },
    {
      "cell_type": "code",
      "source": [
        "t = ('red', 'green', 'blue', 'yellow')\n",
        "print(t[-2])\n"
      ],
      "metadata": {
        "colab": {
          "base_uri": "https://localhost:8080/"
        },
        "id": "GESdSRg4ZO_x",
        "outputId": "c32362da-a070-48e3-9e2e-fd14452d1886"
      },
      "execution_count": 13,
      "outputs": [
        {
          "output_type": "stream",
          "name": "stdout",
          "text": [
            "blue\n"
          ]
        }
      ]
    },
    {
      "cell_type": "markdown",
      "source": [
        "13. Write a code to find the minimum number in the tuple (10, 20, 5, 15)."
      ],
      "metadata": {
        "id": "z-7EFojuZV8c"
      }
    },
    {
      "cell_type": "code",
      "source": [
        "t = (10, 20, 5, 15)\n",
        "print(min(t))\n"
      ],
      "metadata": {
        "colab": {
          "base_uri": "https://localhost:8080/"
        },
        "id": "YZ7ptPINZR8J",
        "outputId": "05f49724-0421-4663-82b3-16df053792eb"
      },
      "execution_count": 14,
      "outputs": [
        {
          "output_type": "stream",
          "name": "stdout",
          "text": [
            "5\n"
          ]
        }
      ]
    },
    {
      "cell_type": "markdown",
      "source": [
        "14. Write a code to find the index of the element \"cat\" in the tuple ('dog', 'cat', 'rabbit')."
      ],
      "metadata": {
        "id": "OfkBGqzxZaaE"
      }
    },
    {
      "cell_type": "code",
      "source": [
        "t = ('dog', 'cat', 'rabbit')\n",
        "print(t.index('cat'))\n"
      ],
      "metadata": {
        "colab": {
          "base_uri": "https://localhost:8080/"
        },
        "id": "4HtmQOHRZY4g",
        "outputId": "e2dac985-0b43-41a4-f07f-5382955874ba"
      },
      "execution_count": 15,
      "outputs": [
        {
          "output_type": "stream",
          "name": "stdout",
          "text": [
            "1\n"
          ]
        }
      ]
    },
    {
      "cell_type": "markdown",
      "source": [
        "15. Write a code to create a tuple containing three different fruits and check if \"kiwi\" is in it."
      ],
      "metadata": {
        "id": "eR9y8ttBZdyh"
      }
    },
    {
      "cell_type": "code",
      "source": [
        "fruits = ('apple', 'banana', 'kiwi')\n",
        "print('kiwi' in fruits)\n"
      ],
      "metadata": {
        "colab": {
          "base_uri": "https://localhost:8080/"
        },
        "id": "T5t3XQcAZbzc",
        "outputId": "a859e96c-b70f-405a-ee99-793c7fba20cd"
      },
      "execution_count": 16,
      "outputs": [
        {
          "output_type": "stream",
          "name": "stdout",
          "text": [
            "True\n"
          ]
        }
      ]
    },
    {
      "cell_type": "markdown",
      "source": [
        "16. Write a code to create a set with the elements 'a', 'b', 'c' and print it."
      ],
      "metadata": {
        "id": "NNhkDuiPZlCn"
      }
    },
    {
      "cell_type": "code",
      "source": [
        "s = {'a', 'b', 'c'}\n",
        "print(s)\n"
      ],
      "metadata": {
        "colab": {
          "base_uri": "https://localhost:8080/"
        },
        "id": "WDw2Y7SdZffQ",
        "outputId": "9a6c53d4-2d98-45b8-a5ed-732e7d7b9315"
      },
      "execution_count": 17,
      "outputs": [
        {
          "output_type": "stream",
          "name": "stdout",
          "text": [
            "{'b', 'a', 'c'}\n"
          ]
        }
      ]
    },
    {
      "cell_type": "markdown",
      "source": [
        "17. Write a code to clear all elements from the set {1, 2, 3, 4, 5}.\n"
      ],
      "metadata": {
        "id": "xuh4RVJbZpIz"
      }
    },
    {
      "cell_type": "code",
      "source": [
        "s = {1, 2, 3, 4, 5}\n",
        "s.clear()\n",
        "print(s)\n"
      ],
      "metadata": {
        "colab": {
          "base_uri": "https://localhost:8080/"
        },
        "id": "VuC4jXenZmUW",
        "outputId": "afb14594-f623-4a55-ec3a-93bb9c9a6098"
      },
      "execution_count": 18,
      "outputs": [
        {
          "output_type": "stream",
          "name": "stdout",
          "text": [
            "set()\n"
          ]
        }
      ]
    },
    {
      "cell_type": "markdown",
      "source": [
        "18. Write a code to remove the element 4 from the set {1, 2, 3, 4}."
      ],
      "metadata": {
        "id": "XtiPGgl7ZsX9"
      }
    },
    {
      "cell_type": "code",
      "source": [
        "s = {1, 2, 3, 4}\n",
        "s.remove(4)\n",
        "print(s)\n"
      ],
      "metadata": {
        "colab": {
          "base_uri": "https://localhost:8080/"
        },
        "id": "hoRcPZQVZqYc",
        "outputId": "86a4b77e-e620-46ab-f1b8-c75aed028935"
      },
      "execution_count": 19,
      "outputs": [
        {
          "output_type": "stream",
          "name": "stdout",
          "text": [
            "{1, 2, 3}\n"
          ]
        }
      ]
    },
    {
      "cell_type": "markdown",
      "source": [
        "19. Write a code to find the union of two sets {1, 2, 3} and {3, 4, 5}."
      ],
      "metadata": {
        "id": "oeVAw9QaZv08"
      }
    },
    {
      "cell_type": "code",
      "source": [
        "a = {1, 2, 3}\n",
        "b = {3, 4, 5}\n",
        "print(a.union(b))\n"
      ],
      "metadata": {
        "colab": {
          "base_uri": "https://localhost:8080/"
        },
        "id": "PsMZORvRZtkh",
        "outputId": "3eee0561-5827-404c-e58c-c28590572947"
      },
      "execution_count": 20,
      "outputs": [
        {
          "output_type": "stream",
          "name": "stdout",
          "text": [
            "{1, 2, 3, 4, 5}\n"
          ]
        }
      ]
    },
    {
      "cell_type": "markdown",
      "source": [
        "20. Write a code to find the intersection of two sets {1, 2, 3} and {2, 3, 4}."
      ],
      "metadata": {
        "id": "6g7H5wt-aE0d"
      }
    },
    {
      "cell_type": "code",
      "source": [
        "a = {1, 2, 3}\n",
        "b = {2, 3, 4}\n",
        "print(a.intersection(b))\n"
      ],
      "metadata": {
        "colab": {
          "base_uri": "https://localhost:8080/"
        },
        "id": "gkO0evCcZxE9",
        "outputId": "4159b044-a181-4e25-9b11-86f6471d895b"
      },
      "execution_count": 21,
      "outputs": [
        {
          "output_type": "stream",
          "name": "stdout",
          "text": [
            "{2, 3}\n"
          ]
        }
      ]
    },
    {
      "cell_type": "markdown",
      "source": [
        "21. Write a code to create a dictionary with the keys \"name\", \"age\", and \"city\", and print it."
      ],
      "metadata": {
        "id": "hVvh1bcaaI3A"
      }
    },
    {
      "cell_type": "code",
      "source": [
        "person = {\"name\": \"John\", \"age\": 25, \"city\": \"New York\"}\n",
        "print(person)\n"
      ],
      "metadata": {
        "colab": {
          "base_uri": "https://localhost:8080/"
        },
        "id": "XZ7tlCV6aJ2B",
        "outputId": "d2c4fa6f-aafb-4f20-d334-59a505ccdb9b"
      },
      "execution_count": 22,
      "outputs": [
        {
          "output_type": "stream",
          "name": "stdout",
          "text": [
            "{'name': 'John', 'age': 25, 'city': 'New York'}\n"
          ]
        }
      ]
    },
    {
      "cell_type": "markdown",
      "source": [
        "22. Write a code to add a new key–value pair \"country\": \"USA\" to the dictionary {'name': 'John', 'age': 25}."
      ],
      "metadata": {
        "id": "SdyBP2j_aMFg"
      }
    },
    {
      "cell_type": "code",
      "source": [
        "d = {'name': 'John', 'age': 25}\n",
        "d['country'] = 'USA'\n",
        "print(d)\n"
      ],
      "metadata": {
        "colab": {
          "base_uri": "https://localhost:8080/"
        },
        "id": "YNWGrmuzaHR3",
        "outputId": "2d2f4a12-f06c-4f1d-d322-aa487b0b451d"
      },
      "execution_count": 23,
      "outputs": [
        {
          "output_type": "stream",
          "name": "stdout",
          "text": [
            "{'name': 'John', 'age': 25, 'country': 'USA'}\n"
          ]
        }
      ]
    },
    {
      "cell_type": "markdown",
      "source": [
        "23. Write a code to access the value associated with the key \"name\" in the dictionary {'name': 'Alice', 'age': 30}."
      ],
      "metadata": {
        "id": "iKhU7aM4aO3Z"
      }
    },
    {
      "cell_type": "code",
      "source": [
        "d = {'name': 'Alice', 'age': 30}\n",
        "print(d['name'])\n"
      ],
      "metadata": {
        "colab": {
          "base_uri": "https://localhost:8080/"
        },
        "id": "Ewb4zoARaNW-",
        "outputId": "641a1be0-4c65-4359-bf74-9944adc941ab"
      },
      "execution_count": 24,
      "outputs": [
        {
          "output_type": "stream",
          "name": "stdout",
          "text": [
            "Alice\n"
          ]
        }
      ]
    },
    {
      "cell_type": "markdown",
      "source": [
        "24. Write a code to remove the key \"age\" from the dictionary {'name': 'Bob', 'age': 22, 'city': 'New York'}."
      ],
      "metadata": {
        "id": "JH2f0P2OaRV-"
      }
    },
    {
      "cell_type": "code",
      "source": [
        "d = {'name': 'Bob', 'age': 22, 'city': 'New York'}\n",
        "del d['age']\n",
        "print(d)\n"
      ],
      "metadata": {
        "colab": {
          "base_uri": "https://localhost:8080/"
        },
        "id": "Z92t9jdkaP80",
        "outputId": "606c9649-8ef3-40ee-c4d2-c5fd18aa8489"
      },
      "execution_count": 25,
      "outputs": [
        {
          "output_type": "stream",
          "name": "stdout",
          "text": [
            "{'name': 'Bob', 'city': 'New York'}\n"
          ]
        }
      ]
    },
    {
      "cell_type": "markdown",
      "source": [
        "25. Write a code to check if the key \"city\" exists in the dictionary {'name': 'Alice', 'city': 'Paris'}."
      ],
      "metadata": {
        "id": "vE3yilmQaUsC"
      }
    },
    {
      "cell_type": "code",
      "source": [
        "d = {'name': 'Alice', 'city': 'Paris'}\n",
        "print('city' in d)\n"
      ],
      "metadata": {
        "colab": {
          "base_uri": "https://localhost:8080/"
        },
        "id": "KDLDN5f3aSiw",
        "outputId": "2007b8eb-554c-4ff5-81a8-490e9db1c564"
      },
      "execution_count": 26,
      "outputs": [
        {
          "output_type": "stream",
          "name": "stdout",
          "text": [
            "True\n"
          ]
        }
      ]
    },
    {
      "cell_type": "markdown",
      "source": [
        "26. Write a code to create a list, a tuple, and a dictionary, and print them all."
      ],
      "metadata": {
        "id": "YLb23v8IaXnz"
      }
    },
    {
      "cell_type": "code",
      "source": [
        "lst = [1, 2, 3]\n",
        "tup = (4, 5, 6)\n",
        "dic = {'a': 1, 'b': 2}\n",
        "print(lst, tup, dic)\n"
      ],
      "metadata": {
        "colab": {
          "base_uri": "https://localhost:8080/"
        },
        "id": "doQlPypYaV5u",
        "outputId": "607c808b-fbe5-4e9b-9f63-cfffa52959e1"
      },
      "execution_count": 27,
      "outputs": [
        {
          "output_type": "stream",
          "name": "stdout",
          "text": [
            "[1, 2, 3] (4, 5, 6) {'a': 1, 'b': 2}\n"
          ]
        }
      ]
    },
    {
      "cell_type": "markdown",
      "source": [
        "27. Write a code to create a list of 5 random numbers between 1 and 100, sort it in ascending order, and print the result."
      ],
      "metadata": {
        "id": "iMmsGx8Baaq7"
      }
    },
    {
      "cell_type": "code",
      "source": [
        "import random\n",
        "nums = random.sample(range(1, 101), 5)\n",
        "nums.sort()\n",
        "print(nums)\n"
      ],
      "metadata": {
        "colab": {
          "base_uri": "https://localhost:8080/"
        },
        "id": "eDOnMzT7aZCp",
        "outputId": "4a7931ba-fda9-455c-9366-bf6213e30c47"
      },
      "execution_count": 28,
      "outputs": [
        {
          "output_type": "stream",
          "name": "stdout",
          "text": [
            "[12, 21, 33, 53, 57]\n"
          ]
        }
      ]
    },
    {
      "cell_type": "markdown",
      "source": [
        "28. Write a code to create a list with strings and print the element at the third index."
      ],
      "metadata": {
        "id": "gYuM154EaeqU"
      }
    },
    {
      "cell_type": "code",
      "source": [
        "words = [\"apple\", \"banana\", \"cherry\", \"date\", \"fig\"]\n",
        "print(words[3])\n"
      ],
      "metadata": {
        "colab": {
          "base_uri": "https://localhost:8080/"
        },
        "id": "m5xg1LqoacVU",
        "outputId": "6ff0683d-2f38-47dc-bc98-d1705aa58a6c"
      },
      "execution_count": 29,
      "outputs": [
        {
          "output_type": "stream",
          "name": "stdout",
          "text": [
            "date\n"
          ]
        }
      ]
    },
    {
      "cell_type": "markdown",
      "source": [
        "29. Write a code to combine two dictionaries into one and print the result."
      ],
      "metadata": {
        "id": "XLBTL8JFai2h"
      }
    },
    {
      "cell_type": "code",
      "source": [
        "d1 = {'a': 1, 'b': 2}\n",
        "d2 = {'c': 3, 'd': 4}\n",
        "d1.update(d2)\n",
        "print(d1)\n"
      ],
      "metadata": {
        "colab": {
          "base_uri": "https://localhost:8080/"
        },
        "id": "DWHpj719afwP",
        "outputId": "f8d79152-3aaa-4463-b22f-a0e2cf9e6834"
      },
      "execution_count": 30,
      "outputs": [
        {
          "output_type": "stream",
          "name": "stdout",
          "text": [
            "{'a': 1, 'b': 2, 'c': 3, 'd': 4}\n"
          ]
        }
      ]
    },
    {
      "cell_type": "markdown",
      "source": [
        "30. Write a code to convert a list of strings into a set."
      ],
      "metadata": {
        "id": "FM8KIajGaloH"
      }
    },
    {
      "cell_type": "code",
      "source": [
        "lst = [\"apple\", \"banana\", \"cherry\"]\n",
        "s = set(lst)\n",
        "print(s)\n"
      ],
      "metadata": {
        "colab": {
          "base_uri": "https://localhost:8080/"
        },
        "id": "WiKjCynvakHX",
        "outputId": "1405ec72-3f33-45ab-d9af-cfd900dc15fc"
      },
      "execution_count": 31,
      "outputs": [
        {
          "output_type": "stream",
          "name": "stdout",
          "text": [
            "{'cherry', 'apple', 'banana'}\n"
          ]
        }
      ]
    },
    {
      "cell_type": "code",
      "source": [],
      "metadata": {
        "id": "RHCYGrTDanh4"
      },
      "execution_count": null,
      "outputs": []
    }
  ]
}