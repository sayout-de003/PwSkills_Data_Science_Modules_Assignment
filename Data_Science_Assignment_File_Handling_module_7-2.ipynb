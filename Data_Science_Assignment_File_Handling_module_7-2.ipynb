{
  "nbformat": 4,
  "nbformat_minor": 0,
  "metadata": {
    "colab": {
      "provenance": []
    },
    "kernelspec": {
      "name": "python3",
      "display_name": "Python 3"
    },
    "language_info": {
      "name": "python"
    }
  },
  "cells": [
    {
      "cell_type": "markdown",
      "source": [
        "# ***`Theory`***"
      ],
      "metadata": {
        "id": "X6xilRKNejO9"
      }
    },
    {
      "cell_type": "markdown",
      "source": [
        "1. What is the difference between interpreted and compiled languages?\n",
        "\n",
        "\n",
        "    Compiled Languages: The whole program is converted into machine code by a compiler before execution. This makes them faster at runtime since the CPU runs the ready-made binary. No compiler is needed when running the program.\n",
        "    Examples: C, C++, Rust.\n",
        "\n",
        "    Interpreted Languages: The source code is read and executed line-by-line by an interpreter at runtime. This makes them slower, but they are easier to test and modify because you can run the code immediately without compiling.\n",
        "    \n",
        "    Examples: Python, JavaScript, Ruby.\n",
        "    "
      ],
      "metadata": {
        "id": "BJIGcSbKepRp"
      }
    },
    {
      "cell_type": "markdown",
      "source": [
        "2. What is exception handling in Python?\n",
        "\n",
        "Exception handling in Python is the process of managing errors that occur while a program is running, so the program doesn’t crash unexpectedly.\n",
        "It uses the keywords:\n",
        "\n",
        "try → Code that might cause an error.\n",
        "except → Code that runs if an error occurs.\n",
        "else → Code that runs if no error occurs.\n",
        "finally → Code that runs no matter what (error or no error).\n",
        "\n"
      ],
      "metadata": {
        "id": "FcnRPIXZfQes"
      }
    },
    {
      "cell_type": "code",
      "execution_count": 1,
      "metadata": {
        "colab": {
          "base_uri": "https://localhost:8080/"
        },
        "id": "nvrEn5NnU2KF",
        "outputId": "0adc42a6-d720-4ca2-c80a-25bd911c7e1e"
      },
      "outputs": [
        {
          "output_type": "stream",
          "name": "stdout",
          "text": [
            "Enter a number: 0\n",
            " Cannot divide by zero.\n",
            " This will always run.\n"
          ]
        }
      ],
      "source": [
        "try:\n",
        "    num = int(input(\"Enter a number: \"))\n",
        "    print(10 / num)\n",
        "except ZeroDivisionError:\n",
        "    print(\" Cannot divide by zero.\")\n",
        "except ValueError:\n",
        "    print(\" Please enter a valid number.\")\n",
        "else:\n",
        "    print(\" No errors occurred.\")\n",
        "finally:\n",
        "    print(\" This will always run.\")\n"
      ]
    },
    {
      "cell_type": "markdown",
      "source": [
        "3. What is the purpose of the finally block in exception handling?\n",
        "\n",
        "In Python’s exception handling, the finally block is used to define code that will always run, no matter what happens — whether:\n",
        "An exception occurs or not\n",
        "The exception is handled or not\n",
        "The function exits early with return\n",
        "\n",
        "Purpose:\n",
        "To perform cleanup actions such as:\n",
        "Closing files\n",
        "Releasing resources\n",
        "Disconnecting from a database\n",
        "Releasing locks"
      ],
      "metadata": {
        "id": "MD36i30wfmEv"
      }
    },
    {
      "cell_type": "code",
      "source": [
        "try:\n",
        "    file = open(\"data.txt\", \"r\")  # Read mode\n",
        "    content = file.read()\n",
        "    print(content)\n",
        "except FileNotFoundError:\n",
        "    print(\"❌ File not found.\")\n",
        "finally:\n",
        "    print(\"Closing file...\")\n",
        "    file.close()\n"
      ],
      "metadata": {
        "colab": {
          "base_uri": "https://localhost:8080/"
        },
        "id": "o9y1uu7afYP9",
        "outputId": "e2f8e7a7-ff42-4816-a42a-249ff261ff5b"
      },
      "execution_count": 5,
      "outputs": [
        {
          "output_type": "stream",
          "name": "stdout",
          "text": [
            "\n",
            "Closing file...\n"
          ]
        }
      ]
    },
    {
      "cell_type": "markdown",
      "source": [
        "4. What is logging in Python?\n",
        "\n",
        "Logging in Python is the process of recording messages (like debug info, warnings, or errors) while a program is running.\n",
        "It is done using the logging module, which helps monitor and troubleshoot applications without stopping them."
      ],
      "metadata": {
        "id": "So6ap0OxgB4Z"
      }
    },
    {
      "cell_type": "code",
      "source": [
        "import logging\n",
        "\n",
        "# Configure logging\n",
        "logging.basicConfig(level=logging.INFO)\n",
        "\n",
        "logging.debug(\"This is a debug message\")\n",
        "logging.info(\"Starting the program...\")\n",
        "logging.warning(\"This is a warning\")\n",
        "logging.error(\"An error occurred!\")\n",
        "logging.critical(\"Critical issue!\")\n"
      ],
      "metadata": {
        "colab": {
          "base_uri": "https://localhost:8080/"
        },
        "id": "QQVcZ5hxft-J",
        "outputId": "cc169cd9-22af-47e6-c69c-6d0279c7b90d"
      },
      "execution_count": 6,
      "outputs": [
        {
          "output_type": "stream",
          "name": "stderr",
          "text": [
            "WARNING:root:This is a warning\n",
            "ERROR:root:An error occurred!\n",
            "CRITICAL:root:Critical issue!\n"
          ]
        }
      ]
    },
    {
      "cell_type": "markdown",
      "source": [
        "5. What is the significance of __del__ in Python?\n",
        "\n",
        "  __del__ is a destructor method in Python.\n",
        "It is automatically called when an object is about to be destroyed (garbage collected).\n",
        "\n",
        "Purpose:\n",
        "\n",
        "Free resources\n",
        "\n",
        "Close connections or files"
      ],
      "metadata": {
        "id": "BS9AidyDgTmw"
      }
    },
    {
      "cell_type": "code",
      "source": [
        "class MyClass:\n",
        "    def __del__(self):\n",
        "        print(\"Object destroyed!\")\n",
        "\n",
        "obj = MyClass()\n",
        "del obj\n"
      ],
      "metadata": {
        "colab": {
          "base_uri": "https://localhost:8080/"
        },
        "id": "XWQ2mvDHgQeN",
        "outputId": "e747e120-c098-4fa5-d8fe-88ce985d00ee"
      },
      "execution_count": 7,
      "outputs": [
        {
          "output_type": "stream",
          "name": "stdout",
          "text": [
            "Object destroyed!\n"
          ]
        }
      ]
    },
    {
      "cell_type": "markdown",
      "source": [
        "6. What is the difference between import and from ... import in Python?\n",
        "\n",
        "  Imports the whole module. Access members with module.name.\n",
        "  from module import name: Imports only specific names from a module."
      ],
      "metadata": {
        "id": "qzGt4xazgfLI"
      }
    },
    {
      "cell_type": "code",
      "source": [
        "import math\n",
        "print(math.sqrt(16))  # Need to use math.\n",
        "\n",
        "from math import sqrt\n",
        "print(sqrt(16))       # Can use directly\n"
      ],
      "metadata": {
        "colab": {
          "base_uri": "https://localhost:8080/"
        },
        "id": "du02Nix2gW3Q",
        "outputId": "73bbae0f-6cf9-4862-e2d1-0cf07d982d90"
      },
      "execution_count": 8,
      "outputs": [
        {
          "output_type": "stream",
          "name": "stdout",
          "text": [
            "4.0\n",
            "4.0\n"
          ]
        }
      ]
    },
    {
      "cell_type": "markdown",
      "source": [
        "7. How to handle multiple exceptions in Python?\n",
        "\n",
        "Multiple except blocks\n",
        "\n",
        "A single except with a tuple of exceptions"
      ],
      "metadata": {
        "id": "4DAPuIDkgtfi"
      }
    },
    {
      "cell_type": "code",
      "source": [
        "try:\n",
        "    num = int(input(\"Enter number: \"))\n",
        "    result = 10 / num\n",
        "except ZeroDivisionError:\n",
        "    print(\"Cannot divide by zero.\")\n",
        "except ValueError:\n",
        "    print(\"Invalid input.\")\n",
        "\n",
        "# Or in one block\n",
        "try:\n",
        "    ...\n",
        "except (ZeroDivisionError, ValueError) as e:\n",
        "    print(\"Error:\", e)\n"
      ],
      "metadata": {
        "colab": {
          "base_uri": "https://localhost:8080/"
        },
        "id": "qh0x9rUFge1A",
        "outputId": "49128ecf-4072-4bf2-bc52-ce80edc65cc6"
      },
      "execution_count": 9,
      "outputs": [
        {
          "output_type": "stream",
          "name": "stdout",
          "text": [
            "Enter number: \n",
            "Invalid input.\n"
          ]
        }
      ]
    },
    {
      "cell_type": "markdown",
      "source": [
        "8.  What is the purpose of the with statement when handling files in Python?\n",
        "\n",
        "with ensures that a file (or resource) is automatically closed after the block ends — even if an error occurs."
      ],
      "metadata": {
        "id": "Pro-0SFag8nw"
      }
    },
    {
      "cell_type": "code",
      "source": [
        "with open(\"data.txt\", \"r\") as f:\n",
        "    content = f.read()\n",
        "print(content)  # File is already closed\n"
      ],
      "metadata": {
        "colab": {
          "base_uri": "https://localhost:8080/"
        },
        "id": "4-MNyMubg1ct",
        "outputId": "bfee1e5d-de85-4fb0-a021-6cce88d747ff"
      },
      "execution_count": 10,
      "outputs": [
        {
          "output_type": "stream",
          "name": "stdout",
          "text": [
            "\n"
          ]
        }
      ]
    },
    {
      "cell_type": "markdown",
      "source": [
        "9. What is the difference between multithreading and multiprocessing?\n",
        "\n",
        "  Multithreading → Multiple threads in the same process, share memory. Good for I/O-bound tasks (network calls, file read/write).\n",
        "\n",
        "  Multiprocessing → Multiple processes with separate memory. Good for CPU-bound tasks (math-heavy operations)."
      ],
      "metadata": {
        "id": "yTU6Pq1zhKk-"
      }
    },
    {
      "cell_type": "code",
      "source": [
        "import threading\n",
        "\n",
        "def task():\n",
        "    print(\"Task running\")\n",
        "\n",
        "t1 = threading.Thread(target=task)\n",
        "t1.start()\n",
        "t1.join()\n"
      ],
      "metadata": {
        "colab": {
          "base_uri": "https://localhost:8080/"
        },
        "id": "0MJYwsS3hAWR",
        "outputId": "f56991af-e933-4ae4-d2a9-9fd73492de1e"
      },
      "execution_count": 11,
      "outputs": [
        {
          "output_type": "stream",
          "name": "stdout",
          "text": [
            "Task running\n"
          ]
        }
      ]
    },
    {
      "cell_type": "code",
      "source": [
        "import multiprocessing\n",
        "\n",
        "def task():\n",
        "    print(\"Task running\")\n",
        "\n",
        "p1 = multiprocessing.Process(target=task)\n",
        "p1.start()\n",
        "p1.join()\n"
      ],
      "metadata": {
        "colab": {
          "base_uri": "https://localhost:8080/"
        },
        "id": "BoeERDElhTJR",
        "outputId": "2da02309-d718-4ebf-82fb-1c2631028e64"
      },
      "execution_count": 12,
      "outputs": [
        {
          "output_type": "stream",
          "name": "stdout",
          "text": [
            "Task running\n"
          ]
        }
      ]
    },
    {
      "cell_type": "markdown",
      "source": [
        "10. What are the advantages of using logging in a program?\n",
        "\n",
        "Tracks program execution history\n",
        "Helps debug without interrupting program\n",
        "Supports log files for future reference\n",
        "Allows setting log levels\n",
        "\n"
      ],
      "metadata": {
        "id": "QTq_U3kMhaJ3"
      }
    },
    {
      "cell_type": "markdown",
      "source": [
        "11. What is memory management in Python?\n",
        "\n",
        "    Python manages memory automatically using:\n",
        "    Reference counting → Tracks how many variables refer to an object\n",
        "    \n",
        "    Garbage collection → Removes unused objects (including cyclic references)"
      ],
      "metadata": {
        "id": "XlemOkT9hiRX"
      }
    },
    {
      "cell_type": "markdown",
      "source": [
        "12. What are the basic steps involved in exception handling in Python?\n",
        "\n",
        "    Put risky code inside try\n",
        "\n",
        "    Handle errors in except\n",
        "\n",
        "    Optionally use else (runs if no error)\n",
        "    \n",
        "    Optionally use finally (always runs)"
      ],
      "metadata": {
        "id": "GCiAA0JphrFK"
      }
    },
    {
      "cell_type": "markdown",
      "source": [
        "13. Why is memory management important in Python?\n",
        "\n",
        "    Prevents memory leaks\n",
        "\n",
        "    Improves performance\n",
        "    \n",
        "    Avoids crashes due to insufficient memor"
      ],
      "metadata": {
        "id": "mAMC0AWJh0NB"
      }
    },
    {
      "cell_type": "markdown",
      "source": [
        "14. What is the role of try and except in exception handling?\n",
        "\n",
        "try: Wraps code that might fail\n",
        "\n",
        "except: Defines how to respond to errors"
      ],
      "metadata": {
        "id": "Tjurd-n4h_WC"
      }
    },
    {
      "cell_type": "code",
      "source": [
        "try:\n",
        "    numerator = 10\n",
        "    denominator = int(input(\"Enter a denominator: \"))\n",
        "    result = numerator / denominator\n",
        "    print(f\"The result is: {result}\")\n",
        "except ZeroDivisionError:\n",
        "    print(\"Error: Cannot divide by zero!\")\n",
        "except ValueError:\n",
        "    print(\"Error: Invalid input. Please enter an integer.\")"
      ],
      "metadata": {
        "colab": {
          "base_uri": "https://localhost:8080/"
        },
        "id": "iGhET2hQhVM4",
        "outputId": "e44d25e0-b3c8-4e56-ce50-00e59bbb6425"
      },
      "execution_count": 13,
      "outputs": [
        {
          "output_type": "stream",
          "name": "stdout",
          "text": [
            "Enter a denominator: \n",
            "Error: Invalid input. Please enter an integer.\n"
          ]
        }
      ]
    },
    {
      "cell_type": "markdown",
      "source": [
        "15. How does Python's garbage collection system\n",
        "    Reference Counting – Every object keeps track of how many references point to it. When the count hits 0, it’s immediately freed.\n",
        "\n",
        "    Cyclic Garbage Collector – Detects and removes reference cycles (objects referring to each other) using a generational approach for efficiency.\n",
        "    \n",
        "    Extra: Objects with __del__ may not be collected immediately if they’re in a cycle.\n"
      ],
      "metadata": {
        "id": "nBZte1XUiTDs"
      }
    },
    {
      "cell_type": "code",
      "source": [
        "import sys\n",
        "a = [1, 2, 3]\n",
        "print(sys.getrefcount(a))  # 2 (one from variable, one from function call)\n",
        "b = a\n",
        "print(sys.getrefcount(a))  # 3\n",
        "del b\n",
        "print(sys.getrefcount(a))  # 2\n"
      ],
      "metadata": {
        "colab": {
          "base_uri": "https://localhost:8080/"
        },
        "id": "21cbELmtiNRT",
        "outputId": "7e7148a1-3fb9-42c9-ec21-cdd814b4e10c"
      },
      "execution_count": 14,
      "outputs": [
        {
          "output_type": "stream",
          "name": "stdout",
          "text": [
            "2\n",
            "3\n",
            "2\n"
          ]
        }
      ]
    },
    {
      "cell_type": "code",
      "source": [
        "import gc\n",
        "\n",
        "class Node:\n",
        "    def __init__(self):\n",
        "        self.ref = None\n",
        "\n",
        "a = Node()\n",
        "b = Node()\n",
        "a.ref = b\n",
        "b.ref = a  # cycle\n",
        "\n",
        "del a, b\n",
        "gc.collect()  # Forces cleanup of the cycle\n"
      ],
      "metadata": {
        "colab": {
          "base_uri": "https://localhost:8080/"
        },
        "id": "6XgGGKO7yw5W",
        "outputId": "bd6005c8-641c-4537-e3e7-680cdf62ca01"
      },
      "execution_count": 15,
      "outputs": [
        {
          "output_type": "execute_result",
          "data": {
            "text/plain": [
              "10"
            ]
          },
          "metadata": {},
          "execution_count": 15
        }
      ]
    },
    {
      "cell_type": "markdown",
      "source": [
        "16. What is the purpose of the else block in exception handling?\n",
        "\n",
        "    In Python’s exception handling, the else block is used to run code only if no exception was raised in the try block.\n",
        "\n",
        "    Purpose\n",
        "    Keeps the try block focused only on code that might raise exceptions.\n",
        "\n",
        "    Moves the “success” logic into else so it’s clearer which part runs only if everything went fine.\n",
        "    \n",
        "    Improves readability by separating error handling (except) from normal flow (else).\n"
      ],
      "metadata": {
        "id": "a8GEebvJy03-"
      }
    },
    {
      "cell_type": "code",
      "source": [
        "try:\n",
        "    num = int(input(\"Enter a number: \"))\n",
        "except ValueError:\n",
        "    print(\"Invalid number!\")\n",
        "else:\n",
        "    print(f\"The square is {num ** 2}\")  # Runs only if conversion succeeded\n"
      ],
      "metadata": {
        "colab": {
          "base_uri": "https://localhost:8080/"
        },
        "id": "-h1T2yA2yyyY",
        "outputId": "ac626dd8-8102-4608-c3a1-b865588eaf35"
      },
      "execution_count": 16,
      "outputs": [
        {
          "output_type": "stream",
          "name": "stdout",
          "text": [
            "Enter a number: \n",
            "Invalid number!\n"
          ]
        }
      ]
    },
    {
      "cell_type": "markdown",
      "source": [
        "17. What are the common logging levels in Python?\n",
        "\n",
        "  In Python, the logging module provides five common logging levels to indicate the severity of messages.\n",
        "\n",
        "  DEBUG is the lowest level, used for detailed diagnostic information useful during development and debugging.\n",
        "\n",
        "  INFO is for confirming that the program is working as expected, typically for general operational messages.\n",
        "\n",
        "  WARNING signals that something unexpected happened or a potential problem exists, but the program is still functioning.\n",
        "\n",
        "  ERROR indicates a serious problem where part of the program has failed.\n",
        "  \n",
        "  CRITICAL is the highest level, used for very severe errors that might cause the program to stop running."
      ],
      "metadata": {
        "id": "HYk4sSSIzOxB"
      }
    },
    {
      "cell_type": "code",
      "source": [
        "import logging\n",
        "\n",
        "logging.basicConfig(level=logging.DEBUG)\n",
        "\n",
        "logging.debug(\"Debug message\")\n",
        "logging.info(\"Info message\")\n",
        "logging.warning(\"Warning message\")\n",
        "logging.error(\"Error message\")\n",
        "logging.critical(\"Critical issue\")\n"
      ],
      "metadata": {
        "colab": {
          "base_uri": "https://localhost:8080/"
        },
        "id": "30QIc8aOy_DK",
        "outputId": "65c459fa-3dd7-4aa7-adf6-86c5b729d2eb"
      },
      "execution_count": 17,
      "outputs": [
        {
          "output_type": "stream",
          "name": "stderr",
          "text": [
            "WARNING:root:Warning message\n",
            "ERROR:root:Error message\n",
            "CRITICAL:root:Critical issue\n"
          ]
        }
      ]
    },
    {
      "cell_type": "markdown",
      "source": [
        "18. What is the difference between os.fork() and multiprocessing in Python?\n",
        "\n",
        "In Python, os.fork() and the multiprocessing module both create new processes, but they work in very different ways and are suited for different use cases.\n",
        "os.fork() is a low-level Unix system call that creates a child process by duplicating the current process. The child process starts execution from the point where fork() was called, and both parent and child run the same code but with separate memory spaces. It’s only available on Unix-like systems (Linux, macOS) and not on Windows. Because it’s low-level, you need to handle process management (communication, synchronization, cleanup) manually, making it less convenient for cross-platform development.\n",
        "\n",
        "On the other hand, multiprocessing is a high-level, cross-platform Python module that provides an API similar to threading, but each process has its own memory space. It handles process creation, communication (via pipes and queues), and synchronization for you, making it easier and safer to use. multiprocessing works on both Unix and Windows, and on Unix it can internally use fork() (or other methods like spawn or forkserver) depending on the start method."
      ],
      "metadata": {
        "id": "nn4ef__szeuJ"
      }
    },
    {
      "cell_type": "code",
      "source": [
        "import os\n",
        "\n",
        "pid = os.fork()\n",
        "if pid == 0:\n",
        "    print(\"Child process\")\n",
        "else:\n",
        "    print(\"Parent process\")\n"
      ],
      "metadata": {
        "colab": {
          "base_uri": "https://localhost:8080/"
        },
        "id": "X0PXZJknzbsq",
        "outputId": "582065cf-d678-4227-ce57-f542adb20d53"
      },
      "execution_count": 18,
      "outputs": [
        {
          "output_type": "stream",
          "name": "stdout",
          "text": [
            "Parent process\n",
            "Child process"
          ]
        }
      ]
    },
    {
      "cell_type": "code",
      "source": [
        "from multiprocessing import Process\n",
        "\n",
        "def worker():\n",
        "    print(\"Child process\")\n",
        "\n",
        "p = Process(target=worker)\n",
        "p.start()\n",
        "p.join()\n"
      ],
      "metadata": {
        "colab": {
          "base_uri": "https://localhost:8080/"
        },
        "id": "Hiw5XzhFzkbU",
        "outputId": "f6cb70e9-5d2f-42a1-c0da-1ccb3e7a665b"
      },
      "execution_count": 19,
      "outputs": [
        {
          "output_type": "stream",
          "name": "stdout",
          "text": [
            "Child process\n"
          ]
        }
      ]
    },
    {
      "cell_type": "markdown",
      "source": [
        "19. What is the importance of closing a file in Python?\n",
        "\n",
        "Closing a file in Python is important because it frees system resources and ensures that all data is properly written to disk. When you work with a file, Python keeps a connection to it through a file object. If you don’t close it, the operating system’s file descriptors remain occupied, which can lead to resource leaks, especially if many files are opened.\n",
        "Another critical reason is data integrity. Python often uses buffering when writing to files, meaning data is stored temporarily in memory before being written to disk. If the file is not closed, some of this buffered data may never be saved, resulting in incomplete or corrupted files. Closing the file forces any buffered data to be flushed and written."
      ],
      "metadata": {
        "id": "ubDB_-mYzogb"
      }
    },
    {
      "cell_type": "code",
      "source": [
        "f = open(\"data.txt\", \"w\")\n",
        "f.write(\"Hello\")\n",
        "# File not closed yet — data may still be in buffer\n",
        "f.close()  # Flushes buffer and frees resources\n"
      ],
      "metadata": {
        "id": "7beZ-DRyzlxT"
      },
      "execution_count": 20,
      "outputs": []
    },
    {
      "cell_type": "markdown",
      "source": [
        "20. What is the difference between file.read and file.readline) in Python?\n",
        "\n",
        "file.read() reads the entire file content (or a specified number of characters/bytes) into a single string. If you call it without arguments, it loads the whole file at once, which can be memory-heavy for large files. For example:\n",
        "\n",
        "file.readline() reads just one line from the file at a time, ending at the newline character \\n. Each call returns the next line in sequence, which is useful for processing large files line-by-line without loading them entirely into memory. For example:"
      ],
      "metadata": {
        "id": "oewJUDunzzno"
      }
    },
    {
      "cell_type": "code",
      "source": [
        "with open(\"data.txt\", \"r\") as f:\n",
        "    data = f.read()  # Reads whole file into one string\n",
        "    print(data)\n"
      ],
      "metadata": {
        "colab": {
          "base_uri": "https://localhost:8080/"
        },
        "id": "aDttnkAezwDl",
        "outputId": "95b034df-8591-4775-8976-3a9a1d6bec2f"
      },
      "execution_count": 21,
      "outputs": [
        {
          "output_type": "stream",
          "name": "stdout",
          "text": [
            "Hello\n"
          ]
        }
      ]
    },
    {
      "cell_type": "code",
      "source": [
        "with open(\"data.txt\", \"r\") as f:\n",
        "    line1 = f.readline()  # Reads first line\n",
        "    line2 = f.readline()  # Reads second line\n",
        "    print(line1, line2)\n"
      ],
      "metadata": {
        "colab": {
          "base_uri": "https://localhost:8080/"
        },
        "id": "HNGl-P01z847",
        "outputId": "82d9e937-5354-4506-9229-a587f3a68140"
      },
      "execution_count": 22,
      "outputs": [
        {
          "output_type": "stream",
          "name": "stdout",
          "text": [
            "Hello \n"
          ]
        }
      ]
    },
    {
      "cell_type": "markdown",
      "source": [
        "21. What is the logging module in Python used for?\n",
        "\n",
        "The logging module in Python is used to record messages about a program’s execution, making it easier to debug, monitor, and maintain code. Instead of using print() statements, logging provides a flexible and configurable way to track what’s happening inside your program.\n",
        "\n",
        "It allows you to record messages at different severity levels (DEBUG, INFO, WARNING, ERROR, CRITICAL), direct logs to different destinations (console, files, network), and format them with timestamps, function names, and other details."
      ],
      "metadata": {
        "id": "5Yrmw6FP0Rq0"
      }
    },
    {
      "cell_type": "code",
      "source": [
        "import logging\n",
        "\n",
        "logging.basicConfig(\n",
        "    filename=\"app.log\",          # Save logs to a file\n",
        "    level=logging.DEBUG,         # Set minimum level\n",
        "    format=\"%(asctime)s - %(levelname)s - %(message)s\"\n",
        ")\n",
        "\n",
        "logging.debug(\"This is a debug message\")\n",
        "logging.info(\"Starting the program\")\n",
        "logging.warning(\"Low disk space\")\n",
        "logging.error(\"An error occurred\")\n",
        "logging.critical(\"System crash!\")\n"
      ],
      "metadata": {
        "colab": {
          "base_uri": "https://localhost:8080/"
        },
        "id": "t0lO0WzZ0Ddy",
        "outputId": "250a8338-9e79-4c72-ecbd-562c91950f9d"
      },
      "execution_count": 23,
      "outputs": [
        {
          "output_type": "stream",
          "name": "stderr",
          "text": [
            "WARNING:root:Low disk space\n",
            "ERROR:root:An error occurred\n",
            "CRITICAL:root:System crash!\n"
          ]
        }
      ]
    },
    {
      "cell_type": "markdown",
      "source": [
        "22. What is the os module in Python used for in file handling?\n",
        "\n",
        "In Python, the os module is used to interact with the operating system, and in file handling, it provides functions to create, delete, move, rename, and inspect files and directories. It acts as a bridge between Python code and OS-level file operations.\n",
        "With os, you can:\n",
        "\n",
        "Check and navigate directories (os.getcwd(), os.chdir()).\n",
        "\n",
        "Create or remove directories (os.mkdir(), os.makedirs(), os.rmdir()).\n",
        "\n",
        "Check if a file or directory exists (os.path.exists()).\n",
        "\n",
        "Get file properties like size or modification time (os.path.getsize()).\n",
        "\n",
        "Rename or remove files (os.rename(), os.remove()).\n",
        "\n",
        "Work with paths using os.path functions (os.path.join(), os.path.split())."
      ],
      "metadata": {
        "id": "VD9m_UTW0dxg"
      }
    },
    {
      "cell_type": "code",
      "source": [
        "import os\n",
        "\n",
        "# Create a new directory\n",
        "os.mkdir(\"test_folder\")\n",
        "\n",
        "# Create a new file inside it\n",
        "with open(\"test_folder/sample.txt\", \"w\") as f:\n",
        "    f.write(\"Hello\")\n",
        "\n",
        "# Rename the file\n",
        "os.rename(\"test_folder/sample.txt\", \"test_folder/new_sample.txt\")\n",
        "\n",
        "# Check if file exists\n",
        "if os.path.exists(\"test_folder/new_sample.txt\"):\n",
        "    print(\"File found!\")\n",
        "\n",
        "# Delete the file\n",
        "os.remove(\"test_folder/new_sample.txt\")\n",
        "\n",
        "# Remove the directory\n",
        "os.rmdir(\"test_folder\")\n"
      ],
      "metadata": {
        "colab": {
          "base_uri": "https://localhost:8080/"
        },
        "id": "rfVcx04V0bRQ",
        "outputId": "6625c2b6-6db6-4077-f1c9-92f783989269"
      },
      "execution_count": 24,
      "outputs": [
        {
          "output_type": "stream",
          "name": "stdout",
          "text": [
            "File found!\n"
          ]
        }
      ]
    },
    {
      "cell_type": "markdown",
      "source": [
        "23. What are the challenges associated with memory management in Python?\n",
        "\n",
        "Memory management in Python is mostly automatic thanks to its garbage collection system (reference counting + cyclic GC), but it still comes with several challenges that developers need to be aware of:\n",
        "1. Reference Cycles\n",
        "Even though reference counting works well, cyclic references (objects referring to each other) can prevent memory from being freed immediately. While Python’s garbage collector can clean them up, it may not happen right away, and cycles involving objects with __del__ methods can be tricky to collect.\n",
        "2. Memory Leaks\n",
        "Improper handling of references can cause memory leaks—memory that is never freed because references to unused objects are still held somewhere. This often happens with global variables, large data caches, or lingering references in closures and containers.\n",
        "\n",
        "3. Large Object Overhead\n",
        "Python objects have extra metadata (type, reference count, etc.), so even small pieces of data take more memory compared to lower-level languages like C. This overhead can be a problem in memory-constrained environments.\n",
        "\n",
        "4. Fragmentation\n",
        "Because Python allocates and frees memory dynamically, memory can become fragmented over time, making it harder for the program to use large contiguous memory blocks efficiently.\n",
        "\n",
        "5. Long-Lived Objects\n",
        "In Python’s generational garbage collection, older generations are collected less frequently. If you keep objects alive for a long time, they may consume memory unnecessarily even if they are not actively used.\n",
        "\n",
        "6. External Resources\n",
        "Objects managing external resources (e.g., file handles, network connections) rely on timely cleanup. If they aren’t closed or released properly, they can cause resource exhaustion even if Python eventually collects them."
      ],
      "metadata": {
        "id": "2DhUs0Td0s4t"
      }
    },
    {
      "cell_type": "markdown",
      "source": [
        "24. How do you raise an exception manually in\n",
        "\n",
        "You can manually raise an exception in Python using the raise keyword, followed by an exception class or instance."
      ],
      "metadata": {
        "id": "3eLuZvXJ07i_"
      }
    },
    {
      "cell_type": "code",
      "source": [
        "x = -5\n",
        "if x < 0:\n",
        "    raise ValueError(\"x cannot be negative\")\n"
      ],
      "metadata": {
        "colab": {
          "base_uri": "https://localhost:8080/",
          "height": 190
        },
        "id": "xyhpjUt400lr",
        "outputId": "b2dca6ef-9c9b-4968-f383-c3bd5b586476"
      },
      "execution_count": 25,
      "outputs": [
        {
          "output_type": "error",
          "ename": "ValueError",
          "evalue": "x cannot be negative",
          "traceback": [
            "\u001b[0;31m---------------------------------------------------------------------------\u001b[0m",
            "\u001b[0;31mValueError\u001b[0m                                Traceback (most recent call last)",
            "\u001b[0;32m/tmp/ipython-input-1736495608.py\u001b[0m in \u001b[0;36m<cell line: 0>\u001b[0;34m()\u001b[0m\n\u001b[1;32m      1\u001b[0m \u001b[0mx\u001b[0m \u001b[0;34m=\u001b[0m \u001b[0;34m-\u001b[0m\u001b[0;36m5\u001b[0m\u001b[0;34m\u001b[0m\u001b[0;34m\u001b[0m\u001b[0m\n\u001b[1;32m      2\u001b[0m \u001b[0;32mif\u001b[0m \u001b[0mx\u001b[0m \u001b[0;34m<\u001b[0m \u001b[0;36m0\u001b[0m\u001b[0;34m:\u001b[0m\u001b[0;34m\u001b[0m\u001b[0;34m\u001b[0m\u001b[0m\n\u001b[0;32m----> 3\u001b[0;31m     \u001b[0;32mraise\u001b[0m \u001b[0mValueError\u001b[0m\u001b[0;34m(\u001b[0m\u001b[0;34m\"x cannot be negative\"\u001b[0m\u001b[0;34m)\u001b[0m\u001b[0;34m\u001b[0m\u001b[0;34m\u001b[0m\u001b[0m\n\u001b[0m",
            "\u001b[0;31mValueError\u001b[0m: x cannot be negative"
          ]
        }
      ]
    },
    {
      "cell_type": "code",
      "source": [
        "class MyError(Exception):\n",
        "    pass\n",
        "\n",
        "raise MyError(\"Something went wrong\")\n"
      ],
      "metadata": {
        "colab": {
          "base_uri": "https://localhost:8080/",
          "height": 190
        },
        "id": "KP8F2MxL0pBA",
        "outputId": "e65c074c-2060-45aa-caf6-2a3a3c2afff9"
      },
      "execution_count": 26,
      "outputs": [
        {
          "output_type": "error",
          "ename": "MyError",
          "evalue": "Something went wrong",
          "traceback": [
            "\u001b[0;31m---------------------------------------------------------------------------\u001b[0m",
            "\u001b[0;31mMyError\u001b[0m                                   Traceback (most recent call last)",
            "\u001b[0;32m/tmp/ipython-input-1241691526.py\u001b[0m in \u001b[0;36m<cell line: 0>\u001b[0;34m()\u001b[0m\n\u001b[1;32m      2\u001b[0m     \u001b[0;32mpass\u001b[0m\u001b[0;34m\u001b[0m\u001b[0;34m\u001b[0m\u001b[0m\n\u001b[1;32m      3\u001b[0m \u001b[0;34m\u001b[0m\u001b[0m\n\u001b[0;32m----> 4\u001b[0;31m \u001b[0;32mraise\u001b[0m \u001b[0mMyError\u001b[0m\u001b[0;34m(\u001b[0m\u001b[0;34m\"Something went wrong\"\u001b[0m\u001b[0;34m)\u001b[0m\u001b[0;34m\u001b[0m\u001b[0;34m\u001b[0m\u001b[0m\n\u001b[0m",
            "\u001b[0;31mMyError\u001b[0m: Something went wrong"
          ]
        }
      ]
    },
    {
      "cell_type": "code",
      "source": [
        "try:\n",
        "    1 / 0\n",
        "except ZeroDivisionError:\n",
        "    raise  # Re-throws the caught exception\n"
      ],
      "metadata": {
        "colab": {
          "base_uri": "https://localhost:8080/",
          "height": 206
        },
        "id": "c2YcBj_C1Dem",
        "outputId": "1a49202e-8c6f-466f-d80f-be5bb0fa7c40"
      },
      "execution_count": 27,
      "outputs": [
        {
          "output_type": "error",
          "ename": "ZeroDivisionError",
          "evalue": "division by zero",
          "traceback": [
            "\u001b[0;31m---------------------------------------------------------------------------\u001b[0m",
            "\u001b[0;31mZeroDivisionError\u001b[0m                         Traceback (most recent call last)",
            "\u001b[0;32m/tmp/ipython-input-1914331174.py\u001b[0m in \u001b[0;36m<cell line: 0>\u001b[0;34m()\u001b[0m\n\u001b[1;32m      1\u001b[0m \u001b[0;32mtry\u001b[0m\u001b[0;34m:\u001b[0m\u001b[0;34m\u001b[0m\u001b[0;34m\u001b[0m\u001b[0m\n\u001b[0;32m----> 2\u001b[0;31m     \u001b[0;36m1\u001b[0m \u001b[0;34m/\u001b[0m \u001b[0;36m0\u001b[0m\u001b[0;34m\u001b[0m\u001b[0;34m\u001b[0m\u001b[0m\n\u001b[0m\u001b[1;32m      3\u001b[0m \u001b[0;32mexcept\u001b[0m \u001b[0mZeroDivisionError\u001b[0m\u001b[0;34m:\u001b[0m\u001b[0;34m\u001b[0m\u001b[0;34m\u001b[0m\u001b[0m\n\u001b[1;32m      4\u001b[0m     \u001b[0;32mraise\u001b[0m  \u001b[0;31m# Re-throws the caught exception\u001b[0m\u001b[0;34m\u001b[0m\u001b[0;34m\u001b[0m\u001b[0m\n",
            "\u001b[0;31mZeroDivisionError\u001b[0m: division by zero"
          ]
        }
      ]
    },
    {
      "cell_type": "markdown",
      "source": [
        "25. Why is it important to use multithreading in certain applications?\n",
        "\n",
        "Multithreading is important in certain applications because it allows multiple parts of a program to run concurrently within the same process, improving responsiveness and resource utilization.\n",
        "It’s especially useful when tasks involve I/O-bound operations such as reading/writing files, making network requests, or interacting with databases. While one thread waits for I/O, another can continue executing, preventing the program from sitting idle. This can significantly improve performance in applications like web servers, chat apps, and data pipelines.\n",
        "\n",
        "Multithreading also helps create responsive user interfaces—for example, in GUI apps, one thread can handle user input while another processes background tasks, so the interface doesn’t freeze.\n",
        "\n",
        "However, in Python, because of the Global Interpreter Lock (GIL), multithreading doesn’t give true parallel execution for CPU-bound tasks. In such cases, multiprocessing is preferred.\n",
        "\n"
      ],
      "metadata": {
        "id": "fdKlFk-N1dfZ"
      }
    },
    {
      "cell_type": "code",
      "source": [
        "import threading\n",
        "import time\n",
        "\n",
        "def task(name):\n",
        "    print(f\"{name} started\")\n",
        "    time.sleep(2)\n",
        "    print(f\"{name} finished\")\n",
        "\n",
        "t1 = threading.Thread(target=task, args=(\"Task 1\",))\n",
        "t2 = threading.Thread(target=task, args=(\"Task 2\",))\n",
        "\n",
        "t1.start()\n",
        "t2.start()\n",
        "t1.join()\n",
        "t2.join()\n"
      ],
      "metadata": {
        "colab": {
          "base_uri": "https://localhost:8080/"
        },
        "id": "XHDZ6m-Z1gNo",
        "outputId": "ea37c9c0-cf2a-4aa3-e280-fcd3cc5b5bca"
      },
      "execution_count": 28,
      "outputs": [
        {
          "output_type": "stream",
          "name": "stdout",
          "text": [
            "Task 1 startedTask 2 started\n",
            "\n",
            "Task 2 finishedTask 1 finished\n",
            "\n"
          ]
        }
      ]
    },
    {
      "cell_type": "code",
      "source": [],
      "metadata": {
        "id": "J80fdgAU1gb7"
      },
      "execution_count": 28,
      "outputs": []
    },
    {
      "cell_type": "markdown",
      "source": [
        "# ***`Practical Questions`***"
      ],
      "metadata": {
        "id": "CocxYFUk1jwa"
      }
    },
    {
      "cell_type": "markdown",
      "metadata": {
        "id": "4c78943a"
      },
      "source": [
        "1. How can you open a file for writing in Python and write a string to it?"
      ]
    },
    {
      "cell_type": "markdown",
      "metadata": {
        "id": "dcfa4c59"
      },
      "source": [
        "**Reasoning**:\n",
        "Open a file named `my_output_file.txt` in write mode, write a string to it, and then close the file.\n",
        "\n"
      ]
    },
    {
      "cell_type": "code",
      "metadata": {
        "id": "4657a9e6"
      },
      "source": [
        "with open('my_output_file.txt', 'w') as f:\n",
        "    f.write('This is a test string.')"
      ],
      "execution_count": 29,
      "outputs": []
    },
    {
      "cell_type": "markdown",
      "metadata": {
        "id": "017ff531"
      },
      "source": [
        "2. Write a Python program to read the contents of a file and print each line."
      ]
    },
    {
      "cell_type": "markdown",
      "metadata": {
        "id": "7372a9de"
      },
      "source": [
        "**Reasoning**:\n",
        "The subtask requires reading a file line by line and printing each line. I will use a `with` statement to open the file and iterate over it to read and print each line.\n",
        "\n"
      ]
    },
    {
      "cell_type": "code",
      "metadata": {
        "colab": {
          "base_uri": "https://localhost:8080/"
        },
        "id": "21937848",
        "outputId": "3a999bb4-a3aa-4757-81c5-774b6b23139c"
      },
      "source": [
        "with open('my_output_file.txt', 'r') as f:\n",
        "    for line in f:\n",
        "        print(line.strip())"
      ],
      "execution_count": 30,
      "outputs": [
        {
          "output_type": "stream",
          "name": "stdout",
          "text": [
            "This is a test string.\n"
          ]
        }
      ]
    },
    {
      "cell_type": "markdown",
      "metadata": {
        "id": "dbdc8a09"
      },
      "source": [
        "3. How would you handle a case where the file doesn't exist while trying to open it for reading?"
      ]
    },
    {
      "cell_type": "markdown",
      "metadata": {
        "id": "46831745"
      },
      "source": [
        "**Reasoning**:\n",
        "The subtask is to handle FileNotFoundError when opening a file. I will define a try-except block to achieve this.\n",
        "\n"
      ]
    },
    {
      "cell_type": "code",
      "metadata": {
        "colab": {
          "base_uri": "https://localhost:8080/"
        },
        "id": "3387e111",
        "outputId": "9bfec251-da1c-435b-def6-24372e3bb447"
      },
      "source": [
        "try:\n",
        "  # Attempt to open a non-existent file for reading\n",
        "  with open('non_existent_file.txt', 'r') as f:\n",
        "    content = f.read()\n",
        "    print(content)\n",
        "except FileNotFoundError:\n",
        "  # Print an informative message if FileNotFoundError occurs\n",
        "  print(\"Error: The file was not found.\")\n"
      ],
      "execution_count": 31,
      "outputs": [
        {
          "output_type": "stream",
          "name": "stdout",
          "text": [
            "Error: The file was not found.\n"
          ]
        }
      ]
    },
    {
      "cell_type": "markdown",
      "metadata": {
        "id": "c66519b1"
      },
      "source": [
        "4. Write a Python script that reads from one file and writes its content to another file."
      ]
    },
    {
      "cell_type": "markdown",
      "metadata": {
        "id": "668e9a14"
      },
      "source": [
        "**Reasoning**:\n",
        "Open the source and destination files, read from the source, write to the destination, and ensure they are closed using a with statement.\n",
        "\n"
      ]
    },
    {
      "cell_type": "code",
      "metadata": {
        "colab": {
          "base_uri": "https://localhost:8080/"
        },
        "id": "ebde8e1e",
        "outputId": "3496821d-db69-4e99-cf1c-7c746a89d13a"
      },
      "source": [
        "try:\n",
        "    with open('my_output_file.txt', 'r') as source_file:\n",
        "        content = source_file.read()\n",
        "\n",
        "    with open('copied_file.txt', 'w') as destination_file:\n",
        "        destination_file.write(content)\n",
        "\n",
        "    print(\"Content successfully copied from my_output_file.txt to copied_file.txt\")\n",
        "\n",
        "except FileNotFoundError:\n",
        "    print(\"Error: The source file 'my_output_file.txt' was not found.\")\n",
        "except Exception as e:\n",
        "    print(f\"An error occurred: {e}\")"
      ],
      "execution_count": 32,
      "outputs": [
        {
          "output_type": "stream",
          "name": "stdout",
          "text": [
            "Content successfully copied from my_output_file.txt to copied_file.txt\n"
          ]
        }
      ]
    },
    {
      "cell_type": "markdown",
      "metadata": {
        "id": "b2d0d726"
      },
      "source": [
        "5. How would you catch and handle division by zero error in Python?"
      ]
    },
    {
      "cell_type": "markdown",
      "metadata": {
        "id": "be44cbc9"
      },
      "source": [
        "**Reasoning**:\n",
        "Generate code to catch and handle a ZeroDivisionError by attempting a division by zero in a try block and printing an error message in the except block.\n",
        "\n"
      ]
    },
    {
      "cell_type": "code",
      "metadata": {
        "colab": {
          "base_uri": "https://localhost:8080/"
        },
        "id": "b1282e99",
        "outputId": "e0f747f1-557d-4d96-ce7e-3a378340ad27"
      },
      "source": [
        "try:\n",
        "    # Attempt a division by zero\n",
        "    result = 10 / 0\n",
        "    print(result)\n",
        "except ZeroDivisionError:\n",
        "    # Print a message indicating the error\n",
        "    print(\"Error: Division by zero occurred.\")"
      ],
      "execution_count": 33,
      "outputs": [
        {
          "output_type": "stream",
          "name": "stdout",
          "text": [
            "Error: Division by zero occurred.\n"
          ]
        }
      ]
    },
    {
      "cell_type": "markdown",
      "metadata": {
        "id": "1bbb15d6"
      },
      "source": [
        "6. Write a Python program that logs an error message to a log file when a division by zero exception occurs."
      ]
    },
    {
      "cell_type": "markdown",
      "metadata": {
        "id": "ad923cb0"
      },
      "source": [
        "**Reasoning**:\n",
        "Implement the code to log a division by zero error to a file by importing the logging module, configuring it to write to 'error.log' with level ERROR, and using a try-except block to catch the ZeroDivisionError and log the error message.\n",
        "\n"
      ]
    },
    {
      "cell_type": "code",
      "metadata": {
        "colab": {
          "base_uri": "https://localhost:8080/"
        },
        "id": "2ff8c5e8",
        "outputId": "8913e1dc-3230-4be2-8103-b04c5606cff3"
      },
      "source": [
        "import logging\n",
        "\n",
        "# Configure logging to write to 'error.log' with minimum level ERROR\n",
        "logging.basicConfig(filename='error.log', level=logging.ERROR)\n",
        "\n",
        "try:\n",
        "    # Attempt a division by zero to trigger the error\n",
        "    result = 10 / 0\n",
        "except ZeroDivisionError:\n",
        "    # Log the division by zero error message\n",
        "    logging.error(\"Attempted division by zero!\")\n"
      ],
      "execution_count": 34,
      "outputs": [
        {
          "output_type": "stream",
          "name": "stderr",
          "text": [
            "ERROR:root:Attempted division by zero!\n"
          ]
        }
      ]
    },
    {
      "cell_type": "markdown",
      "metadata": {
        "id": "16943976"
      },
      "source": [
        "7. How do you log information at different levels (INFO, ERROR, WARNING) in Python using the logging module?"
      ]
    },
    {
      "cell_type": "markdown",
      "metadata": {
        "id": "2bfb4839"
      },
      "source": [
        "**Reasoning**:\n",
        "The subtask requires demonstrating logging at different levels. I will import the logging module, configure the basic logging settings to set the level to INFO and include a message format, and then log messages at INFO, WARNING, and ERROR levels as requested.\n",
        "\n"
      ]
    },
    {
      "cell_type": "code",
      "metadata": {
        "colab": {
          "base_uri": "https://localhost:8080/"
        },
        "id": "98de722a",
        "outputId": "51d3164a-7d5e-4ed3-f0cb-7b78b582f7a2"
      },
      "source": [
        "import logging\n",
        "\n",
        "# Configure logging with format and INFO level\n",
        "logging.basicConfig(\n",
        "    level=logging.INFO,\n",
        "    format='%(asctime)s - %(levelname)s - %(message)s'\n",
        ")\n",
        "\n",
        "# Log messages at different levels\n",
        "logging.info(\"This is an informational message.\")\n",
        "logging.warning(\"This is a warning message.\")\n",
        "logging.error(\"This is an error message.\")"
      ],
      "execution_count": 35,
      "outputs": [
        {
          "output_type": "stream",
          "name": "stderr",
          "text": [
            "WARNING:root:This is a warning message.\n",
            "ERROR:root:This is an error message.\n"
          ]
        }
      ]
    },
    {
      "cell_type": "markdown",
      "metadata": {
        "id": "d1e63551"
      },
      "source": [
        "8. Write a program to handle a file opening error using exception handling."
      ]
    },
    {
      "cell_type": "markdown",
      "metadata": {
        "id": "c3e2449f"
      },
      "source": [
        "**Reasoning**:\n",
        "Generate code to handle general file opening errors using exception handling, specifically catching IOError.\n",
        "\n"
      ]
    },
    {
      "cell_type": "code",
      "metadata": {
        "colab": {
          "base_uri": "https://localhost:8080/"
        },
        "id": "94dfaea6",
        "outputId": "68dcd98a-080f-46a5-bda7-24acef6516fc"
      },
      "source": [
        "import os\n",
        "\n",
        "try:\n",
        "    # Attempt to open a file that might not exist or have permission issues\n",
        "    # Using a non-existent file path for demonstration\n",
        "    with open('/path/to/a/non_existent_or_permission_denied_file.txt', 'r') as f:\n",
        "        content = f.read()\n",
        "        print(content)\n",
        "except IOError as e:\n",
        "    # Catch IOError and print an informative message including the error details\n",
        "    print(f\"Error: A file opening error occurred: {e}\")\n",
        "except Exception as e:\n",
        "    # Catch any other potential exceptions during file opening\n",
        "    print(f\"An unexpected error occurred: {e}\")\n"
      ],
      "execution_count": 36,
      "outputs": [
        {
          "output_type": "stream",
          "name": "stdout",
          "text": [
            "Error: A file opening error occurred: [Errno 2] No such file or directory: '/path/to/a/non_existent_or_permission_denied_file.txt'\n"
          ]
        }
      ]
    },
    {
      "cell_type": "markdown",
      "metadata": {
        "id": "a9d068f7"
      },
      "source": [
        "9. How can you read a file line by line and store its content in a list in Python?"
      ]
    },
    {
      "cell_type": "markdown",
      "metadata": {
        "id": "61477697"
      },
      "source": [
        "**Reasoning**:\n",
        "Open the specified file, read its content line by line, store each line in a list after stripping whitespace, and then print the list.\n",
        "\n"
      ]
    },
    {
      "cell_type": "code",
      "metadata": {
        "colab": {
          "base_uri": "https://localhost:8080/"
        },
        "id": "eb2ba010",
        "outputId": "00892a69-c4a9-4db5-e09f-dd4e75212b8b"
      },
      "source": [
        "file_path = 'my_output_file.txt'\n",
        "lines_list = []\n",
        "\n",
        "try:\n",
        "    with open(file_path, 'r') as f:\n",
        "        for line in f:\n",
        "            lines_list.append(line.strip())\n",
        "\n",
        "    print(lines_list)\n",
        "\n",
        "except FileNotFoundError:\n",
        "    print(f\"Error: The file '{file_path}' was not found.\")\n",
        "except Exception as e:\n",
        "    print(f\"An unexpected error occurred: {e}\")\n"
      ],
      "execution_count": 37,
      "outputs": [
        {
          "output_type": "stream",
          "name": "stdout",
          "text": [
            "['This is a test string.']\n"
          ]
        }
      ]
    },
    {
      "cell_type": "markdown",
      "metadata": {
        "id": "6ea1f1f5"
      },
      "source": [
        "10. How can you append data to an existing file in Python?"
      ]
    },
    {
      "cell_type": "markdown",
      "metadata": {
        "id": "61d8e199"
      },
      "source": [
        "**Reasoning**:\n",
        "The subtask requires appending data to an existing file. I will open the file in append mode ('a') and write a new string to it, ensuring it's closed using a `with` statement.\n",
        "\n"
      ]
    },
    {
      "cell_type": "code",
      "metadata": {
        "colab": {
          "base_uri": "https://localhost:8080/"
        },
        "id": "ee799f8d",
        "outputId": "694c7590-8b80-40b4-f387-a31545388db0"
      },
      "source": [
        "file_path = 'my_output_file.txt'\n",
        "append_data = \"\\nThis is appended data.\"\n",
        "\n",
        "try:\n",
        "    # Open the file in append mode ('a')\n",
        "    with open(file_path, 'a') as f:\n",
        "        # Write the new string to the file\n",
        "        f.write(append_data)\n",
        "\n",
        "    print(f\"Successfully appended data to '{file_path}'\")\n",
        "\n",
        "except IOError as e:\n",
        "    print(f\"Error: An error occurred while appending to the file: {e}\")\n",
        "except Exception as e:\n",
        "    print(f\"An unexpected error occurred: {e}\")\n"
      ],
      "execution_count": 38,
      "outputs": [
        {
          "output_type": "stream",
          "name": "stdout",
          "text": [
            "Successfully appended data to 'my_output_file.txt'\n"
          ]
        }
      ]
    },
    {
      "cell_type": "markdown",
      "metadata": {
        "id": "fbdca474"
      },
      "source": [
        "11. Write a Python program that uses a try-except block to handle an error when attempting to access a dictionary key that doesn't exist."
      ]
    },
    {
      "cell_type": "markdown",
      "metadata": {
        "id": "207772b4"
      },
      "source": [
        "**Reasoning**:\n",
        "Create a dictionary and attempt to access a non-existent key within a try...except block to handle the KeyError.\n",
        "\n"
      ]
    },
    {
      "cell_type": "code",
      "metadata": {
        "colab": {
          "base_uri": "https://localhost:8080/"
        },
        "id": "85f81e9a",
        "outputId": "01656c2f-e0c5-4f5a-f33c-77f3f767d59c"
      },
      "source": [
        "# 1. Create a Python dictionary\n",
        "my_dict = {\"apple\": 1, \"banana\": 2, \"cherry\": 3}\n",
        "\n",
        "# 2. Use a try...except KeyError block\n",
        "try:\n",
        "    # Attempt to access a key that does not exist\n",
        "    value = my_dict[\"grape\"]\n",
        "    print(f\"The value is: {value}\")\n",
        "except KeyError as e:\n",
        "    # 3. Print an informative message\n",
        "    print(f\"Error: The key '{e}' was not found in the dictionary.\")\n"
      ],
      "execution_count": 39,
      "outputs": [
        {
          "output_type": "stream",
          "name": "stdout",
          "text": [
            "Error: The key ''grape'' was not found in the dictionary.\n"
          ]
        }
      ]
    },
    {
      "cell_type": "markdown",
      "metadata": {
        "id": "a26933b9"
      },
      "source": [
        "12. Write a program that demonstrates using multiple except blocks to handle different types of exceptions."
      ]
    },
    {
      "cell_type": "markdown",
      "metadata": {
        "id": "cc551da1"
      },
      "source": [
        "**Reasoning**:\n",
        "The task requires demonstrating handling multiple exception types using multiple `except` blocks. I will define a function that can raise `ZeroDivisionError` or `ValueError` and use a try-except structure with separate blocks to handle them.\n",
        "\n"
      ]
    },
    {
      "cell_type": "code",
      "metadata": {
        "colab": {
          "base_uri": "https://localhost:8080/"
        },
        "id": "c14a6ae0",
        "outputId": "ad1acdd0-94f9-4d98-b920-7d6c8789b792"
      },
      "source": [
        "def perform_risky_operation(x, y):\n",
        "    \"\"\"Performs division, potentially raising ZeroDivisionError or ValueError.\"\"\"\n",
        "    if not isinstance(x, (int, float)) or not isinstance(y, (int, float)):\n",
        "        raise ValueError(\"Inputs must be numbers.\")\n",
        "    return x / y\n",
        "\n",
        "# Demonstrate handling different exceptions with multiple except blocks\n",
        "try:\n",
        "    # Example 1: Trigger ZeroDivisionError\n",
        "    result = perform_risky_operation(10, 0)\n",
        "    print(f\"Result: {result}\")\n",
        "except ZeroDivisionError:\n",
        "    print(\"Error: Cannot divide by zero!\")\n",
        "except ValueError:\n",
        "    print(\"Error: Invalid input type or value!\")\n",
        "except Exception as e:\n",
        "    print(f\"An unexpected error occurred: {e}\")\n",
        "\n",
        "print(\"-\" * 20) # Separator for clarity\n",
        "\n",
        "try:\n",
        "    # Example 2: Trigger ValueError\n",
        "    result = perform_risky_operation(10, \"abc\")\n",
        "    print(f\"Result: {result}\")\n",
        "except ZeroDivisionError:\n",
        "    print(\"Error: Cannot divide by zero!\")\n",
        "except ValueError:\n",
        "    print(\"Error: Invalid input type or value!\")\n",
        "except Exception as e:\n",
        "    print(f\"An unexpected error occurred: {e}\")\n",
        "\n",
        "print(\"-\" * 20) # Separator for clarity\n",
        "\n",
        "try:\n",
        "    # Example 3: No error\n",
        "    result = perform_risky_operation(10, 2)\n",
        "    print(f\"Result: {result}\")\n",
        "except ZeroDivisionError:\n",
        "    print(\"Error: Cannot divide by zero!\")\n",
        "except ValueError:\n",
        "    print(\"Error: Invalid input type or value!\")\n",
        "except Exception as e:\n",
        "    print(f\"An unexpected error occurred: {e}\")"
      ],
      "execution_count": 40,
      "outputs": [
        {
          "output_type": "stream",
          "name": "stdout",
          "text": [
            "Error: Cannot divide by zero!\n",
            "--------------------\n",
            "Error: Invalid input type or value!\n",
            "--------------------\n",
            "Result: 5.0\n"
          ]
        }
      ]
    },
    {
      "cell_type": "markdown",
      "metadata": {
        "id": "dcc4d3b9"
      },
      "source": [
        "13. How would you check if a file exists before attempting to read it in Python?"
      ]
    },
    {
      "cell_type": "markdown",
      "metadata": {
        "id": "2710e966"
      },
      "source": [
        "**Reasoning**:\n",
        "Import the os module and then use os.path.exists to check if the file exists before attempting to open and read it. Print the content if found, otherwise print a not found message.\n",
        "\n"
      ]
    },
    {
      "cell_type": "code",
      "metadata": {
        "colab": {
          "base_uri": "https://localhost:8080/"
        },
        "id": "c629c85e",
        "outputId": "6111df84-ec79-496d-ee4e-5f173d8790d0"
      },
      "source": [
        "import os\n",
        "\n",
        "# Define the file path\n",
        "file_path = 'my_output_file.txt'\n",
        "\n",
        "# Check if the file exists\n",
        "if os.path.exists(file_path):\n",
        "    print(f\"File '{file_path}' found. Reading content:\")\n",
        "    # If the file exists, open and read it\n",
        "    try:\n",
        "        with open(file_path, 'r') as f:\n",
        "            content = f.read()\n",
        "            print(content)\n",
        "    except IOError as e:\n",
        "        print(f\"Error reading file: {e}\")\n",
        "else:\n",
        "    # If the file does not exist, print a message\n",
        "    print(f\"Error: File '{file_path}' not found.\")\n"
      ],
      "execution_count": 41,
      "outputs": [
        {
          "output_type": "stream",
          "name": "stdout",
          "text": [
            "File 'my_output_file.txt' found. Reading content:\n",
            "This is a test string.\n",
            "This is appended data.\n"
          ]
        }
      ]
    },
    {
      "cell_type": "markdown",
      "metadata": {
        "id": "d2adb686"
      },
      "source": [
        "14. Write a program that uses the logging module to log both informational and error messages."
      ]
    },
    {
      "cell_type": "markdown",
      "metadata": {
        "id": "f633c3f3"
      },
      "source": [
        "**Reasoning**:\n",
        "Generate code to demonstrate logging at different levels using the logging module as requested by the subtask.\n",
        "\n"
      ]
    },
    {
      "cell_type": "code",
      "metadata": {
        "colab": {
          "base_uri": "https://localhost:8080/"
        },
        "id": "1facc596",
        "outputId": "df5bd283-647e-479d-9a22-4eda1f483b37"
      },
      "source": [
        "import logging\n",
        "\n",
        "# Configure basic logging\n",
        "logging.basicConfig(level=logging.INFO)\n",
        "\n",
        "# Log an informational message\n",
        "logging.info(\"This is an informational message.\")\n",
        "\n",
        "# Log an error message\n",
        "logging.error(\"This is an error message.\")"
      ],
      "execution_count": 42,
      "outputs": [
        {
          "output_type": "stream",
          "name": "stderr",
          "text": [
            "ERROR:root:This is an error message.\n"
          ]
        }
      ]
    },
    {
      "cell_type": "markdown",
      "metadata": {
        "id": "a94aaa4e"
      },
      "source": [
        "15. Write a Python program that prints the content of a file and handles the case when the file is empty."
      ]
    },
    {
      "cell_type": "markdown",
      "metadata": {
        "id": "17f50677"
      },
      "source": [
        "**Reasoning**:\n",
        "The subtask requires creating two files, defining a function to read and print their content while handling `IOError` and empty files. I will create the files first and then write the function in a single code block as these steps are related to file handling and error handling.\n",
        "\n"
      ]
    },
    {
      "cell_type": "code",
      "metadata": {
        "colab": {
          "base_uri": "https://localhost:8080/"
        },
        "id": "a26bc95f",
        "outputId": "653bc133-a6da-4b85-b563-d21f335d7bef"
      },
      "source": [
        "import os\n",
        "\n",
        "# Create an empty file\n",
        "empty_file_path = 'empty_file.txt'\n",
        "with open(empty_file_path, 'w') as f:\n",
        "    pass\n",
        "\n",
        "# Create a non-empty file\n",
        "non_empty_file_path = 'non_empty_file.txt'\n",
        "with open(non_empty_file_path, 'w') as f:\n",
        "    f.write(\"This is not an empty file.\")\n",
        "\n",
        "# Function to read and print file content, handling empty file and IOError\n",
        "def read_and_print_file(file_path):\n",
        "    print(f\"\\nProcessing file: {file_path}\")\n",
        "    try:\n",
        "        with open(file_path, 'r') as f:\n",
        "            content = f.read()\n",
        "            if not content:\n",
        "                print(f\"The file '{file_path}' is empty.\")\n",
        "            else:\n",
        "                print(\"File content:\")\n",
        "                print(content)\n",
        "    except IOError as e:\n",
        "        print(f\"Error reading file '{file_path}': {e}\")\n",
        "\n",
        "# Call the function for both files\n",
        "read_and_print_file(empty_file_path)\n",
        "read_and_print_file(non_empty_file_path)\n",
        "\n",
        "# Clean up the created files (optional, but good practice)\n",
        "# os.remove(empty_file_path)\n",
        "# os.remove(non_empty_file_path)"
      ],
      "execution_count": 43,
      "outputs": [
        {
          "output_type": "stream",
          "name": "stdout",
          "text": [
            "\n",
            "Processing file: empty_file.txt\n",
            "The file 'empty_file.txt' is empty.\n",
            "\n",
            "Processing file: non_empty_file.txt\n",
            "File content:\n",
            "This is not an empty file.\n"
          ]
        }
      ]
    },
    {
      "cell_type": "markdown",
      "metadata": {
        "id": "06de980b"
      },
      "source": [
        "16. Demonstrate how to use memory profiling to check the memory usage of a small program."
      ]
    },
    {
      "cell_type": "markdown",
      "metadata": {
        "id": "3d61af88"
      },
      "source": [
        "**Reasoning**:\n",
        "Import the memory_profiler and define a function to profile its memory usage when creating a large list, then call the function.\n",
        "\n"
      ]
    },
    {
      "cell_type": "code",
      "source": [
        "%pip install memory-profiler\n",
        "%load_ext memory_profiler\n"
      ],
      "metadata": {
        "colab": {
          "base_uri": "https://localhost:8080/"
        },
        "id": "GE-y-u1M7dqH",
        "outputId": "6aead556-4a13-464d-e2b2-dbd03aba6bce"
      },
      "execution_count": 44,
      "outputs": [
        {
          "output_type": "stream",
          "name": "stdout",
          "text": [
            "Collecting memory-profiler\n",
            "  Downloading memory_profiler-0.61.0-py3-none-any.whl.metadata (20 kB)\n",
            "Requirement already satisfied: psutil in /usr/local/lib/python3.11/dist-packages (from memory-profiler) (5.9.5)\n",
            "Downloading memory_profiler-0.61.0-py3-none-any.whl (31 kB)\n",
            "Installing collected packages: memory-profiler\n",
            "Successfully installed memory-profiler-0.61.0\n"
          ]
        }
      ]
    },
    {
      "cell_type": "code",
      "metadata": {
        "colab": {
          "base_uri": "https://localhost:8080/"
        },
        "id": "d857a4fb",
        "outputId": "a01b55e6-e98b-4fcd-d83d-39d02531b692"
      },
      "source": [
        "# Install memory_profiler in Colab\n",
        "!pip install -q memory_profiler\n",
        "\n",
        "# Load the memory_profiler Jupyter magic\n",
        "%load_ext memory_profiler\n",
        "\n",
        "# Define the function you want to profile\n",
        "def create_large_list():\n",
        "    \"\"\"Creates a large list to demonstrate memory profiling.\"\"\"\n",
        "    large_list = [i for i in range(1000000)]  # 1 million integers\n",
        "    return large_list\n",
        "\n",
        "# Run memory profiler on the function\n",
        "%mprun -f create_large_list create_large_list()\n"
      ],
      "execution_count": 50,
      "outputs": [
        {
          "output_type": "stream",
          "name": "stdout",
          "text": [
            "The memory_profiler extension is already loaded. To reload it, use:\n",
            "  %reload_ext memory_profiler\n",
            "ERROR: Could not find file /tmp/ipython-input-2120870455.py\n",
            "\n"
          ]
        }
      ]
    },
    {
      "cell_type": "markdown",
      "metadata": {
        "id": "6f9047e2"
      },
      "source": [
        "17. Write a Python program to create and write a list of numbers to a file, one number per line."
      ]
    },
    {
      "cell_type": "markdown",
      "metadata": {
        "id": "2ec4af86"
      },
      "source": [
        "**Reasoning**:\n",
        "The task is to write a list of numbers to a file, handling potential IOError. I will create the list, specify the file path, open the file in write mode using a with statement and a try...except block, iterate through the list, write each number as a string followed by a newline, and print a success or error message.\n",
        "\n"
      ]
    },
    {
      "cell_type": "code",
      "metadata": {
        "colab": {
          "base_uri": "https://localhost:8080/"
        },
        "id": "7f8a817b",
        "outputId": "bc11ebac-c40d-4bb4-c4cc-e55d314c6687"
      },
      "source": [
        "import os\n",
        "\n",
        "\n",
        "numbers_list = [1, 2, 3, 4, 5]\n",
        "\n",
        "file_path = 'numbers.txt'\n",
        "\n",
        "\n",
        "try:\n",
        "\n",
        "    with open(file_path, 'w') as f:\n",
        "\n",
        "        for number in numbers_list:\n",
        "\n",
        "            f.write(str(number) + '\\n')\n",
        "\n",
        "\n",
        "    print(f\"Successfully wrote list of numbers to '{file_path}'\")\n",
        "\n",
        "except IOError as e:\n",
        "\n",
        "    print(f\"Error: Could not write to file '{file_path}': {e}\")\n",
        "except Exception as e:\n",
        "    print(f\"An unexpected error occurred: {e}\")\n"
      ],
      "execution_count": 46,
      "outputs": [
        {
          "output_type": "stream",
          "name": "stdout",
          "text": [
            "Successfully wrote list of numbers to 'numbers.txt'\n"
          ]
        }
      ]
    },
    {
      "cell_type": "markdown",
      "metadata": {
        "id": "b58636ef"
      },
      "source": [
        "18. How would you implement a basic logging setup that logs to a file with rotation after IMB?"
      ]
    },
    {
      "cell_type": "markdown",
      "metadata": {
        "id": "5da12440"
      },
      "source": [
        "**Reasoning**:\n",
        "Implement basic logging with file rotation.\n",
        "\n"
      ]
    },
    {
      "cell_type": "code",
      "metadata": {
        "colab": {
          "base_uri": "https://localhost:8080/"
        },
        "id": "cd5c3724",
        "outputId": "82d93447-9857-4c47-9572-8cb2c01c4b2b"
      },
      "source": [
        "import logging\n",
        "import logging.handlers\n",
        "import os\n",
        "import time\n",
        "\n",
        "# 2. Specify the log file name\n",
        "log_file = 'rotating_log.log'\n",
        "\n",
        "# 3. Create a RotatingFileHandler instance\n",
        "#    Configure it with the filename, a maximum file size (1024 bytes),\n",
        "#    and the number of backup files to keep (3).\n",
        "handler = logging.handlers.RotatingFileHandler(\n",
        "    log_file,\n",
        "    maxBytes=1024,  # 1KB max size for demonstration\n",
        "    backupCount=3   # Keep up to 3 backup logs (e.g., rotating_log.log.1, .2, .3)\n",
        ")\n",
        "\n",
        "# 4. Create a formatter to define the log message format\n",
        "formatter = logging.Formatter('%(asctime)s - %(levelname)s - %(message)s')\n",
        "\n",
        "# 5. Set the formatter for the RotatingFileHandler\n",
        "handler.setFormatter(formatter)\n",
        "\n",
        "# 6. Get the root logger and set its logging level\n",
        "logger = logging.getLogger('') # Get the root logger\n",
        "logger.setLevel(logging.INFO)\n",
        "\n",
        "# 7. Add the RotatingFileHandler to the root logger\n",
        "logger.addHandler(handler)\n",
        "\n",
        "print(f\"Logging configured to '{log_file}' with rotation (maxBytes=1024, backupCount=3).\")\n",
        "\n",
        "# 8. Log several messages to demonstrate logging and potential rotation.\n",
        "#    Log enough messages to exceed 1KB to trigger rotation.\n",
        "print(\"Logging messages to trigger potential file rotation...\")\n",
        "for i in range(200): # Log 200 messages - should exceed 1KB\n",
        "    logging.info(f\"This is log message number {i+1}.\")\n",
        "    if (i + 1) % 50 == 0:\n",
        "        print(f\"Logged {i+1} messages...\")\n",
        "    # Small delay to avoid overwhelming the system in some environments\n",
        "    # time.sleep(0.01)\n",
        "\n",
        "logging.warning(\"Finished logging messages.\")\n",
        "\n",
        "print(\"\\nCheck the current directory for 'rotating_log.log' and potential backup files.\")\n",
        "print(\"If rotation occurred, you should see files like 'rotating_log.log.1', 'rotating_log.log.2', etc.\")\n"
      ],
      "execution_count": 47,
      "outputs": [
        {
          "output_type": "stream",
          "name": "stderr",
          "text": [
            "INFO:root:This is log message number 1.\n",
            "INFO:root:This is log message number 2.\n",
            "INFO:root:This is log message number 3.\n",
            "INFO:root:This is log message number 4.\n",
            "INFO:root:This is log message number 5.\n",
            "INFO:root:This is log message number 6.\n",
            "INFO:root:This is log message number 7.\n",
            "INFO:root:This is log message number 8.\n",
            "INFO:root:This is log message number 9.\n",
            "INFO:root:This is log message number 10.\n",
            "INFO:root:This is log message number 11.\n",
            "INFO:root:This is log message number 12.\n",
            "INFO:root:This is log message number 13.\n",
            "INFO:root:This is log message number 14.\n",
            "INFO:root:This is log message number 15.\n",
            "INFO:root:This is log message number 16.\n",
            "INFO:root:This is log message number 17.\n",
            "INFO:root:This is log message number 18.\n",
            "INFO:root:This is log message number 19.\n",
            "INFO:root:This is log message number 20.\n",
            "INFO:root:This is log message number 21.\n",
            "INFO:root:This is log message number 22.\n",
            "INFO:root:This is log message number 23.\n",
            "INFO:root:This is log message number 24.\n",
            "INFO:root:This is log message number 25.\n",
            "INFO:root:This is log message number 26.\n",
            "INFO:root:This is log message number 27.\n",
            "INFO:root:This is log message number 28.\n",
            "INFO:root:This is log message number 29.\n",
            "INFO:root:This is log message number 30.\n",
            "INFO:root:This is log message number 31.\n",
            "INFO:root:This is log message number 32.\n",
            "INFO:root:This is log message number 33.\n",
            "INFO:root:This is log message number 34.\n",
            "INFO:root:This is log message number 35.\n",
            "INFO:root:This is log message number 36.\n",
            "INFO:root:This is log message number 37.\n",
            "INFO:root:This is log message number 38.\n",
            "INFO:root:This is log message number 39.\n",
            "INFO:root:This is log message number 40.\n",
            "INFO:root:This is log message number 41.\n",
            "INFO:root:This is log message number 42.\n",
            "INFO:root:This is log message number 43.\n",
            "INFO:root:This is log message number 44.\n",
            "INFO:root:This is log message number 45.\n",
            "INFO:root:This is log message number 46.\n",
            "INFO:root:This is log message number 47.\n",
            "INFO:root:This is log message number 48.\n",
            "INFO:root:This is log message number 49.\n",
            "INFO:root:This is log message number 50.\n",
            "INFO:root:This is log message number 51.\n",
            "INFO:root:This is log message number 52.\n",
            "INFO:root:This is log message number 53.\n",
            "INFO:root:This is log message number 54.\n",
            "INFO:root:This is log message number 55.\n",
            "INFO:root:This is log message number 56.\n",
            "INFO:root:This is log message number 57.\n",
            "INFO:root:This is log message number 58.\n",
            "INFO:root:This is log message number 59.\n",
            "INFO:root:This is log message number 60.\n",
            "INFO:root:This is log message number 61.\n",
            "INFO:root:This is log message number 62.\n",
            "INFO:root:This is log message number 63.\n",
            "INFO:root:This is log message number 64.\n",
            "INFO:root:This is log message number 65.\n",
            "INFO:root:This is log message number 66.\n",
            "INFO:root:This is log message number 67.\n",
            "INFO:root:This is log message number 68.\n",
            "INFO:root:This is log message number 69.\n",
            "INFO:root:This is log message number 70.\n",
            "INFO:root:This is log message number 71.\n",
            "INFO:root:This is log message number 72.\n",
            "INFO:root:This is log message number 73.\n",
            "INFO:root:This is log message number 74.\n",
            "INFO:root:This is log message number 75.\n",
            "INFO:root:This is log message number 76.\n",
            "INFO:root:This is log message number 77.\n",
            "INFO:root:This is log message number 78.\n",
            "INFO:root:This is log message number 79.\n",
            "INFO:root:This is log message number 80.\n",
            "INFO:root:This is log message number 81.\n",
            "INFO:root:This is log message number 82.\n",
            "INFO:root:This is log message number 83.\n",
            "INFO:root:This is log message number 84.\n",
            "INFO:root:This is log message number 85.\n"
          ]
        },
        {
          "output_type": "stream",
          "name": "stdout",
          "text": [
            "Logging configured to 'rotating_log.log' with rotation (maxBytes=1024, backupCount=3).\n",
            "Logging messages to trigger potential file rotation...\n",
            "Logged 50 messages...\n"
          ]
        },
        {
          "output_type": "stream",
          "name": "stderr",
          "text": [
            "INFO:root:This is log message number 86.\n",
            "INFO:root:This is log message number 87.\n",
            "INFO:root:This is log message number 88.\n",
            "INFO:root:This is log message number 89.\n",
            "INFO:root:This is log message number 90.\n",
            "INFO:root:This is log message number 91.\n",
            "INFO:root:This is log message number 92.\n",
            "INFO:root:This is log message number 93.\n",
            "INFO:root:This is log message number 94.\n",
            "INFO:root:This is log message number 95.\n",
            "INFO:root:This is log message number 96.\n",
            "INFO:root:This is log message number 97.\n",
            "INFO:root:This is log message number 98.\n",
            "INFO:root:This is log message number 99.\n",
            "INFO:root:This is log message number 100.\n",
            "INFO:root:This is log message number 101.\n",
            "INFO:root:This is log message number 102.\n",
            "INFO:root:This is log message number 103.\n",
            "INFO:root:This is log message number 104.\n",
            "INFO:root:This is log message number 105.\n",
            "INFO:root:This is log message number 106.\n",
            "INFO:root:This is log message number 107.\n",
            "INFO:root:This is log message number 108.\n"
          ]
        },
        {
          "output_type": "stream",
          "name": "stdout",
          "text": [
            "Logged 100 messages...\n"
          ]
        },
        {
          "output_type": "stream",
          "name": "stderr",
          "text": [
            "INFO:root:This is log message number 109.\n",
            "INFO:root:This is log message number 110.\n",
            "INFO:root:This is log message number 111.\n",
            "INFO:root:This is log message number 112.\n",
            "INFO:root:This is log message number 113.\n",
            "INFO:root:This is log message number 114.\n",
            "INFO:root:This is log message number 115.\n",
            "INFO:root:This is log message number 116.\n",
            "INFO:root:This is log message number 117.\n",
            "INFO:root:This is log message number 118.\n",
            "INFO:root:This is log message number 119.\n",
            "INFO:root:This is log message number 120.\n",
            "INFO:root:This is log message number 121.\n",
            "INFO:root:This is log message number 122.\n",
            "INFO:root:This is log message number 123.\n",
            "INFO:root:This is log message number 124.\n",
            "INFO:root:This is log message number 125.\n",
            "INFO:root:This is log message number 126.\n",
            "INFO:root:This is log message number 127.\n",
            "INFO:root:This is log message number 128.\n",
            "INFO:root:This is log message number 129.\n",
            "INFO:root:This is log message number 130.\n",
            "INFO:root:This is log message number 131.\n",
            "INFO:root:This is log message number 132.\n",
            "INFO:root:This is log message number 133.\n",
            "INFO:root:This is log message number 134.\n",
            "INFO:root:This is log message number 135.\n",
            "INFO:root:This is log message number 136.\n",
            "INFO:root:This is log message number 137.\n",
            "INFO:root:This is log message number 138.\n",
            "INFO:root:This is log message number 139.\n",
            "INFO:root:This is log message number 140.\n",
            "INFO:root:This is log message number 141.\n",
            "INFO:root:This is log message number 142.\n",
            "INFO:root:This is log message number 143.\n",
            "INFO:root:This is log message number 144.\n",
            "INFO:root:This is log message number 145.\n",
            "INFO:root:This is log message number 146.\n",
            "INFO:root:This is log message number 147.\n",
            "INFO:root:This is log message number 148.\n",
            "INFO:root:This is log message number 149.\n",
            "INFO:root:This is log message number 150.\n",
            "INFO:root:This is log message number 151.\n",
            "INFO:root:This is log message number 152.\n",
            "INFO:root:This is log message number 153.\n",
            "INFO:root:This is log message number 154.\n",
            "INFO:root:This is log message number 155.\n",
            "INFO:root:This is log message number 156.\n",
            "INFO:root:This is log message number 157.\n",
            "INFO:root:This is log message number 158.\n",
            "INFO:root:This is log message number 159.\n",
            "INFO:root:This is log message number 160.\n",
            "INFO:root:This is log message number 161.\n",
            "INFO:root:This is log message number 162.\n",
            "INFO:root:This is log message number 163.\n",
            "INFO:root:This is log message number 164.\n",
            "INFO:root:This is log message number 165.\n",
            "INFO:root:This is log message number 166.\n",
            "INFO:root:This is log message number 167.\n",
            "INFO:root:This is log message number 168.\n",
            "INFO:root:This is log message number 169.\n",
            "INFO:root:This is log message number 170.\n",
            "INFO:root:This is log message number 171.\n",
            "INFO:root:This is log message number 172.\n",
            "INFO:root:This is log message number 173.\n",
            "INFO:root:This is log message number 174.\n",
            "INFO:root:This is log message number 175.\n",
            "INFO:root:This is log message number 176.\n",
            "INFO:root:This is log message number 177.\n",
            "INFO:root:This is log message number 178.\n",
            "INFO:root:This is log message number 179.\n",
            "INFO:root:This is log message number 180.\n",
            "INFO:root:This is log message number 181.\n",
            "INFO:root:This is log message number 182.\n",
            "INFO:root:This is log message number 183.\n",
            "INFO:root:This is log message number 184.\n",
            "INFO:root:This is log message number 185.\n",
            "INFO:root:This is log message number 186.\n",
            "INFO:root:This is log message number 187.\n",
            "INFO:root:This is log message number 188.\n",
            "INFO:root:This is log message number 189.\n",
            "INFO:root:This is log message number 190.\n",
            "INFO:root:This is log message number 191.\n",
            "INFO:root:This is log message number 192.\n",
            "INFO:root:This is log message number 193.\n",
            "INFO:root:This is log message number 194.\n",
            "INFO:root:This is log message number 195.\n",
            "INFO:root:This is log message number 196.\n",
            "INFO:root:This is log message number 197.\n",
            "INFO:root:This is log message number 198.\n",
            "INFO:root:This is log message number 199.\n",
            "INFO:root:This is log message number 200.\n",
            "WARNING:root:Finished logging messages.\n"
          ]
        },
        {
          "output_type": "stream",
          "name": "stdout",
          "text": [
            "Logged 150 messages...\n",
            "Logged 200 messages...\n",
            "\n",
            "Check the current directory for 'rotating_log.log' and potential backup files.\n",
            "If rotation occurred, you should see files like 'rotating_log.log.1', 'rotating_log.log.2', etc.\n"
          ]
        }
      ]
    },
    {
      "cell_type": "markdown",
      "metadata": {
        "id": "abe54a56"
      },
      "source": [
        "19. Write a program that handles both IndexError and KeyError using a try-except block."
      ]
    },
    {
      "cell_type": "markdown",
      "metadata": {
        "id": "5c416a5e"
      },
      "source": [
        "**Reasoning**:\n",
        "The subtask requires creating a list and a dictionary, and then using a single try...except block to handle potential IndexError and KeyError when accessing them. Separate except blocks are needed for each specific error, plus an optional general exception handler. This can all be done in one code block.\n",
        "\n"
      ]
    },
    {
      "cell_type": "code",
      "metadata": {
        "colab": {
          "base_uri": "https://localhost:8080/"
        },
        "id": "3ab953f8",
        "outputId": "bf706050-2de2-4d52-9090-ab3f5e0769c1"
      },
      "source": [
        "# 1. Create a Python list and a Python dictionary.\n",
        "my_list = [10, 20, 30, 40]\n",
        "my_dict = {\"apple\": 1, \"banana\": 2, \"cherry\": 3}\n",
        "\n",
        "try:\n",
        "    # 2. Use a try...except block to attempt an operation that could raise an IndexError\n",
        "    print(\"Attempting to access list index 5:\")\n",
        "    list_value = my_list[5]\n",
        "    print(f\"List value: {list_value}\")\n",
        "\n",
        "    # 3. Within the same try...except block, attempt an operation that could raise a KeyError\n",
        "    print(\"Attempting to access dictionary key 'grape':\")\n",
        "    dict_value = my_dict[\"grape\"]\n",
        "    print(f\"Dictionary value: {dict_value}\")\n",
        "\n",
        "# 4. Include separate except IndexError and except KeyError blocks\n",
        "except IndexError:\n",
        "    print(\"Error: Attempted to access a list index outside the valid range.\")\n",
        "except KeyError as e:\n",
        "    print(f\"Error: The dictionary key '{e}' was not found.\")\n",
        "# 5. Optionally, include a general except Exception block\n",
        "except Exception as e:\n",
        "    print(f\"An unexpected error occurred: {e}\")\n"
      ],
      "execution_count": 48,
      "outputs": [
        {
          "output_type": "stream",
          "name": "stdout",
          "text": [
            "Attempting to access list index 5:\n",
            "Error: Attempted to access a list index outside the valid range.\n"
          ]
        }
      ]
    },
    {
      "cell_type": "markdown",
      "metadata": {
        "id": "b367d909"
      },
      "source": [
        "**Reasoning**:\n",
        "The previous code block successfully demonstrated handling `IndexError` with a separate `except` block. However, the `KeyError` scenario was not reached. To fully satisfy the requirement of handling *both* `IndexError` and `KeyError` within the same `try...except` structure, I will modify the code to trigger a `KeyError` instead of an `IndexError`, ensuring that the `except KeyError` block is also demonstrated.\n",
        "\n"
      ]
    },
    {
      "cell_type": "code",
      "metadata": {
        "colab": {
          "base_uri": "https://localhost:8080/"
        },
        "id": "d4b1fd7a",
        "outputId": "26261dde-216f-494c-e8d4-8fd88bf69317"
      },
      "source": [
        "# 1. Create a Python list and a Python dictionary.\n",
        "my_list = [10, 20, 30, 40]\n",
        "my_dict = {\"apple\": 1, \"banana\": 2, \"cherry\": 3}\n",
        "\n",
        "try:\n",
        "    # Attempt a list access that will succeed this time\n",
        "    print(\"Attempting to access list index 1:\")\n",
        "    list_value = my_list[1]\n",
        "    print(f\"List value: {list_value}\")\n",
        "\n",
        "\n",
        "    # 3. Within the same try...except block, attempt an operation that could raise a KeyError\n",
        "    print(\"Attempting to access dictionary key 'grape':\")\n",
        "    dict_value = my_dict[\"grape\"]\n",
        "    print(f\"Dictionary value: {dict_value}\")\n",
        "\n",
        "# 4. Include separate except IndexError and except KeyError blocks\n",
        "except IndexError:\n",
        "    print(\"Error: Attempted to access a list index outside the valid range.\")\n",
        "except KeyError as e:\n",
        "    print(f\"Error: The dictionary key '{e}' was not found.\")\n",
        "# 5. Optionally, include a general except Exception block\n",
        "except Exception as e:\n",
        "    print(f\"An unexpected error occurred: {e}\")\n"
      ],
      "execution_count": 51,
      "outputs": [
        {
          "output_type": "stream",
          "name": "stdout",
          "text": [
            "Attempting to access list index 1:\n",
            "List value: 20\n",
            "Attempting to access dictionary key 'grape':\n",
            "Error: The dictionary key ''grape'' was not found.\n"
          ]
        }
      ]
    },
    {
      "cell_type": "markdown",
      "metadata": {
        "id": "d1408345"
      },
      "source": [
        "20. How would you open a file and read its contents using a context manager in Python?"
      ]
    },
    {
      "cell_type": "markdown",
      "metadata": {
        "id": "cd482e8e"
      },
      "source": [
        "**Reasoning**:\n",
        "The task is to open and read a file using a context manager and handle potential IOErrors. This requires defining a file path, opening the file in read mode within a `with` statement, reading its content, and handling `IOError` using a `try...except` block.\n",
        "\n"
      ]
    },
    {
      "cell_type": "code",
      "metadata": {
        "colab": {
          "base_uri": "https://localhost:8080/"
        },
        "id": "0ab414f2",
        "outputId": "290ece41-5473-4108-947d-6f5e35fde27d"
      },
      "source": [
        "import os\n",
        "\n",
        "# 1. Define the path to a file that exists (e.g., 'my_output_file.txt').\n",
        "file_path = 'my_output_file.txt'\n",
        "\n",
        "# Include a try...except IOError block to handle potential file reading errors\n",
        "try:\n",
        "    # 2. Use a with open(...) statement to open the file in read mode ('r').\n",
        "    with open(file_path, 'r') as f:\n",
        "        # 3. Inside the with block, read the entire content of the file using the .read() method.\n",
        "        content = f.read()\n",
        "        # 4. Print the content that was read from the file.\n",
        "        print(\"File content:\")\n",
        "        print(content)\n",
        "# 5. ... and print an informative message if an error occurs.\n",
        "except IOError as e:\n",
        "    print(f\"Error: Could not read file '{file_path}': {e}\")\n",
        "except FileNotFoundError:\n",
        "    # Also handle the case where the file might not have been created yet\n",
        "    print(f\"Error: The file '{file_path}' was not found.\")\n",
        "except Exception as e:\n",
        "    print(f\"An unexpected error occurred: {e}\")\n"
      ],
      "execution_count": 52,
      "outputs": [
        {
          "output_type": "stream",
          "name": "stdout",
          "text": [
            "File content:\n",
            "This is a test string.\n",
            "This is appended data.\n"
          ]
        }
      ]
    },
    {
      "cell_type": "markdown",
      "metadata": {
        "id": "9f753a13"
      },
      "source": [
        "21. Write a Python program that reads a file and prints the number of occurrences of a specific word."
      ]
    },
    {
      "cell_type": "markdown",
      "metadata": {
        "id": "50e2ed47"
      },
      "source": [
        "**Reasoning**:\n",
        "The subtask requires reading a file, counting word occurrences, and handling potential errors. I will implement this using a `try...except` block for error handling and a `with` statement for file handling, then process the file content to count the word.\n",
        "\n"
      ]
    },
    {
      "cell_type": "code",
      "metadata": {
        "colab": {
          "base_uri": "https://localhost:8080/"
        },
        "id": "84a64b86",
        "outputId": "dec0f202-7660-46f0-8f06-5946a0b74a3f"
      },
      "source": [
        "import string\n",
        "\n",
        "# 1. Define the path to the file that will be read.\n",
        "file_path = 'my_output_file.txt'\n",
        "\n",
        "# 2. Define the specific word to search for.\n",
        "search_word = 'this'\n",
        "\n",
        "# 3. Initialize a counter for the word occurrences.\n",
        "word_count = 0\n",
        "\n",
        "try:\n",
        "    # 4. Open the file in read mode using a with statement for automatic closing.\n",
        "    with open(file_path, 'r') as f:\n",
        "        # 5. Read the entire content of the file into a single string.\n",
        "        content = f.read()\n",
        "\n",
        "    # 6. Convert the content and the search word to lowercase to ensure case-insensitive counting.\n",
        "    content_lower = content.lower()\n",
        "    search_word_lower = search_word.lower()\n",
        "\n",
        "    # Remove punctuation from the content\n",
        "    content_no_punctuation = content_lower.translate(str.maketrans('', '', string.punctuation))\n",
        "\n",
        "    # 7. Split the file content into individual words\n",
        "    words = content_no_punctuation.split()\n",
        "\n",
        "    # 8. Iterate through the list of words.\n",
        "    for word in words:\n",
        "        # 9. For each word, check if it matches the search word.\n",
        "        if word == search_word_lower:\n",
        "            # 10. If there is a match, increment the counter.\n",
        "            word_count += 1\n",
        "\n",
        "    # 11. After processing all words, print the total count of the specific word found in the file.\n",
        "    print(f\"The word '{search_word}' appears {word_count} times in the file.\")\n",
        "\n",
        "# 12. Include a try...except FileNotFoundError block to handle cases where the file doesn't exist.\n",
        "except FileNotFoundError:\n",
        "    print(f\"Error: The file '{file_path}' was not found.\")\n",
        "# 13. Include a general except Exception block to catch any other potential errors during file processing.\n",
        "except Exception as e:\n",
        "    print(f\"An error occurred while processing the file: {e}\")\n"
      ],
      "execution_count": 53,
      "outputs": [
        {
          "output_type": "stream",
          "name": "stdout",
          "text": [
            "The word 'this' appears 2 times in the file.\n"
          ]
        }
      ]
    },
    {
      "cell_type": "code",
      "metadata": {
        "id": "ddd726d0"
      },
      "source": [],
      "execution_count": 53,
      "outputs": []
    },
    {
      "cell_type": "markdown",
      "metadata": {
        "id": "5670c618"
      },
      "source": [
        "22. How can you check if a file is empty before attempting to read its contents?"
      ]
    },
    {
      "cell_type": "markdown",
      "metadata": {
        "id": "5a3fff89"
      },
      "source": [
        "**Reasoning**:\n",
        "To check if a file is empty before reading its contents, I will use the `os.path.getsize()` function from the `os` module. This function returns the size of the file in bytes. If the size is 0, the file is empty. I will demonstrate this by creating an empty file and a non-empty file and then checking their sizes."
      ]
    },
    {
      "cell_type": "code",
      "metadata": {
        "colab": {
          "base_uri": "https://localhost:8080/"
        },
        "id": "aae51456",
        "outputId": "45ceebd2-4ec9-46da-a2f7-944b1b190835"
      },
      "source": [
        "import os\n",
        "\n",
        "# Create an empty file\n",
        "empty_file_path = 'empty_file_check.txt'\n",
        "with open(empty_file_path, 'w') as f:\n",
        "    pass\n",
        "\n",
        "# Create a non-empty file\n",
        "non_empty_file_path = 'non_empty_file_check.txt'\n",
        "with open(non_empty_file_path, 'w') as f:\n",
        "    f.write(\"This file has content.\")\n",
        "\n",
        "# Function to check if a file is empty\n",
        "def is_file_empty(file_path):\n",
        "    \"\"\"Checks if a file is empty.\"\"\"\n",
        "    try:\n",
        "        file_size = os.path.getsize(file_path)\n",
        "        return file_size == 0\n",
        "    except FileNotFoundError:\n",
        "        print(f\"Error: File '{file_path}' not found.\")\n",
        "        return False\n",
        "    except Exception as e:\n",
        "        print(f\"An error occurred while checking file size: {e}\")\n",
        "        return False\n",
        "\n",
        "# Check the empty file\n",
        "if is_file_empty(empty_file_path):\n",
        "    print(f\"'{empty_file_path}' is empty.\")\n",
        "else:\n",
        "    print(f\"'{empty_file_path}' is not empty.\")\n",
        "\n",
        "# Check the non-empty file\n",
        "if is_file_empty(non_empty_file_path):\n",
        "    print(f\"'{non_empty_file_path}' is empty.\")\n",
        "else:\n",
        "    print(f\"'{non_empty_file_path}' is not empty.\")  # ✅ fixed here\n",
        "\n",
        "# Clean up the created files (optional)\n",
        "os.remove(empty_file_path)\n",
        "os.remove(non_empty_file_path)\n"
      ],
      "execution_count": 56,
      "outputs": [
        {
          "output_type": "stream",
          "name": "stdout",
          "text": [
            "'empty_file_check.txt' is empty.\n",
            "'non_empty_file_check.txt' is not empty.\n"
          ]
        }
      ]
    },
    {
      "cell_type": "markdown",
      "metadata": {
        "id": "f2bea899"
      },
      "source": [
        "23. Write a Python program that writes to a log file when an error occurs during file operations."
      ]
    },
    {
      "cell_type": "markdown",
      "metadata": {
        "id": "c5ab102f"
      },
      "source": [
        "**Reasoning**:\n",
        "To log an error during file operations, I will use the `logging` module. I will configure the logging to write to a specific log file and then use a `try...except` block around a file operation that might fail (like trying to open a non-existent file for reading) to catch the error and log it."
      ]
    },
    {
      "cell_type": "code",
      "metadata": {
        "colab": {
          "base_uri": "https://localhost:8080/"
        },
        "id": "b1541e39",
        "outputId": "acd0d74a-1bcc-4ec8-fdc8-4c2531648b78"
      },
      "source": [
        "import logging\n",
        "import os\n",
        "\n",
        "# Define the log file name\n",
        "log_file = 'file_errors.log'\n",
        "\n",
        "# Configure logging to write to the specified file with level ERROR\n",
        "logging.basicConfig(\n",
        "    filename=log_file,\n",
        "    level=logging.ERROR,\n",
        "    format='%(asctime)s - %(levelname)s - %(message)s'\n",
        ")\n",
        "\n",
        "print(f\"Logging configured to write errors to '{log_file}'.\")\n",
        "\n",
        "# Define a file path that is likely to cause an error (e.g., non-existent)\n",
        "non_existent_file = 'this_file_does_not_exist.txt'\n",
        "\n",
        "try:\n",
        "    # Attempt a file operation that will likely fail\n",
        "    with open(non_existent_file, 'r') as f:\n",
        "        content = f.read()\n",
        "        print(\"File content:\", content)\n",
        "except FileNotFoundError as e:\n",
        "    # Catch the specific error and log it\n",
        "    logging.error(f\"Failed to open file '{non_existent_file}': {e}\")\n",
        "    print(f\"Caught FileNotFoundError. An error has been logged to '{log_file}'.\")\n",
        "except Exception as e:\n",
        "    # Catch any other exceptions during file operations and log them\n",
        "    logging.error(f\"An unexpected error occurred during file operation: {e}\")\n",
        "    print(f\"Caught an unexpected error. An error has been logged to '{log_file}'.\")\n",
        "\n",
        "print(\"Program finished. Check the log file for error messages if an error occurred.\")\n",
        "\n"
      ],
      "execution_count": 55,
      "outputs": [
        {
          "output_type": "stream",
          "name": "stderr",
          "text": [
            "ERROR:root:Failed to open file 'this_file_does_not_exist.txt': [Errno 2] No such file or directory: 'this_file_does_not_exist.txt'\n"
          ]
        },
        {
          "output_type": "stream",
          "name": "stdout",
          "text": [
            "Logging configured to write errors to 'file_errors.log'.\n",
            "Caught FileNotFoundError. An error has been logged to 'file_errors.log'.\n",
            "Program finished. Check the log file for error messages if an error occurred.\n"
          ]
        }
      ]
    }
  ]
}