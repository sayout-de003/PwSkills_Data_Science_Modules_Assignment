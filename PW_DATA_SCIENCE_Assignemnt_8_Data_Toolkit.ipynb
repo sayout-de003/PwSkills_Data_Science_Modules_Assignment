{
  "nbformat": 4,
  "nbformat_minor": 0,
  "metadata": {
    "colab": {
      "provenance": []
    },
    "kernelspec": {
      "name": "python3",
      "display_name": "Python 3"
    },
    "language_info": {
      "name": "python"
    }
  },
  "cells": [
    {
      "cell_type": "markdown",
      "source": [
        "# ***`Theory`***"
      ],
      "metadata": {
        "id": "mKlFeg0gMRub"
      }
    },
    {
      "cell_type": "markdown",
      "metadata": {
        "id": "56395983"
      },
      "source": [
        "**1. What is NumPy, and why is it widely used in Python?**\n",
        "\n",
        "NumPy (Numerical Python) is a fundamental library for numerical computing in Python. It provides support for large, multi-dimensional arrays and matrices, along with a collection of high-level mathematical functions to operate on these arrays.\n",
        "\n",
        "NumPy is widely used because:\n",
        "\n",
        "*   **Performance:** NumPy operations are implemented in C, making them much faster than equivalent operations on Python lists.\n",
        "*   **Efficiency:** NumPy arrays use less memory than Python lists for the same amount of data.\n",
        "*   **Functionality:** NumPy provides a vast collection of mathematical functions for operations like linear algebra, Fourier transforms, and random number generation.\n",
        "*   **Foundation:** Many other scientific and data analysis libraries in Python, such as Pandas and SciPy, are built on top of NumPy.\n",
        "\n"
      ]
    },
    {
      "cell_type": "markdown",
      "metadata": {
        "id": "cd01021c"
      },
      "source": [
        "**2. How does broadcasting work in NumPy?**\n",
        "\n",
        "Broadcasting is a mechanism in NumPy that allows operations on arrays of different shapes and sizes without explicitly creating multiple copies of the smaller array. When performing an operation between two arrays, NumPy compares their shapes element-wise. If the shapes are compatible (either they are the same, one has a dimension of size 1, or one array is a scalar), the smaller array is \"broadcast\" across the larger array so that they have compatible shapes.\n",
        "\n",
        "**Broadcasting Rules:**\n",
        "\n",
        "1.  If the arrays have different numbers of dimensions, the shape of the one with fewer dimensions is padded with ones on its leading (left) side.\n",
        "2.  If the shapes of the two arrays do not match in any dimension, and neither dimension has a size of 1, an error is raised.\n",
        "3.  In dimensions where shapes mismatch but one of the dimensions has a size of 1, the array with size 1 is stretched to match the other shape.\n",
        "\n"
      ]
    },
    {
      "cell_type": "markdown",
      "metadata": {
        "id": "b4b5abee"
      },
      "source": [
        "**3. What is a Pandas DataFrame?**\n",
        "\n",
        "A Pandas DataFrame is a two-dimensional labeled data structure with columns of potentially different types. It is similar to a spreadsheet or a SQL table. DataFrames are the primary data structure used in Pandas and are highly optimized for data manipulation and analysis.\n",
        "\n",
        "**Key Features of a DataFrame:**\n",
        "\n",
        "*   **Labeled Axes:** DataFrames have both row and column labels (indices).\n",
        "*   **Heterogeneous Data:** Columns can contain data of different types (e.g., integers, floats, strings, booleans).\n",
        "*   **Size Mutable:** DataFrames can be modified by adding or deleting columns.\n",
        "*   **Alignment:** Data is automatically aligned by labels, which makes working with missing data easier.\n"
      ]
    },
    {
      "cell_type": "markdown",
      "metadata": {
        "id": "8b2d601f"
      },
      "source": [
        "**4. Explain the use of the `groupby()` method in Pandas.**\n",
        "\n",
        "The `groupby()` method in Pandas is used to split a DataFrame into groups based on some criteria (e.g., the values in one or more columns). After grouping, you can apply a function to each group, such as aggregation, transformation, or filtration. This process is often referred to as \"split-apply-combine.\"\n",
        "\n",
        "**How it works:**\n",
        "\n",
        "1.  **Split:** The DataFrame is split into groups based on the distinct values in the specified column(s).\n",
        "2.  **Apply:** A function (e.g., `sum()`, `mean()`, `count()`) is applied to each group.\n",
        "3.  **Combine:** The results of the function application are combined into a new DataFrame or Series.\n",
        "\n"
      ]
    },
    {
      "cell_type": "markdown",
      "metadata": {
        "id": "07dbc3fb"
      },
      "source": [
        "**5. Why is Seaborn preferred for statistical visualizations?**\n",
        "\n",
        "Seaborn is a Python data visualization library based on Matplotlib. It is preferred for statistical visualizations because it provides a high-level interface for drawing attractive and informative statistical graphics.\n",
        "\n",
        "**Advantages of Seaborn for Statistical Visualizations:**\n",
        "\n",
        "*   **Built-in Themes and Palettes:** Seaborn offers aesthetically pleasing default themes and color palettes, making your plots look professional with less effort.\n",
        "*   **Specialized Plot Types:** It provides specialized plot types for common statistical tasks, such as regplot (regression plots), distplot (distribution plots), and catplot (categorical plots).\n",
        "*   **Integration with Pandas:** Seaborn works seamlessly with Pandas DataFrames, making it easy to plot data directly from your DataFrame columns.\n",
        "*   **Handling of Complex Data:** It simplifies the creation of complex visualizations, such as facet grids and joint plots, which are useful for exploring relationships between multiple variables.\n",
        "\n"
      ]
    },
    {
      "cell_type": "markdown",
      "metadata": {
        "id": "0b6f69ed"
      },
      "source": [
        "**6. What are the differences between NumPy arrays and Python lists?**\n",
        "\n",
        "While both NumPy arrays and Python lists can store collections of data, they have significant differences that make NumPy arrays more suitable for numerical operations.\n",
        "1. Data Type\n",
        "- NumPy Array: Homogeneous (elements must be of the same type)\n",
        "- Python List: Heterogeneous (elements can be of different types)\n",
        "\n",
        "2. Performance\n",
        "- NumPy Array: Faster for numerical operations due to vectorized operations and C implementation\n",
        "- Python List: Slower for numerical operations\n",
        "\n",
        "3. Memory Usage\n",
        "- NumPy Array: More memory efficient for large numerical datasets\n",
        "- Python List: Less memory efficient for large numerical datasets\n",
        "\n",
        "4. Functionality\n",
        "- NumPy Array: Provides a wide range of mathematical functions and operations\n",
        "- Python List: Limited built-in mathematical functions; requires explicit loops for many operations\n",
        "\n",
        "5. Size\n",
        "- NumPy Array: Fixed size after creation\n",
        "- Python List: Dynamic size; can easily add or remove elements\n",
        "\n"
      ]
    },
    {
      "cell_type": "markdown",
      "metadata": {
        "id": "62884c97"
      },
      "source": [
        "**7. What is a heatmap, and when should it be used?**\n",
        "\n",
        "A heatmap is a data visualization technique that represents the magnitude of a phenomenon as color in two dimensions. The variation in color or intensity indicates the variation in the data. Heatmaps are particularly useful for visualizing the relationships between two categorical variables or for showing the correlation between numerical variables.\n",
        "\n",
        "**When to use a heatmap:**\n",
        "\n",
        "*   **Correlation Matrices:** To visualize the correlation coefficients between multiple variables in a dataset. A heatmap can quickly show which pairs of variables are strongly correlated (positive or negative).\n",
        "*   **Categorical Data Comparison:** To display the frequency or intensity of events across two categorical dimensions, such as user activity over time (days of the week vs. hours of the day).\n",
        "*   **Missing Data Visualization:** To show the pattern of missing data in a DataFrame, where color intensity can represent the presence or absence of values.\n"
      ]
    },
    {
      "cell_type": "markdown",
      "metadata": {
        "id": "a6796777"
      },
      "source": [
        "**8. What does the term \"vectorized operation\" mean in NumPy?**\n",
        "\n",
        "A vectorized operation in NumPy refers to performing mathematical operations on entire arrays or subsets of arrays at once, without explicitly looping through individual elements. This is possible because NumPy operations are implemented in C and are highly optimized for array manipulation.\n",
        "\n",
        "Vectorized operations are significantly faster and more efficient than using Python loops for the same operations, especially for large arrays. They are a key reason for NumPy's performance advantage.\n",
        "\n"
      ]
    },
    {
      "cell_type": "markdown",
      "metadata": {
        "id": "f77c7a00"
      },
      "source": [
        "**9. How does Matplotlib differ from Plotly?**\n",
        "\n",
        "Matplotlib and Plotly are both popular Python libraries for data visualization, but they differ in their approach and capabilities.\n",
        "\n",
        "1. Nature\n",
        "- Matplotlib: Primarily a static plotting library; interactive features are more limited.\n",
        "- Plotly: Primarily an interactive plotting library; creates web-based visualizations.\n",
        "\n",
        "2. Output\n",
        "- Matplotlib: Generates static images (PNG, JPG, PDF, etc.)\n",
        "- Plotly: Generates interactive HTML files or can be used within notebooks for interactive plots.\n",
        "\n",
        "3. Complexity\n",
        "- Matplotlib: Can require more code for complex customizations and interactive features.\n",
        "- Plotly: Often requires less code for interactive features and complex plot types.\n",
        "\n",
        "4. Ease of Use\n",
        "- Matplotlib: Lower-level control over plot elements; can be more verbose.\n",
        "- Plotly: Higher-level interface; often more intuitive for creating common plots.\n",
        "\n",
        "5. Ecosystem\n",
        "- Matplotlib: Large and mature ecosystem with many extensions (e.g., Seaborn).\n",
        "- Plotly: Growing ecosystem; integrates well with dashboards and web applications.\n",
        "\n"
      ]
    },
    {
      "cell_type": "code",
      "metadata": {
        "colab": {
          "base_uri": "https://localhost:8080/",
          "height": 562
        },
        "id": "9c069243",
        "outputId": "5b0043cc-1be0-45a7-9ab7-9623d5dd2694"
      },
      "source": [
        "import plotly.express as px\n",
        "import numpy as np\n",
        "\n",
        "x = np.linspace(0, 10, 100)\n",
        "y = np.sin(x)\n",
        "\n",
        "fig = px.line(x=x, y=y, title=\"Sine Wave (Plotly)\")\n",
        "fig.show()"
      ],
      "execution_count": 1,
      "outputs": [
        {
          "output_type": "display_data",
          "data": {
            "text/html": [
              "<html>\n",
              "<head><meta charset=\"utf-8\" /></head>\n",
              "<body>\n",
              "    <div>            <script src=\"https://cdnjs.cloudflare.com/ajax/libs/mathjax/2.7.5/MathJax.js?config=TeX-AMS-MML_SVG\"></script><script type=\"text/javascript\">if (window.MathJax && window.MathJax.Hub && window.MathJax.Hub.Config) {window.MathJax.Hub.Config({SVG: {font: \"STIX-Web\"}});}</script>                <script type=\"text/javascript\">window.PlotlyConfig = {MathJaxConfig: 'local'};</script>\n",
              "        <script charset=\"utf-8\" src=\"https://cdn.plot.ly/plotly-2.35.2.min.js\"></script>                <div id=\"43df7bd4-9933-47c2-9280-bde997b35a6a\" class=\"plotly-graph-div\" style=\"height:525px; width:100%;\"></div>            <script type=\"text/javascript\">                                    window.PLOTLYENV=window.PLOTLYENV || {};                                    if (document.getElementById(\"43df7bd4-9933-47c2-9280-bde997b35a6a\")) {                    Plotly.newPlot(                        \"43df7bd4-9933-47c2-9280-bde997b35a6a\",                        [{\"hovertemplate\":\"x=%{x}\\u003cbr\\u003ey=%{y}\\u003cextra\\u003e\\u003c\\u002fextra\\u003e\",\"legendgroup\":\"\",\"line\":{\"color\":\"#636efa\",\"dash\":\"solid\"},\"marker\":{\"symbol\":\"circle\"},\"mode\":\"lines\",\"name\":\"\",\"orientation\":\"v\",\"showlegend\":false,\"x\":[0.0,0.10101010101010101,0.20202020202020202,0.30303030303030304,0.40404040404040403,0.5050505050505051,0.6060606060606061,0.7070707070707071,0.8080808080808081,0.9090909090909091,1.0101010101010102,1.1111111111111112,1.2121212121212122,1.3131313131313131,1.4141414141414141,1.5151515151515151,1.6161616161616161,1.7171717171717171,1.8181818181818181,1.9191919191919191,2.0202020202020203,2.121212121212121,2.2222222222222223,2.323232323232323,2.4242424242424243,2.525252525252525,2.6262626262626263,2.727272727272727,2.8282828282828283,2.929292929292929,3.0303030303030303,3.131313131313131,3.2323232323232323,3.3333333333333335,3.4343434343434343,3.5353535353535355,3.6363636363636362,3.7373737373737375,3.8383838383838382,3.9393939393939394,4.040404040404041,4.141414141414141,4.242424242424242,4.343434343434343,4.444444444444445,4.545454545454545,4.646464646464646,4.747474747474747,4.848484848484849,4.94949494949495,5.05050505050505,5.151515151515151,5.252525252525253,5.353535353535354,5.454545454545454,5.555555555555555,5.656565656565657,5.757575757575758,5.858585858585858,5.959595959595959,6.0606060606060606,6.161616161616162,6.262626262626262,6.363636363636363,6.4646464646464645,6.565656565656566,6.666666666666667,6.767676767676767,6.8686868686868685,6.96969696969697,7.070707070707071,7.171717171717171,7.2727272727272725,7.373737373737374,7.474747474747475,7.575757575757575,7.6767676767676765,7.777777777777778,7.878787878787879,7.979797979797979,8.080808080808081,8.181818181818182,8.282828282828282,8.383838383838384,8.484848484848484,8.585858585858587,8.686868686868687,8.787878787878787,8.88888888888889,8.98989898989899,9.09090909090909,9.191919191919192,9.292929292929292,9.393939393939394,9.494949494949495,9.595959595959595,9.696969696969697,9.797979797979798,9.8989898989899,10.0],\"xaxis\":\"x\",\"y\":[0.0,0.1008384202581046,0.2006488565226854,0.2984138044476411,0.3931366121483298,0.48385164043793466,0.5696341069089657,0.6496095135057065,0.7229625614794605,0.7889454628442574,0.8468855636029834,0.8961922010299563,0.9363627251042848,0.9669876227092996,0.9877546923600838,0.9984522269003895,0.9989711717233568,0.9893062365143401,0.9695559491823237,0.9399216514301312,0.9007054462029555,0.8523071179396752,0.7952200570230491,0.7300262299764464,0.6573902466827755,0.5780525851065732,0.4928220425889235,0.40256749066949654,0.30820901749007684,0.2107085480771929,0.11106003812412972,0.010279341240534697,-0.09060614703340773,-0.19056796287548539,-0.28858705872043244,-0.38366419180611233,-0.47483011082223947,-0.5611554368152017,-0.6417601376193878,-0.7158224992291902,-0.7825875026542022,-0.8413745208608701,-0.8915842573351402,-0.9327048555318336,-0.9643171169287782,-0.9860987744909296,-0.9978277779792126,-0.9993845576124357,-0.9907532430056771,-0.9720218249588334,-0.9433812584459996,-0.9051235159501367,-0.8576386109880517,-0.8014106221689697,-0.7370127583189133,-0.6651015149788224,-0.586409981847235,-0.5017403693939113,-0.4119558308308628,-0.31797166281061867,-0.22074597455506334,-0.12126992053716677,-0.020557596287260064,0.08036429967028173,0.18046693235991093,0.27872981867755725,0.37415123057121996,0.4657584070256517,0.5526174707464059,0.6338429484489058,0.7086067976992182,0.7761468482835805,0.8357745720522589,0.8868821020290788,0.9289484292312513,0.9615447140268235,0.9843386578838236,0.9970978909438748,0.9996923408861117,0.9920955589323228,0.9743849894755358,0.9467411805833543,0.9094459434244625,0.8628794793817836,0.8075165041395626,0.7439214082568444,0.6727425035622647,0.5947054140244975,0.510605678474283,0.4213006405886069,0.32770070881349983,0.23076007532505177,0.13146698864295842,0.03083367906114098,-0.07011396040064677,-0.1703468323280965,-0.26884312591038406,-0.3645987336558887,-0.45663748763377376,-0.5440211108893698],\"yaxis\":\"y\",\"type\":\"scatter\"}],                        {\"template\":{\"data\":{\"histogram2dcontour\":[{\"type\":\"histogram2dcontour\",\"colorbar\":{\"outlinewidth\":0,\"ticks\":\"\"},\"colorscale\":[[0.0,\"#0d0887\"],[0.1111111111111111,\"#46039f\"],[0.2222222222222222,\"#7201a8\"],[0.3333333333333333,\"#9c179e\"],[0.4444444444444444,\"#bd3786\"],[0.5555555555555556,\"#d8576b\"],[0.6666666666666666,\"#ed7953\"],[0.7777777777777778,\"#fb9f3a\"],[0.8888888888888888,\"#fdca26\"],[1.0,\"#f0f921\"]]}],\"choropleth\":[{\"type\":\"choropleth\",\"colorbar\":{\"outlinewidth\":0,\"ticks\":\"\"}}],\"histogram2d\":[{\"type\":\"histogram2d\",\"colorbar\":{\"outlinewidth\":0,\"ticks\":\"\"},\"colorscale\":[[0.0,\"#0d0887\"],[0.1111111111111111,\"#46039f\"],[0.2222222222222222,\"#7201a8\"],[0.3333333333333333,\"#9c179e\"],[0.4444444444444444,\"#bd3786\"],[0.5555555555555556,\"#d8576b\"],[0.6666666666666666,\"#ed7953\"],[0.7777777777777778,\"#fb9f3a\"],[0.8888888888888888,\"#fdca26\"],[1.0,\"#f0f921\"]]}],\"heatmap\":[{\"type\":\"heatmap\",\"colorbar\":{\"outlinewidth\":0,\"ticks\":\"\"},\"colorscale\":[[0.0,\"#0d0887\"],[0.1111111111111111,\"#46039f\"],[0.2222222222222222,\"#7201a8\"],[0.3333333333333333,\"#9c179e\"],[0.4444444444444444,\"#bd3786\"],[0.5555555555555556,\"#d8576b\"],[0.6666666666666666,\"#ed7953\"],[0.7777777777777778,\"#fb9f3a\"],[0.8888888888888888,\"#fdca26\"],[1.0,\"#f0f921\"]]}],\"heatmapgl\":[{\"type\":\"heatmapgl\",\"colorbar\":{\"outlinewidth\":0,\"ticks\":\"\"},\"colorscale\":[[0.0,\"#0d0887\"],[0.1111111111111111,\"#46039f\"],[0.2222222222222222,\"#7201a8\"],[0.3333333333333333,\"#9c179e\"],[0.4444444444444444,\"#bd3786\"],[0.5555555555555556,\"#d8576b\"],[0.6666666666666666,\"#ed7953\"],[0.7777777777777778,\"#fb9f3a\"],[0.8888888888888888,\"#fdca26\"],[1.0,\"#f0f921\"]]}],\"contourcarpet\":[{\"type\":\"contourcarpet\",\"colorbar\":{\"outlinewidth\":0,\"ticks\":\"\"}}],\"contour\":[{\"type\":\"contour\",\"colorbar\":{\"outlinewidth\":0,\"ticks\":\"\"},\"colorscale\":[[0.0,\"#0d0887\"],[0.1111111111111111,\"#46039f\"],[0.2222222222222222,\"#7201a8\"],[0.3333333333333333,\"#9c179e\"],[0.4444444444444444,\"#bd3786\"],[0.5555555555555556,\"#d8576b\"],[0.6666666666666666,\"#ed7953\"],[0.7777777777777778,\"#fb9f3a\"],[0.8888888888888888,\"#fdca26\"],[1.0,\"#f0f921\"]]}],\"surface\":[{\"type\":\"surface\",\"colorbar\":{\"outlinewidth\":0,\"ticks\":\"\"},\"colorscale\":[[0.0,\"#0d0887\"],[0.1111111111111111,\"#46039f\"],[0.2222222222222222,\"#7201a8\"],[0.3333333333333333,\"#9c179e\"],[0.4444444444444444,\"#bd3786\"],[0.5555555555555556,\"#d8576b\"],[0.6666666666666666,\"#ed7953\"],[0.7777777777777778,\"#fb9f3a\"],[0.8888888888888888,\"#fdca26\"],[1.0,\"#f0f921\"]]}],\"mesh3d\":[{\"type\":\"mesh3d\",\"colorbar\":{\"outlinewidth\":0,\"ticks\":\"\"}}],\"scatter\":[{\"fillpattern\":{\"fillmode\":\"overlay\",\"size\":10,\"solidity\":0.2},\"type\":\"scatter\"}],\"parcoords\":[{\"type\":\"parcoords\",\"line\":{\"colorbar\":{\"outlinewidth\":0,\"ticks\":\"\"}}}],\"scatterpolargl\":[{\"type\":\"scatterpolargl\",\"marker\":{\"colorbar\":{\"outlinewidth\":0,\"ticks\":\"\"}}}],\"bar\":[{\"error_x\":{\"color\":\"#2a3f5f\"},\"error_y\":{\"color\":\"#2a3f5f\"},\"marker\":{\"line\":{\"color\":\"#E5ECF6\",\"width\":0.5},\"pattern\":{\"fillmode\":\"overlay\",\"size\":10,\"solidity\":0.2}},\"type\":\"bar\"}],\"scattergeo\":[{\"type\":\"scattergeo\",\"marker\":{\"colorbar\":{\"outlinewidth\":0,\"ticks\":\"\"}}}],\"scatterpolar\":[{\"type\":\"scatterpolar\",\"marker\":{\"colorbar\":{\"outlinewidth\":0,\"ticks\":\"\"}}}],\"histogram\":[{\"marker\":{\"pattern\":{\"fillmode\":\"overlay\",\"size\":10,\"solidity\":0.2}},\"type\":\"histogram\"}],\"scattergl\":[{\"type\":\"scattergl\",\"marker\":{\"colorbar\":{\"outlinewidth\":0,\"ticks\":\"\"}}}],\"scatter3d\":[{\"type\":\"scatter3d\",\"line\":{\"colorbar\":{\"outlinewidth\":0,\"ticks\":\"\"}},\"marker\":{\"colorbar\":{\"outlinewidth\":0,\"ticks\":\"\"}}}],\"scattermapbox\":[{\"type\":\"scattermapbox\",\"marker\":{\"colorbar\":{\"outlinewidth\":0,\"ticks\":\"\"}}}],\"scatterternary\":[{\"type\":\"scatterternary\",\"marker\":{\"colorbar\":{\"outlinewidth\":0,\"ticks\":\"\"}}}],\"scattercarpet\":[{\"type\":\"scattercarpet\",\"marker\":{\"colorbar\":{\"outlinewidth\":0,\"ticks\":\"\"}}}],\"carpet\":[{\"aaxis\":{\"endlinecolor\":\"#2a3f5f\",\"gridcolor\":\"white\",\"linecolor\":\"white\",\"minorgridcolor\":\"white\",\"startlinecolor\":\"#2a3f5f\"},\"baxis\":{\"endlinecolor\":\"#2a3f5f\",\"gridcolor\":\"white\",\"linecolor\":\"white\",\"minorgridcolor\":\"white\",\"startlinecolor\":\"#2a3f5f\"},\"type\":\"carpet\"}],\"table\":[{\"cells\":{\"fill\":{\"color\":\"#EBF0F8\"},\"line\":{\"color\":\"white\"}},\"header\":{\"fill\":{\"color\":\"#C8D4E3\"},\"line\":{\"color\":\"white\"}},\"type\":\"table\"}],\"barpolar\":[{\"marker\":{\"line\":{\"color\":\"#E5ECF6\",\"width\":0.5},\"pattern\":{\"fillmode\":\"overlay\",\"size\":10,\"solidity\":0.2}},\"type\":\"barpolar\"}],\"pie\":[{\"automargin\":true,\"type\":\"pie\"}]},\"layout\":{\"autotypenumbers\":\"strict\",\"colorway\":[\"#636efa\",\"#EF553B\",\"#00cc96\",\"#ab63fa\",\"#FFA15A\",\"#19d3f3\",\"#FF6692\",\"#B6E880\",\"#FF97FF\",\"#FECB52\"],\"font\":{\"color\":\"#2a3f5f\"},\"hovermode\":\"closest\",\"hoverlabel\":{\"align\":\"left\"},\"paper_bgcolor\":\"white\",\"plot_bgcolor\":\"#E5ECF6\",\"polar\":{\"bgcolor\":\"#E5ECF6\",\"angularaxis\":{\"gridcolor\":\"white\",\"linecolor\":\"white\",\"ticks\":\"\"},\"radialaxis\":{\"gridcolor\":\"white\",\"linecolor\":\"white\",\"ticks\":\"\"}},\"ternary\":{\"bgcolor\":\"#E5ECF6\",\"aaxis\":{\"gridcolor\":\"white\",\"linecolor\":\"white\",\"ticks\":\"\"},\"baxis\":{\"gridcolor\":\"white\",\"linecolor\":\"white\",\"ticks\":\"\"},\"caxis\":{\"gridcolor\":\"white\",\"linecolor\":\"white\",\"ticks\":\"\"}},\"coloraxis\":{\"colorbar\":{\"outlinewidth\":0,\"ticks\":\"\"}},\"colorscale\":{\"sequential\":[[0.0,\"#0d0887\"],[0.1111111111111111,\"#46039f\"],[0.2222222222222222,\"#7201a8\"],[0.3333333333333333,\"#9c179e\"],[0.4444444444444444,\"#bd3786\"],[0.5555555555555556,\"#d8576b\"],[0.6666666666666666,\"#ed7953\"],[0.7777777777777778,\"#fb9f3a\"],[0.8888888888888888,\"#fdca26\"],[1.0,\"#f0f921\"]],\"sequentialminus\":[[0.0,\"#0d0887\"],[0.1111111111111111,\"#46039f\"],[0.2222222222222222,\"#7201a8\"],[0.3333333333333333,\"#9c179e\"],[0.4444444444444444,\"#bd3786\"],[0.5555555555555556,\"#d8576b\"],[0.6666666666666666,\"#ed7953\"],[0.7777777777777778,\"#fb9f3a\"],[0.8888888888888888,\"#fdca26\"],[1.0,\"#f0f921\"]],\"diverging\":[[0,\"#8e0152\"],[0.1,\"#c51b7d\"],[0.2,\"#de77ae\"],[0.3,\"#f1b6da\"],[0.4,\"#fde0ef\"],[0.5,\"#f7f7f7\"],[0.6,\"#e6f5d0\"],[0.7,\"#b8e186\"],[0.8,\"#7fbc41\"],[0.9,\"#4d9221\"],[1,\"#276419\"]]},\"xaxis\":{\"gridcolor\":\"white\",\"linecolor\":\"white\",\"ticks\":\"\",\"title\":{\"standoff\":15},\"zerolinecolor\":\"white\",\"automargin\":true,\"zerolinewidth\":2},\"yaxis\":{\"gridcolor\":\"white\",\"linecolor\":\"white\",\"ticks\":\"\",\"title\":{\"standoff\":15},\"zerolinecolor\":\"white\",\"automargin\":true,\"zerolinewidth\":2},\"scene\":{\"xaxis\":{\"backgroundcolor\":\"#E5ECF6\",\"gridcolor\":\"white\",\"linecolor\":\"white\",\"showbackground\":true,\"ticks\":\"\",\"zerolinecolor\":\"white\",\"gridwidth\":2},\"yaxis\":{\"backgroundcolor\":\"#E5ECF6\",\"gridcolor\":\"white\",\"linecolor\":\"white\",\"showbackground\":true,\"ticks\":\"\",\"zerolinecolor\":\"white\",\"gridwidth\":2},\"zaxis\":{\"backgroundcolor\":\"#E5ECF6\",\"gridcolor\":\"white\",\"linecolor\":\"white\",\"showbackground\":true,\"ticks\":\"\",\"zerolinecolor\":\"white\",\"gridwidth\":2}},\"shapedefaults\":{\"line\":{\"color\":\"#2a3f5f\"}},\"annotationdefaults\":{\"arrowcolor\":\"#2a3f5f\",\"arrowhead\":0,\"arrowwidth\":1},\"geo\":{\"bgcolor\":\"white\",\"landcolor\":\"#E5ECF6\",\"subunitcolor\":\"white\",\"showland\":true,\"showlakes\":true,\"lakecolor\":\"white\"},\"title\":{\"x\":0.05},\"mapbox\":{\"style\":\"light\"}}},\"xaxis\":{\"anchor\":\"y\",\"domain\":[0.0,1.0],\"title\":{\"text\":\"x\"}},\"yaxis\":{\"anchor\":\"x\",\"domain\":[0.0,1.0],\"title\":{\"text\":\"y\"}},\"legend\":{\"tracegroupgap\":0},\"title\":{\"text\":\"Sine Wave (Plotly)\"}},                        {\"responsive\": true}                    ).then(function(){\n",
              "                            \n",
              "var gd = document.getElementById('43df7bd4-9933-47c2-9280-bde997b35a6a');\n",
              "var x = new MutationObserver(function (mutations, observer) {{\n",
              "        var display = window.getComputedStyle(gd).display;\n",
              "        if (!display || display === 'none') {{\n",
              "            console.log([gd, 'removed!']);\n",
              "            Plotly.purge(gd);\n",
              "            observer.disconnect();\n",
              "        }}\n",
              "}});\n",
              "\n",
              "// Listen for the removal of the full notebook cells\n",
              "var notebookContainer = gd.closest('#notebook-container');\n",
              "if (notebookContainer) {{\n",
              "    x.observe(notebookContainer, {childList: true});\n",
              "}}\n",
              "\n",
              "// Listen for the clearing of the current output cell\n",
              "var outputEl = gd.closest('.output');\n",
              "if (outputEl) {{\n",
              "    x.observe(outputEl, {childList: true});\n",
              "}}\n",
              "\n",
              "                        })                };                            </script>        </div>\n",
              "</body>\n",
              "</html>"
            ]
          },
          "metadata": {}
        }
      ]
    },
    {
      "cell_type": "markdown",
      "metadata": {
        "id": "86819f7c"
      },
      "source": [
        "**10. What is the significance of hierarchical indexing in Pandas?**\n",
        "\n",
        "Hierarchical indexing, also known as MultiIndex, allows you to have multiple levels of indices on an axis (rows or columns) of a Pandas Series or DataFrame. This is significant because it enables you to work with higher-dimensional data in a two-dimensional structure.\n",
        "\n",
        "**Significance:**\n",
        "\n",
        "*   **Handling Complex Data:** It's useful for representing and analyzing data with multiple categorical levels, such as time series data with multiple frequencies or data grouped by multiple criteria.\n",
        "*   **Data Aggregation:** It simplifies performing aggregations and selections across different levels of the hierarchy.\n",
        "*   **Reshaping Data:** It's fundamental for reshaping data using operations like `stack()` and `unstack()`.\n"
      ]
    },
    {
      "cell_type": "markdown",
      "metadata": {
        "id": "36be8b12"
      },
      "source": [
        "**11. What is the role of Seaborn's `pairplot()` function?**\n",
        "\n",
        "Seaborn's `pairplot()` function is a powerful tool for visualizing the relationships between all pairs of variables in a dataset. It creates a grid of plots where:\n",
        "\n",
        "*   The diagonal plots show the distribution of each individual variable (e.g., a histogram or kernel density estimate).\n",
        "*   The off-diagonal plots show scatter plots of each pair of variables, revealing their pairwise relationships.\n",
        "\n",
        "**Role of `pairplot()`:**\n",
        "\n",
        "*   **Exploratory Data Analysis (EDA):** It's excellent for quickly exploring the distributions of individual variables and the relationships between pairs of variables in a dataset.\n",
        "*   **Identifying Correlations:** It can help identify potential correlations or patterns between variables.\n",
        "*   **Visualizing Data Structure:** It provides a comprehensive overview of the dataset's structure and the interactions between its features.\n",
        "\n"
      ]
    },
    {
      "cell_type": "markdown",
      "metadata": {
        "id": "e4537ad8"
      },
      "source": [
        "**12. What is the purpose of the `describe()` function in Pandas?**\n",
        "\n",
        "The `describe()` function in Pandas is used to generate descriptive statistics of a DataFrame or Series. For numerical columns, it calculates statistics such as count, mean, standard deviation, minimum, maximum, and quartiles. For categorical columns, it provides the count of unique values, the most frequent value (top), and its frequency.\n",
        "\n",
        "**Purpose of `describe()`:**\n",
        "\n",
        "*   **Data Summary:** It provides a quick summary of the central tendency, dispersion, and shape of the dataset's distribution.\n",
        "*   **Identifying Outliers:** The minimum and maximum values can help identify potential outliers.\n",
        "*   **Understanding Data Distribution:** The mean, median (50th percentile), and quartiles give insights into the distribution of the data.\n",
        "*   **Initial Data Exploration:** It's a common first step in exploratory data analysis to get a sense of the data's characteristics.\n",
        "\n"
      ]
    },
    {
      "cell_type": "markdown",
      "metadata": {
        "id": "d00c1957"
      },
      "source": [
        "**13. Why is handling missing data important in Pandas?**\n",
        "\n",
        "Handling missing data (often represented as `NaN` or `None`) is crucial in Pandas for several reasons:\n",
        "\n",
        "*   **Impact on Analysis:** Many statistical and machine learning algorithms cannot handle missing values. Ignoring them can lead to errors or biased results.\n",
        "*   **Maintaining Data Integrity:** Missing data can indicate issues with data collection or entry, which need to be addressed to ensure data quality.\n",
        "*   **Preventing Skewed Results:** Simply dropping rows or columns with missing values might lead to a significant loss of data or introduce bias if the missingness is not random.\n",
        "*   **Accurate Visualization:** Missing values can distort visualizations and lead to misinterpretations.\n",
        "\n",
        "**Common Techniques for Handling Missing Data in Pandas:**\n",
        "\n",
        "*   **Dropping:** Removing rows or columns with missing values (`df.dropna()`).\n",
        "*   **Filling:** Replacing missing values with a specific value (e.g., mean, median, mode, or a constant) (`df.fillna()`).\n",
        "*   **Imputation:** Using more sophisticated methods to estimate missing values based on other data in the dataset.\n",
        "\n"
      ]
    },
    {
      "cell_type": "markdown",
      "metadata": {
        "id": "598fcbf4"
      },
      "source": [
        "**14. What are the benefits of using Plotly for data visualization?**\n",
        "\n",
        "Plotly is an interactive graphing library that offers several benefits for data visualization:\n",
        "\n",
        "*   **Interactivity:** Plotly creates interactive plots by default, allowing users to zoom, pan, hover over data points to see details, and toggle the visibility of data series. This enhances data exploration.\n",
        "*   **Web-Based:** Plotly generates web-based visualizations (HTML, JavaScript), which makes them easily shareable and embeddable in websites, dashboards, and reports.\n",
        "*   **Wide Range of Plot Types:** It supports a vast array of plot types, including 2D and 3D scatter plots, line plots, bar charts, histograms, box plots, heatmaps, contour plots, and specialized plots like financial charts and maps.\n",
        "*   **Integration:** Plotly integrates well with various platforms and tools, including Jupyter notebooks, Dash (for building web applications), R, and MATLAB.\n",
        "*   **Aesthetic Appeal:** Plotly plots are generally aesthetically pleasing and have a modern look and feel.\n",
        "\n"
      ]
    },
    {
      "cell_type": "markdown",
      "metadata": {
        "id": "d8138b30"
      },
      "source": [
        "**15. How does NumPy handle multidimensional arrays?**\n",
        "\n",
        "NumPy's core data structure is the `ndarray` (n-dimensional array). NumPy handles multidimensional arrays efficiently by storing them in contiguous blocks of memory and providing optimized functions for operating on them.\n",
        "\n",
        "**Key Aspects of Handling Multidimensional Arrays in NumPy:**\n",
        "\n",
        "*   **Shape:** The `shape` attribute of an `ndarray` is a tuple that indicates the size of the array along each dimension.\n",
        "*   **Indexing and Slicing:** NumPy allows for powerful and flexible indexing and slicing of multidimensional arrays using tuples of indices or slices.\n",
        "*   **Broadcasting:** As discussed earlier, broadcasting allows operations between arrays of different shapes.\n",
        "*   **Array Creation Functions:** NumPy provides various functions for creating multidimensional arrays, such as `zeros()`, `ones()`, `empty()`, `arange()`, and `linspace()`.\n",
        "*   **Reshaping:** You can change the shape of an array using methods like `reshape()`.\n",
        "\n"
      ]
    },
    {
      "cell_type": "markdown",
      "metadata": {
        "id": "3226af08"
      },
      "source": [
        "**16. What is the role of Bokeh in data visualization?**\n",
        "\n",
        "Bokeh is an interactive visualization library for modern web browsers. It is designed to create elegant and interactive plots, dashboards, and data applications. Its primary role is to enable the creation of highly customizable and scalable visualizations that can be easily embedded in web pages or served as standalone applications.\n",
        "\n",
        "**Role of Bokeh:**\n",
        "\n",
        "*   **Interactive Web Visualizations:** Bokeh's strength lies in generating interactive plots that can be rendered in web browsers without requiring JavaScript programming from the user.\n",
        "*   **Building Dashboards and Applications:** It provides components and layouts for building interactive dashboards and data applications.\n",
        "*   **Streaming Data:** Bokeh is well-suited for visualizing streaming data due to its ability to update plots efficiently in the browser.\n",
        "*   **Integration with Other Libraries:** It integrates with other Python libraries like Pandas and NumPy.\n",
        "\n"
      ]
    },
    {
      "cell_type": "markdown",
      "metadata": {
        "id": "c1735e4b"
      },
      "source": [
        "**17. Explain the difference between `apply()` and `map()` in Pandas.**\n",
        "\n",
        "`apply()` and `map()` are both methods in Pandas used for applying functions to data, but they operate at different levels and have different use cases.\n",
        "\n",
        "1. Level of Operation\n",
        "- apply(): Works on Series or DataFrames (along an axis or element-wise)\n",
        "- map(): Works only on Series (element-wise)\n",
        "\n",
        "2. Function Input\n",
        "- apply(): Can take functions that operate on Series, DataFrames, or individual elements\n",
        "- map(): Can take a function or a dictionary; operates on each element of the Series\n",
        "\n",
        "3. Flexibility\n",
        "- apply(): More flexible; can be used for more complex operations, including aggregation and transformation\n",
        "- map(): Less flexible; primarily for element-wise transformations or mapping values\n",
        "\n",
        "4. Output\n",
        "- apply(): Returns a Series or DataFrame, depending on the function and axis\n",
        "- map(): Returns a Series\n",
        "\n",
        "\n",
        "**When to use:**\n",
        "\n",
        "*   Use `apply()` when you need to apply a function to an entire row, column, or the entire DataFrame, or when the function requires processing multiple elements at once.\n",
        "*   Use `map()` when you need to apply a function or a dictionary mapping to each individual element of a Series.\n",
        "\n"
      ]
    },
    {
      "cell_type": "markdown",
      "metadata": {
        "id": "81b09c4f"
      },
      "source": [
        "**18. What are some advanced features of NumPy?**\n",
        "\n",
        "NumPy offers several advanced features that extend its capabilities beyond basic array manipulation:\n",
        "\n",
        "*   **ufuncs (Universal Functions):** Element-wise operations that can operate on arrays of different sizes and dimensions using broadcasting. They are highly optimized and implemented in C.\n",
        "*   **Linear Algebra:** NumPy provides functions for linear algebra operations, such as matrix multiplication (`@` operator or `np.dot()`), determinant, inverse, eigenvalues, and eigenvectors (`np.linalg`).\n",
        "*   **Random Number Generation:** The `numpy.random` module provides a wide range of functions for generating random numbers from various probability distributions.\n",
        "*   **Fourier Transforms:** NumPy's `numpy.fft` module allows for computing discrete Fourier transforms and their inverses.\n",
        "*   **Masked Arrays:** The `numpy.ma` module provides support for arrays that have missing or invalid entries.\n",
        "*   **Structured Arrays:** Allows you to define arrays with elements that are structures, similar to structs in C, where each element can have different data types.\n",
        "*   **Memory Mapping:** Allows working with very large arrays that don't fit into memory by mapping portions of the array from disk.\n",
        "\n"
      ]
    },
    {
      "cell_type": "markdown",
      "metadata": {
        "id": "77ee81d9"
      },
      "source": [
        "**19. How does Pandas simplify time series analysis?**\n",
        "\n",
        "Pandas is exceptionally well-suited for time series analysis due to its specialized data structures and functions designed to handle time-indexed data.\n",
        "\n",
        "**How Pandas simplifies time series analysis:**\n",
        "\n",
        "*   **DatetimeIndex:** Pandas introduces the `DatetimeIndex`, a powerful index type specifically for time series data. It allows for efficient indexing, slicing, and resampling of time series.\n",
        "*   **Time-based Indexing and Slicing:** You can easily select data within specific date ranges or times using intuitive slicing syntax.\n",
        "*   **Resampling:** Pandas provides robust resampling capabilities to change the frequency of time series data (e.g., aggregate daily data to monthly or interpolate hourly data to every 15 minutes).\n",
        "*   **Time Zone Handling:** Pandas supports time zone localization and conversion.\n",
        "*   **Handling Missing Data:** Pandas has built-in methods for handling missing values in time series, such as forward-fill and backward-fill.\n",
        "*   **Rolling and Expanding Operations:** It provides functions for calculating rolling statistics (e.g., moving averages) and expanding statistics.\n",
        "*   **Plotting:** Pandas integrates with Matplotlib for easily plotting time series data.\n"
      ]
    },
    {
      "cell_type": "markdown",
      "metadata": {
        "id": "cf71a6c1"
      },
      "source": [
        "**20. What is the role of a pivot table in Pandas?**\n",
        "\n",
        "A pivot table is a data summarization tool used to reorganize data from a flat table into a new table that summarizes the data by one or more keys. In Pandas, the `pivot_table()` function is used to create spreadsheet-style pivot tables as a DataFrame.\n",
        "\n",
        "**Role of `pivot_table()`:**\n",
        "\n",
        "*   **Data Aggregation and Summarization:** It allows you to aggregate data based on multiple grouping columns and apply various aggregation functions (e.g., mean, sum, count) to the values.\n",
        "*   **Data Reshaping:** It's used to reshape data, transforming rows into columns and providing a different perspective on the data.\n",
        "*   **Multidimensional Analysis:** You can analyze data across multiple dimensions by specifying multiple columns for the index, columns, and values.\n",
        "\n",
        "**Key arguments of `pivot_table()`:**\n",
        "\n",
        "*   `data`: The DataFrame to use.\n",
        "*   `values`: The column(s) to aggregate.\n",
        "*   `index`: The column(s) to use as the index of the pivot table.\n",
        "*   `columns`: The column(s) to use as the columns of the pivot table.\n",
        "*   `aggfunc`: The aggregation function(s) to apply (e.g., 'mean', 'sum', 'count').\n",
        "\n"
      ]
    },
    {
      "cell_type": "markdown",
      "metadata": {
        "id": "4364cb16"
      },
      "source": [
        "**21. Why is NumPy's array slicing faster than Python's list slicing?**\n",
        "\n",
        "NumPy's array slicing is generally faster than Python's list slicing due to fundamental differences in how they store and access data.\n",
        "\n",
        "*   **Memory Layout:** NumPy arrays store elements of the same data type in contiguous blocks of memory. This allows for efficient access to elements and optimized operations using low-level C code. Python lists, on the other hand, store pointers to objects that can be scattered throughout memory, requiring more overhead to access elements.\n",
        "*   **Type Homogeneity:** NumPy arrays are homogeneous (all elements have the same data type), which allows NumPy to perform operations on chunks of data without needing to check the type of each individual element. Python lists are heterogeneous and require type checking for each element during operations.\n",
        "*   **Optimized C Implementation:** NumPy's slicing operations are implemented in C, leveraging highly optimized routines for memory access and manipulation. Python's list slicing is implemented in Python, which is generally slower for numerical operations.\n",
        "*   **No Data Copying (Views):** When you slice a NumPy array, you often get a \"view\" of the original array, meaning you are working with the same underlying data. This avoids the overhead of creating a copy of the data, which happens by default when you slice a Python list.\n",
        "\n",
        "These factors contribute to NumPy's superior performance for numerical operations, including slicing, compared to Python lists."
      ]
    },
    {
      "cell_type": "markdown",
      "metadata": {
        "id": "2e06f875"
      },
      "source": [
        "**22. What are some common use cases for Seaborn?**\n",
        "\n",
        "Seaborn is widely used for various statistical data visualization tasks. Some common use cases include:\n",
        "\n",
        "*   **Exploring Relationships between Variables:** Creating scatter plots, line plots, and regression plots to visualize the relationships between two or more numerical variables.\n",
        "*   **Visualizing Distributions:** Generating histograms, kernel density estimates, box plots, violin plots, and swarm plots to understand the distribution of individual variables or compare distributions across different categories.\n",
        "*   **Categorical Data Visualization:** Creating bar plots, count plots, and box plots to visualize relationships between categorical and numerical variables.\n",
        "*   **Plotting Matrices of Data:** Using heatmaps to visualize correlation matrices, covariance matrices, or other grid-like data.\n",
        "*   **Visualizing Pairwise Relationships:** Employing `pairplot()` to visualize the relationships between all pairs of variables in a dataset.\n",
        "*   **Time Series Visualization:** While Matplotlib is fundamental, Seaborn can enhance time series plots with better aesthetics and statistical features.\n",
        "*   **Creating Multi-Panel Plots:** Utilizing `FacetGrid` or `catplot` to create grids of plots that show relationships conditioned on one or more categorical variables.\n",
        "\n",
        "Seaborn is particularly useful when you want to create informative and aesthetically pleasing statistical plots with less code than required by Matplotlib alone."
      ]
    },
    {
      "cell_type": "markdown",
      "source": [
        "# ***Practical***"
      ],
      "metadata": {
        "id": "_79h0Sq8NV6d"
      }
    },
    {
      "cell_type": "markdown",
      "metadata": {
        "id": "3210388d"
      },
      "source": [
        "**1. How do you create a 2D NumPy array and calculate the sum of each row?**"
      ]
    },
    {
      "cell_type": "code",
      "metadata": {
        "colab": {
          "base_uri": "https://localhost:8080/"
        },
        "id": "edb8ade6",
        "outputId": "db020eb4-d0e1-40cb-e554-b32430b0a3d0"
      },
      "source": [
        "import numpy as np\n",
        "\n",
        "# Create a 2D NumPy array\n",
        "array_2d = np.array([[1, 2, 3],\n",
        "                     [4, 5, 6],\n",
        "                     [7, 8, 9]])\n",
        "\n",
        "# Calculate the sum of each row\n",
        "row_sums = np.sum(array_2d, axis=1)\n",
        "\n",
        "print(\"2D Array:\")\n",
        "print(array_2d)\n",
        "print(\"\\nSum of each row:\")\n",
        "print(row_sums)"
      ],
      "execution_count": 2,
      "outputs": [
        {
          "output_type": "stream",
          "name": "stdout",
          "text": [
            "2D Array:\n",
            "[[1 2 3]\n",
            " [4 5 6]\n",
            " [7 8 9]]\n",
            "\n",
            "Sum of each row:\n",
            "[ 6 15 24]\n"
          ]
        }
      ]
    },
    {
      "cell_type": "markdown",
      "metadata": {
        "id": "f4822c6d"
      },
      "source": [
        "**2. Write a Pandas script to find the mean of a specific column in a DataFrame.**"
      ]
    },
    {
      "cell_type": "code",
      "metadata": {
        "colab": {
          "base_uri": "https://localhost:8080/"
        },
        "id": "0ef0b617",
        "outputId": "b57d1b66-8ee4-45f8-ba4f-8409c3318506"
      },
      "source": [
        "import pandas as pd\n",
        "\n",
        "# Create a sample DataFrame\n",
        "data = {'col1': [10, 20, 30, 40, 50],\n",
        "        'col2': [1, 2, 3, 4, 5]}\n",
        "df = pd.DataFrame(data)\n",
        "\n",
        "# Find the mean of 'col1'\n",
        "mean_col1 = df['col1'].mean()\n",
        "\n",
        "print(\"DataFrame:\")\n",
        "print(df)\n",
        "print(f\"\\nMean of col1: {mean_col1}\")"
      ],
      "execution_count": 3,
      "outputs": [
        {
          "output_type": "stream",
          "name": "stdout",
          "text": [
            "DataFrame:\n",
            "   col1  col2\n",
            "0    10     1\n",
            "1    20     2\n",
            "2    30     3\n",
            "3    40     4\n",
            "4    50     5\n",
            "\n",
            "Mean of col1: 30.0\n"
          ]
        }
      ]
    },
    {
      "cell_type": "markdown",
      "metadata": {
        "id": "8f898d49"
      },
      "source": [
        "**3. Create a scatter plot using Matplotlib.**"
      ]
    },
    {
      "cell_type": "code",
      "metadata": {
        "colab": {
          "base_uri": "https://localhost:8080/",
          "height": 493
        },
        "id": "2ca39327",
        "outputId": "3faffc2e-e6f8-4e1c-d2ca-1812205d95d4"
      },
      "source": [
        "import matplotlib.pyplot as plt\n",
        "import numpy as np\n",
        "\n",
        "# Generate some sample data\n",
        "np.random.seed(0)\n",
        "x = np.random.rand(50)\n",
        "y = np.random.rand(50)\n",
        "\n",
        "# Create a scatter plot\n",
        "plt.scatter(x, y)\n",
        "plt.xlabel(\"X-axis\")\n",
        "plt.ylabel(\"Y-axis\")\n",
        "plt.title(\"Simple Scatter Plot\")\n",
        "plt.show()"
      ],
      "execution_count": 4,
      "outputs": [
        {
          "output_type": "display_data",
          "data": {
            "text/plain": [
              "<Figure size 640x480 with 1 Axes>"
            ],
            "image/png": "[encoded data removed]"
          },
          "metadata": {}
        }
      ]
    },
    {
      "cell_type": "markdown",
      "metadata": {
        "id": "6c2eee41"
      },
      "source": [
        "**4. How do you calculate the correlation matrix using Seaborn and visualize it with a heatmap?**"
      ]
    },
    {
      "cell_type": "code",
      "metadata": {
        "colab": {
          "base_uri": "https://localhost:8080/",
          "height": 412
        },
        "id": "ff8680f3",
        "outputId": "fcae5f31-464f-46ad-c181-8da6137553e0"
      },
      "source": [
        "import seaborn as sns\n",
        "import pandas as pd\n",
        "import numpy as np\n",
        "import matplotlib.pyplot as plt\n",
        "\n",
        "# Create a sample DataFrame\n",
        "data = {'col1': np.random.rand(10),\n",
        "        'col2': np.random.rand(10),\n",
        "        'col3': np.random.rand(10)}\n",
        "df = pd.DataFrame(data)\n",
        "\n",
        "# Calculate the correlation matrix\n",
        "correlation_matrix = df.corr()\n",
        "\n",
        "# Visualize the correlation matrix with a heatmap\n",
        "plt.figure(figsize=(6, 4))\n",
        "sns.heatmap(correlation_matrix, annot=True, cmap='coolwarm', fmt=\".2f\")\n",
        "plt.title(\"Correlation Matrix Heatmap\")\n",
        "plt.show()"
      ],
      "execution_count": 5,
      "outputs": [
        {
          "output_type": "display_data",
          "data": {
            "text/plain": [
              "<Figure size 600x400 with 2 Axes>"
            ],
            "image/png": "[encoded data removed]"
          },
          "metadata": {}
        }
      ]
    },
    {
      "cell_type": "markdown",
      "metadata": {
        "id": "1e781559"
      },
      "source": [
        "**5. Generate a bar plot using Plotly.**"
      ]
    },
    {
      "cell_type": "code",
      "metadata": {
        "colab": {
          "base_uri": "https://localhost:8080/",
          "height": 562
        },
        "id": "5290841c",
        "outputId": "5c16fb8a-506e-49f4-dd41-36dec0fa9dcd"
      },
      "source": [
        "import plotly.express as px\n",
        "import pandas as pd\n",
        "\n",
        "# Create a sample DataFrame\n",
        "data = {'Category': ['A', 'B', 'C', 'D'],\n",
        "        'Values': [15, 25, 10, 30]}\n",
        "df = pd.DataFrame(data)\n",
        "\n",
        "# Generate a bar plot\n",
        "fig = px.bar(df, x='Category', y='Values', title=\"Simple Bar Plot (Plotly)\")\n",
        "fig.show()"
      ],
      "execution_count": 6,
      "outputs": [
        {
          "output_type": "display_data",
          "data": {
            "text/html": [
              "<html>\n",
              "<head><meta charset=\"utf-8\" /></head>\n",
              "<body>\n",
              "    <div>            <script src=\"https://cdnjs.cloudflare.com/ajax/libs/mathjax/2.7.5/MathJax.js?config=TeX-AMS-MML_SVG\"></script><script type=\"text/javascript\">if (window.MathJax && window.MathJax.Hub && window.MathJax.Hub.Config) {window.MathJax.Hub.Config({SVG: {font: \"STIX-Web\"}});}</script>                <script type=\"text/javascript\">window.PlotlyConfig = {MathJaxConfig: 'local'};</script>\n",
              "        <script charset=\"utf-8\" src=\"https://cdn.plot.ly/plotly-2.35.2.min.js\"></script>                <div id=\"20eeca85-5cdc-4f8e-aea0-ccd9bba833f8\" class=\"plotly-graph-div\" style=\"height:525px; width:100%;\"></div>            <script type=\"text/javascript\">                                    window.PLOTLYENV=window.PLOTLYENV || {};                                    if (document.getElementById(\"20eeca85-5cdc-4f8e-aea0-ccd9bba833f8\")) {                    Plotly.newPlot(                        \"20eeca85-5cdc-4f8e-aea0-ccd9bba833f8\",                        [{\"alignmentgroup\":\"True\",\"hovertemplate\":\"Category=%{x}\\u003cbr\\u003eValues=%{y}\\u003cextra\\u003e\\u003c\\u002fextra\\u003e\",\"legendgroup\":\"\",\"marker\":{\"color\":\"#636efa\",\"pattern\":{\"shape\":\"\"}},\"name\":\"\",\"offsetgroup\":\"\",\"orientation\":\"v\",\"showlegend\":false,\"textposition\":\"auto\",\"x\":[\"A\",\"B\",\"C\",\"D\"],\"xaxis\":\"x\",\"y\":[15,25,10,30],\"yaxis\":\"y\",\"type\":\"bar\"}],                        {\"template\":{\"data\":{\"histogram2dcontour\":[{\"type\":\"histogram2dcontour\",\"colorbar\":{\"outlinewidth\":0,\"ticks\":\"\"},\"colorscale\":[[0.0,\"#0d0887\"],[0.1111111111111111,\"#46039f\"],[0.2222222222222222,\"#7201a8\"],[0.3333333333333333,\"#9c179e\"],[0.4444444444444444,\"#bd3786\"],[0.5555555555555556,\"#d8576b\"],[0.6666666666666666,\"#ed7953\"],[0.7777777777777778,\"#fb9f3a\"],[0.8888888888888888,\"#fdca26\"],[1.0,\"#f0f921\"]]}],\"choropleth\":[{\"type\":\"choropleth\",\"colorbar\":{\"outlinewidth\":0,\"ticks\":\"\"}}],\"histogram2d\":[{\"type\":\"histogram2d\",\"colorbar\":{\"outlinewidth\":0,\"ticks\":\"\"},\"colorscale\":[[0.0,\"#0d0887\"],[0.1111111111111111,\"#46039f\"],[0.2222222222222222,\"#7201a8\"],[0.3333333333333333,\"#9c179e\"],[0.4444444444444444,\"#bd3786\"],[0.5555555555555556,\"#d8576b\"],[0.6666666666666666,\"#ed7953\"],[0.7777777777777778,\"#fb9f3a\"],[0.8888888888888888,\"#fdca26\"],[1.0,\"#f0f921\"]]}],\"heatmap\":[{\"type\":\"heatmap\",\"colorbar\":{\"outlinewidth\":0,\"ticks\":\"\"},\"colorscale\":[[0.0,\"#0d0887\"],[0.1111111111111111,\"#46039f\"],[0.2222222222222222,\"#7201a8\"],[0.3333333333333333,\"#9c179e\"],[0.4444444444444444,\"#bd3786\"],[0.5555555555555556,\"#d8576b\"],[0.6666666666666666,\"#ed7953\"],[0.7777777777777778,\"#fb9f3a\"],[0.8888888888888888,\"#fdca26\"],[1.0,\"#f0f921\"]]}],\"heatmapgl\":[{\"type\":\"heatmapgl\",\"colorbar\":{\"outlinewidth\":0,\"ticks\":\"\"},\"colorscale\":[[0.0,\"#0d0887\"],[0.1111111111111111,\"#46039f\"],[0.2222222222222222,\"#7201a8\"],[0.3333333333333333,\"#9c179e\"],[0.4444444444444444,\"#bd3786\"],[0.5555555555555556,\"#d8576b\"],[0.6666666666666666,\"#ed7953\"],[0.7777777777777778,\"#fb9f3a\"],[0.8888888888888888,\"#fdca26\"],[1.0,\"#f0f921\"]]}],\"contourcarpet\":[{\"type\":\"contourcarpet\",\"colorbar\":{\"outlinewidth\":0,\"ticks\":\"\"}}],\"contour\":[{\"type\":\"contour\",\"colorbar\":{\"outlinewidth\":0,\"ticks\":\"\"},\"colorscale\":[[0.0,\"#0d0887\"],[0.1111111111111111,\"#46039f\"],[0.2222222222222222,\"#7201a8\"],[0.3333333333333333,\"#9c179e\"],[0.4444444444444444,\"#bd3786\"],[0.5555555555555556,\"#d8576b\"],[0.6666666666666666,\"#ed7953\"],[0.7777777777777778,\"#fb9f3a\"],[0.8888888888888888,\"#fdca26\"],[1.0,\"#f0f921\"]]}],\"surface\":[{\"type\":\"surface\",\"colorbar\":{\"outlinewidth\":0,\"ticks\":\"\"},\"colorscale\":[[0.0,\"#0d0887\"],[0.1111111111111111,\"#46039f\"],[0.2222222222222222,\"#7201a8\"],[0.3333333333333333,\"#9c179e\"],[0.4444444444444444,\"#bd3786\"],[0.5555555555555556,\"#d8576b\"],[0.6666666666666666,\"#ed7953\"],[0.7777777777777778,\"#fb9f3a\"],[0.8888888888888888,\"#fdca26\"],[1.0,\"#f0f921\"]]}],\"mesh3d\":[{\"type\":\"mesh3d\",\"colorbar\":{\"outlinewidth\":0,\"ticks\":\"\"}}],\"scatter\":[{\"fillpattern\":{\"fillmode\":\"overlay\",\"size\":10,\"solidity\":0.2},\"type\":\"scatter\"}],\"parcoords\":[{\"type\":\"parcoords\",\"line\":{\"colorbar\":{\"outlinewidth\":0,\"ticks\":\"\"}}}],\"scatterpolargl\":[{\"type\":\"scatterpolargl\",\"marker\":{\"colorbar\":{\"outlinewidth\":0,\"ticks\":\"\"}}}],\"bar\":[{\"error_x\":{\"color\":\"#2a3f5f\"},\"error_y\":{\"color\":\"#2a3f5f\"},\"marker\":{\"line\":{\"color\":\"#E5ECF6\",\"width\":0.5},\"pattern\":{\"fillmode\":\"overlay\",\"size\":10,\"solidity\":0.2}},\"type\":\"bar\"}],\"scattergeo\":[{\"type\":\"scattergeo\",\"marker\":{\"colorbar\":{\"outlinewidth\":0,\"ticks\":\"\"}}}],\"scatterpolar\":[{\"type\":\"scatterpolar\",\"marker\":{\"colorbar\":{\"outlinewidth\":0,\"ticks\":\"\"}}}],\"histogram\":[{\"marker\":{\"pattern\":{\"fillmode\":\"overlay\",\"size\":10,\"solidity\":0.2}},\"type\":\"histogram\"}],\"scattergl\":[{\"type\":\"scattergl\",\"marker\":{\"colorbar\":{\"outlinewidth\":0,\"ticks\":\"\"}}}],\"scatter3d\":[{\"type\":\"scatter3d\",\"line\":{\"colorbar\":{\"outlinewidth\":0,\"ticks\":\"\"}},\"marker\":{\"colorbar\":{\"outlinewidth\":0,\"ticks\":\"\"}}}],\"scattermapbox\":[{\"type\":\"scattermapbox\",\"marker\":{\"colorbar\":{\"outlinewidth\":0,\"ticks\":\"\"}}}],\"scatterternary\":[{\"type\":\"scatterternary\",\"marker\":{\"colorbar\":{\"outlinewidth\":0,\"ticks\":\"\"}}}],\"scattercarpet\":[{\"type\":\"scattercarpet\",\"marker\":{\"colorbar\":{\"outlinewidth\":0,\"ticks\":\"\"}}}],\"carpet\":[{\"aaxis\":{\"endlinecolor\":\"#2a3f5f\",\"gridcolor\":\"white\",\"linecolor\":\"white\",\"minorgridcolor\":\"white\",\"startlinecolor\":\"#2a3f5f\"},\"baxis\":{\"endlinecolor\":\"#2a3f5f\",\"gridcolor\":\"white\",\"linecolor\":\"white\",\"minorgridcolor\":\"white\",\"startlinecolor\":\"#2a3f5f\"},\"type\":\"carpet\"}],\"table\":[{\"cells\":{\"fill\":{\"color\":\"#EBF0F8\"},\"line\":{\"color\":\"white\"}},\"header\":{\"fill\":{\"color\":\"#C8D4E3\"},\"line\":{\"color\":\"white\"}},\"type\":\"table\"}],\"barpolar\":[{\"marker\":{\"line\":{\"color\":\"#E5ECF6\",\"width\":0.5},\"pattern\":{\"fillmode\":\"overlay\",\"size\":10,\"solidity\":0.2}},\"type\":\"barpolar\"}],\"pie\":[{\"automargin\":true,\"type\":\"pie\"}]},\"layout\":{\"autotypenumbers\":\"strict\",\"colorway\":[\"#636efa\",\"#EF553B\",\"#00cc96\",\"#ab63fa\",\"#FFA15A\",\"#19d3f3\",\"#FF6692\",\"#B6E880\",\"#FF97FF\",\"#FECB52\"],\"font\":{\"color\":\"#2a3f5f\"},\"hovermode\":\"closest\",\"hoverlabel\":{\"align\":\"left\"},\"paper_bgcolor\":\"white\",\"plot_bgcolor\":\"#E5ECF6\",\"polar\":{\"bgcolor\":\"#E5ECF6\",\"angularaxis\":{\"gridcolor\":\"white\",\"linecolor\":\"white\",\"ticks\":\"\"},\"radialaxis\":{\"gridcolor\":\"white\",\"linecolor\":\"white\",\"ticks\":\"\"}},\"ternary\":{\"bgcolor\":\"#E5ECF6\",\"aaxis\":{\"gridcolor\":\"white\",\"linecolor\":\"white\",\"ticks\":\"\"},\"baxis\":{\"gridcolor\":\"white\",\"linecolor\":\"white\",\"ticks\":\"\"},\"caxis\":{\"gridcolor\":\"white\",\"linecolor\":\"white\",\"ticks\":\"\"}},\"coloraxis\":{\"colorbar\":{\"outlinewidth\":0,\"ticks\":\"\"}},\"colorscale\":{\"sequential\":[[0.0,\"#0d0887\"],[0.1111111111111111,\"#46039f\"],[0.2222222222222222,\"#7201a8\"],[0.3333333333333333,\"#9c179e\"],[0.4444444444444444,\"#bd3786\"],[0.5555555555555556,\"#d8576b\"],[0.6666666666666666,\"#ed7953\"],[0.7777777777777778,\"#fb9f3a\"],[0.8888888888888888,\"#fdca26\"],[1.0,\"#f0f921\"]],\"sequentialminus\":[[0.0,\"#0d0887\"],[0.1111111111111111,\"#46039f\"],[0.2222222222222222,\"#7201a8\"],[0.3333333333333333,\"#9c179e\"],[0.4444444444444444,\"#bd3786\"],[0.5555555555555556,\"#d8576b\"],[0.6666666666666666,\"#ed7953\"],[0.7777777777777778,\"#fb9f3a\"],[0.8888888888888888,\"#fdca26\"],[1.0,\"#f0f921\"]],\"diverging\":[[0,\"#8e0152\"],[0.1,\"#c51b7d\"],[0.2,\"#de77ae\"],[0.3,\"#f1b6da\"],[0.4,\"#fde0ef\"],[0.5,\"#f7f7f7\"],[0.6,\"#e6f5d0\"],[0.7,\"#b8e186\"],[0.8,\"#7fbc41\"],[0.9,\"#4d9221\"],[1,\"#276419\"]]},\"xaxis\":{\"gridcolor\":\"white\",\"linecolor\":\"white\",\"ticks\":\"\",\"title\":{\"standoff\":15},\"zerolinecolor\":\"white\",\"automargin\":true,\"zerolinewidth\":2},\"yaxis\":{\"gridcolor\":\"white\",\"linecolor\":\"white\",\"ticks\":\"\",\"title\":{\"standoff\":15},\"zerolinecolor\":\"white\",\"automargin\":true,\"zerolinewidth\":2},\"scene\":{\"xaxis\":{\"backgroundcolor\":\"#E5ECF6\",\"gridcolor\":\"white\",\"linecolor\":\"white\",\"showbackground\":true,\"ticks\":\"\",\"zerolinecolor\":\"white\",\"gridwidth\":2},\"yaxis\":{\"backgroundcolor\":\"#E5ECF6\",\"gridcolor\":\"white\",\"linecolor\":\"white\",\"showbackground\":true,\"ticks\":\"\",\"zerolinecolor\":\"white\",\"gridwidth\":2},\"zaxis\":{\"backgroundcolor\":\"#E5ECF6\",\"gridcolor\":\"white\",\"linecolor\":\"white\",\"showbackground\":true,\"ticks\":\"\",\"zerolinecolor\":\"white\",\"gridwidth\":2}},\"shapedefaults\":{\"line\":{\"color\":\"#2a3f5f\"}},\"annotationdefaults\":{\"arrowcolor\":\"#2a3f5f\",\"arrowhead\":0,\"arrowwidth\":1},\"geo\":{\"bgcolor\":\"white\",\"landcolor\":\"#E5ECF6\",\"subunitcolor\":\"white\",\"showland\":true,\"showlakes\":true,\"lakecolor\":\"white\"},\"title\":{\"x\":0.05},\"mapbox\":{\"style\":\"light\"}}},\"xaxis\":{\"anchor\":\"y\",\"domain\":[0.0,1.0],\"title\":{\"text\":\"Category\"}},\"yaxis\":{\"anchor\":\"x\",\"domain\":[0.0,1.0],\"title\":{\"text\":\"Values\"}},\"legend\":{\"tracegroupgap\":0},\"title\":{\"text\":\"Simple Bar Plot (Plotly)\"},\"barmode\":\"relative\"},                        {\"responsive\": true}                    ).then(function(){\n",
              "                            \n",
              "var gd = document.getElementById('20eeca85-5cdc-4f8e-aea0-ccd9bba833f8');\n",
              "var x = new MutationObserver(function (mutations, observer) {{\n",
              "        var display = window.getComputedStyle(gd).display;\n",
              "        if (!display || display === 'none') {{\n",
              "            console.log([gd, 'removed!']);\n",
              "            Plotly.purge(gd);\n",
              "            observer.disconnect();\n",
              "        }}\n",
              "}});\n",
              "\n",
              "// Listen for the removal of the full notebook cells\n",
              "var notebookContainer = gd.closest('#notebook-container');\n",
              "if (notebookContainer) {{\n",
              "    x.observe(notebookContainer, {childList: true});\n",
              "}}\n",
              "\n",
              "// Listen for the clearing of the current output cell\n",
              "var outputEl = gd.closest('.output');\n",
              "if (outputEl) {{\n",
              "    x.observe(outputEl, {childList: true});\n",
              "}}\n",
              "\n",
              "                        })                };                            </script>        </div>\n",
              "</body>\n",
              "</html>"
            ]
          },
          "metadata": {}
        }
      ]
    },
    {
      "cell_type": "markdown",
      "metadata": {
        "id": "d05d22c4"
      },
      "source": [
        "**6. Create a DataFrame and add a new column based on an existing column.**"
      ]
    },
    {
      "cell_type": "code",
      "metadata": {
        "colab": {
          "base_uri": "https://localhost:8080/"
        },
        "id": "8a1d3ae8",
        "outputId": "e8ae14b7-2da6-49a0-85e1-d79b50ade98b"
      },
      "source": [
        "import pandas as pd\n",
        "\n",
        "# Create a sample DataFrame\n",
        "data = {'Name': ['Alice', 'Bob', 'Charlie'],\n",
        "        'Age': [25, 30, 35]}\n",
        "df = pd.DataFrame(data)\n",
        "\n",
        "# Add a new column 'Age_in_Years' based on 'Age' (although they are the same here)\n",
        "df['Age_in_Years'] = df['Age']\n",
        "\n",
        "print(\"DataFrame with new column:\")\n",
        "print(df)"
      ],
      "execution_count": 7,
      "outputs": [
        {
          "output_type": "stream",
          "name": "stdout",
          "text": [
            "DataFrame with new column:\n",
            "      Name  Age  Age_in_Years\n",
            "0    Alice   25            25\n",
            "1      Bob   30            30\n",
            "2  Charlie   35            35\n"
          ]
        }
      ]
    },
    {
      "cell_type": "markdown",
      "metadata": {
        "id": "f7efe759"
      },
      "source": [
        "**7. Write a program to perform element-wise multiplication of two NumPy arrays.**"
      ]
    },
    {
      "cell_type": "code",
      "metadata": {
        "colab": {
          "base_uri": "https://localhost:8080/"
        },
        "id": "324dbb7c",
        "outputId": "dee9c062-608d-456b-f3ef-92d5d0b5819d"
      },
      "source": [
        "import numpy as np\n",
        "\n",
        "# Create two NumPy arrays\n",
        "array1 = np.array([1, 2, 3])\n",
        "array2 = np.array([4, 5, 6])\n",
        "\n",
        "# Perform element-wise multiplication\n",
        "result_array = array1 * array2\n",
        "\n",
        "print(\"Array 1:\", array1)\n",
        "print(\"Array 2:\", array2)\n",
        "print(\"Element-wise multiplication result:\", result_array)"
      ],
      "execution_count": 8,
      "outputs": [
        {
          "output_type": "stream",
          "name": "stdout",
          "text": [
            "Array 1: [1 2 3]\n",
            "Array 2: [4 5 6]\n",
            "Element-wise multiplication result: [ 4 10 18]\n"
          ]
        }
      ]
    },
    {
      "cell_type": "markdown",
      "metadata": {
        "id": "0afb138c"
      },
      "source": [
        "**8. Create a line plot with multiple lines using Matplotlib.**"
      ]
    },
    {
      "cell_type": "code",
      "metadata": {
        "colab": {
          "base_uri": "https://localhost:8080/",
          "height": 493
        },
        "id": "3c23c440",
        "outputId": "6b614f18-1ed3-4836-f993-db387a7ce94e"
      },
      "source": [
        "import matplotlib.pyplot as plt\n",
        "import numpy as np\n",
        "\n",
        "# Generate sample data\n",
        "x = np.linspace(0, 10, 100)\n",
        "y1 = np.sin(x)\n",
        "y2 = np.cos(x)\n",
        "\n",
        "# Create a line plot with multiple lines\n",
        "plt.plot(x, y1, label='sin(x)')\n",
        "plt.plot(x, y2, label='cos(x)')\n",
        "plt.xlabel(\"X-axis\")\n",
        "plt.ylabel(\"Y-axis\")\n",
        "plt.title(\"Line Plot with Multiple Lines\")\n",
        "plt.legend()\n",
        "plt.grid(True)\n",
        "plt.show()"
      ],
      "execution_count": 9,
      "outputs": [
        {
          "output_type": "display_data",
          "data": {
            "text/plain": [
              "<Figure size 640x480 with 1 Axes>"
            ],
            "image/png": "[encoded data removed]"
          },
          "metadata": {}
        }
      ]
    },
    {
      "cell_type": "markdown",
      "metadata": {
        "id": "684e0b05"
      },
      "source": [
        "**9. Generate a Pandas DataFrame and filter rows where a column value is greater than a threshold.**"
      ]
    },
    {
      "cell_type": "code",
      "metadata": {
        "colab": {
          "base_uri": "https://localhost:8080/"
        },
        "id": "5a642255",
        "outputId": "15d38640-11c8-4691-eb8d-5a627d070a02"
      },
      "source": [
        "import pandas as pd\n",
        "\n",
        "# Create a sample DataFrame\n",
        "data = {'Value': [10, 15, 22, 5, 30, 18],\n",
        "        'Category': ['A', 'B', 'A', 'C', 'B', 'C']}\n",
        "df = pd.DataFrame(data)\n",
        "\n",
        "# Define a threshold\n",
        "threshold = 15\n",
        "\n",
        "# Filter rows where 'Value' is greater than the threshold\n",
        "filtered_df = df[df['Value'] > threshold]\n",
        "\n",
        "print(\"Original DataFrame:\")\n",
        "print(df)\n",
        "print(f\"\\nFiltered DataFrame (Value > {threshold}):\")\n",
        "print(filtered_df)"
      ],
      "execution_count": 10,
      "outputs": [
        {
          "output_type": "stream",
          "name": "stdout",
          "text": [
            "Original DataFrame:\n",
            "   Value Category\n",
            "0     10        A\n",
            "1     15        B\n",
            "2     22        A\n",
            "3      5        C\n",
            "4     30        B\n",
            "5     18        C\n",
            "\n",
            "Filtered DataFrame (Value > 15):\n",
            "   Value Category\n",
            "2     22        A\n",
            "4     30        B\n",
            "5     18        C\n"
          ]
        }
      ]
    },
    {
      "cell_type": "markdown",
      "metadata": {
        "id": "a0dee66a"
      },
      "source": [
        "**10. Create a histogram using Seaborn to visualize a distribution.**"
      ]
    },
    {
      "cell_type": "code",
      "metadata": {
        "colab": {
          "base_uri": "https://localhost:8080/",
          "height": 493
        },
        "id": "13542aaf",
        "outputId": "7b099b0a-90ed-4b65-f1ea-ab4a2e275610"
      },
      "source": [
        "import seaborn as sns\n",
        "import matplotlib.pyplot as plt\n",
        "import numpy as np\n",
        "\n",
        "# Generate sample data\n",
        "data = np.random.randn(100)\n",
        "\n",
        "# Create a histogram using Seaborn\n",
        "sns.histplot(data, kde=True)\n",
        "plt.xlabel(\"Value\")\n",
        "plt.ylabel(\"Frequency\")\n",
        "plt.title(\"Histogram with KDE\")\n",
        "plt.show()"
      ],
      "execution_count": 11,
      "outputs": [
        {
          "output_type": "display_data",
          "data": {
            "text/plain": [
              "<Figure size 640x480 with 1 Axes>"
            ],
            "image/png": "[encoded data removed]"
          },
          "metadata": {}
        }
      ]
    },
    {
      "cell_type": "markdown",
      "metadata": {
        "id": "85db544d"
      },
      "source": [
        "**11. Perform matrix multiplication using NumPy.**"
      ]
    },
    {
      "cell_type": "code",
      "metadata": {
        "colab": {
          "base_uri": "https://localhost:8080/"
        },
        "id": "8e6bf654",
        "outputId": "aa45b5b6-4b66-420e-bcfb-53602e87ed40"
      },
      "source": [
        "import numpy as np\n",
        "\n",
        "# Create two matrices\n",
        "matrix1 = np.array([[1, 2],\n",
        "                    [3, 4]])\n",
        "\n",
        "matrix2 = np.array([[5, 6],\n",
        "                    [7, 8]])\n",
        "\n",
        "# Perform matrix multiplication\n",
        "result_matrix = np.dot(matrix1, matrix2)\n",
        "# Alternatively, using the @ operator (for Python 3.5+)\n",
        "# result_matrix = matrix1 @ matrix2\n",
        "\n",
        "print(\"Matrix 1:\")\n",
        "print(matrix1)\n",
        "print(\"\\nMatrix 2:\")\n",
        "print(matrix2)\n",
        "print(\"\\nMatrix multiplication result:\")\n",
        "print(result_matrix)"
      ],
      "execution_count": 12,
      "outputs": [
        {
          "output_type": "stream",
          "name": "stdout",
          "text": [
            "Matrix 1:\n",
            "[[1 2]\n",
            " [3 4]]\n",
            "\n",
            "Matrix 2:\n",
            "[[5 6]\n",
            " [7 8]]\n",
            "\n",
            "Matrix multiplication result:\n",
            "[[19 22]\n",
            " [43 50]]\n"
          ]
        }
      ]
    },
    {
      "cell_type": "markdown",
      "metadata": {
        "id": "bbd074eb"
      },
      "source": [
        "**12. Use Pandas to load a CSV file and display its first 5 rows.**"
      ]
    },
    {
      "cell_type": "code",
      "metadata": {
        "colab": {
          "base_uri": "https://localhost:8080/",
          "height": 238
        },
        "id": "9057e0fd",
        "outputId": "3d9a8cdc-c87c-48b8-87ea-9bdcbd535752"
      },
      "source": [
        "import pandas as pd\n",
        "\n",
        "\n",
        "data = {'colA': [1, 2, 3,4,5,22, 33], 'colB': [4, 5, 6, 7, 8, 22, 77]}\n",
        "dummy_df = pd.DataFrame(data)\n",
        "dummy_df.to_csv('sample.csv', index=False)\n",
        "\n",
        "try:\n",
        "    # Load the CSV file\n",
        "    df_csv = pd.read_csv('sample.csv')\n",
        "\n",
        "    # Display the first 5 rows\n",
        "    print(\"First 5 rows of the CSV file:\")\n",
        "    display(df_csv.head())\n",
        "except FileNotFoundError:\n",
        "    print(\"Error: 'sample.csv' not found. Please make sure the file exists or create a dummy one.\")"
      ],
      "execution_count": 18,
      "outputs": [
        {
          "output_type": "stream",
          "name": "stdout",
          "text": [
            "First 5 rows of the CSV file:\n"
          ]
        },
        {
          "output_type": "display_data",
          "data": {
            "text/plain": [
              "   colA  colB\n",
              "0     1     4\n",
              "1     2     5\n",
              "2     3     6\n",
              "3     4     7\n",
              "4     5     8"
            ],
            "text/html": [
              "\n",
              "  <div id=\"df-a7fffab1-1610-4c11-9d42-96ccd9bfffd3\" class=\"colab-df-container\">\n",
              "    <div>\n",
              "<style scoped>\n",
              "    .dataframe tbody tr th:only-of-type {\n",
              "        vertical-align: middle;\n",
              "    }\n",
              "\n",
              "    .dataframe tbody tr th {\n",
              "        vertical-align: top;\n",
              "    }\n",
              "\n",
              "    .dataframe thead th {\n",
              "        text-align: right;\n",
              "    }\n",
              "</style>\n",
              "<table border=\"1\" class=\"dataframe\">\n",
              "  <thead>\n",
              "    <tr style=\"text-align: right;\">\n",
              "      <th></th>\n",
              "      <th>colA</th>\n",
              "      <th>colB</th>\n",
              "    </tr>\n",
              "  </thead>\n",
              "  <tbody>\n",
              "    <tr>\n",
              "      <th>0</th>\n",
              "      <td>1</td>\n",
              "      <td>4</td>\n",
              "    </tr>\n",
              "    <tr>\n",
              "      <th>1</th>\n",
              "      <td>2</td>\n",
              "      <td>5</td>\n",
              "    </tr>\n",
              "    <tr>\n",
              "      <th>2</th>\n",
              "      <td>3</td>\n",
              "      <td>6</td>\n",
              "    </tr>\n",
              "    <tr>\n",
              "      <th>3</th>\n",
              "      <td>4</td>\n",
              "      <td>7</td>\n",
              "    </tr>\n",
              "    <tr>\n",
              "      <th>4</th>\n",
              "      <td>5</td>\n",
              "      <td>8</td>\n",
              "    </tr>\n",
              "  </tbody>\n",
              "</table>\n",
              "</div>\n",
              "    <div class=\"colab-df-buttons\">\n",
              "\n",
              "  <div class=\"colab-df-container\">\n",
              "    <button class=\"colab-df-convert\" onclick=\"convertToInteractive('df-a7fffab1-1610-4c11-9d42-96ccd9bfffd3')\"\n",
              "            title=\"Convert this dataframe to an interactive table.\"\n",
              "            style=\"display:none;\">\n",
              "\n",
              "  <svg xmlns=\"http://www.w3.org/2000/svg\" height=\"24px\" viewBox=\"0 -960 960 960\">\n",
              "    <path d=\"M120-120v-720h720v720H120Zm60-500h600v-160H180v160Zm220 220h160v-160H400v160Zm0 220h160v-160H400v160ZM180-400h160v-160H180v160Zm440 0h160v-160H620v160ZM180-180h160v-160H180v160Zm440 0h160v-160H620v160Z\"/>\n",
              "  </svg>\n",
              "    </button>\n",
              "\n",
              "  <style>\n",
              "    .colab-df-container {\n",
              "      display:flex;\n",
              "      gap: 12px;\n",
              "    }\n",
              "\n",
              "    .colab-df-convert {\n",
              "      background-color: #E8F0FE;\n",
              "      border: none;\n",
              "      border-radius: 50%;\n",
              "      cursor: pointer;\n",
              "      display: none;\n",
              "      fill: #1967D2;\n",
              "      height: 32px;\n",
              "      padding: 0 0 0 0;\n",
              "      width: 32px;\n",
              "    }\n",
              "\n",
              "    .colab-df-convert:hover {\n",
              "      background-color: #E2EBFA;\n",
              "      box-shadow: 0px 1px 2px rgba(60, 64, 67, 0.3), 0px 1px 3px 1px rgba(60, 64, 67, 0.15);\n",
              "      fill: #174EA6;\n",
              "    }\n",
              "\n",
              "    .colab-df-buttons div {\n",
              "      margin-bottom: 4px;\n",
              "    }\n",
              "\n",
              "    [theme=dark] .colab-df-convert {\n",
              "      background-color: #3B4455;\n",
              "      fill: #D2E3FC;\n",
              "    }\n",
              "\n",
              "    [theme=dark] .colab-df-convert:hover {\n",
              "      background-color: #434B5C;\n",
              "      box-shadow: 0px 1px 3px 1px rgba(0, 0, 0, 0.15);\n",
              "      filter: drop-shadow(0px 1px 2px rgba(0, 0, 0, 0.3));\n",
              "      fill: #FFFFFF;\n",
              "    }\n",
              "  </style>\n",
              "\n",
              "    <script>\n",
              "      const buttonEl =\n",
              "        document.querySelector('#df-a7fffab1-1610-4c11-9d42-96ccd9bfffd3 button.colab-df-convert');\n",
              "      buttonEl.style.display =\n",
              "        google.colab.kernel.accessAllowed ? 'block' : 'none';\n",
              "\n",
              "      async function convertToInteractive(key) {\n",
              "        const element = document.querySelector('#df-a7fffab1-1610-4c11-9d42-96ccd9bfffd3');\n",
              "        const dataTable =\n",
              "          await google.colab.kernel.invokeFunction('convertToInteractive',\n",
              "                                                    [key], {});\n",
              "        if (!dataTable) return;\n",
              "\n",
              "        const docLinkHtml = 'Like what you see? Visit the ' +\n",
              "          '<a target=\"_blank\" href=https://colab.research.google.com/notebooks/data_table.ipynb>data table notebook</a>'\n",
              "          + ' to learn more about interactive tables.';\n",
              "        element.innerHTML = '';\n",
              "        dataTable['output_type'] = 'display_data';\n",
              "        await google.colab.output.renderOutput(dataTable, element);\n",
              "        const docLink = document.createElement('div');\n",
              "        docLink.innerHTML = docLinkHtml;\n",
              "        element.appendChild(docLink);\n",
              "      }\n",
              "    </script>\n",
              "  </div>\n",
              "\n",
              "\n",
              "    <div id=\"df-57003161-b32f-4a3c-bb63-8656f41b6ea8\">\n",
              "      <button class=\"colab-df-quickchart\" onclick=\"quickchart('df-57003161-b32f-4a3c-bb63-8656f41b6ea8')\"\n",
              "                title=\"Suggest charts\"\n",
              "                style=\"display:none;\">\n",
              "\n",
              "<svg xmlns=\"http://www.w3.org/2000/svg\" height=\"24px\"viewBox=\"0 0 24 24\"\n",
              "     width=\"24px\">\n",
              "    <g>\n",
              "        <path d=\"M19 3H5c-1.1 0-2 .9-2 2v14c0 1.1.9 2 2 2h14c1.1 0 2-.9 2-2V5c0-1.1-.9-2-2-2zM9 17H7v-7h2v7zm4 0h-2V7h2v10zm4 0h-2v-4h2v4z\"/>\n",
              "    </g>\n",
              "</svg>\n",
              "      </button>\n",
              "\n",
              "<style>\n",
              "  .colab-df-quickchart {\n",
              "      --bg-color: #E8F0FE;\n",
              "      --fill-color: #1967D2;\n",
              "      --hover-bg-color: #E2EBFA;\n",
              "      --hover-fill-color: #174EA6;\n",
              "      --disabled-fill-color: #AAA;\n",
              "      --disabled-bg-color: #DDD;\n",
              "  }\n",
              "\n",
              "  [theme=dark] .colab-df-quickchart {\n",
              "      --bg-color: #3B4455;\n",
              "      --fill-color: #D2E3FC;\n",
              "      --hover-bg-color: #434B5C;\n",
              "      --hover-fill-color: #FFFFFF;\n",
              "      --disabled-bg-color: #3B4455;\n",
              "      --disabled-fill-color: #666;\n",
              "  }\n",
              "\n",
              "  .colab-df-quickchart {\n",
              "    background-color: var(--bg-color);\n",
              "    border: none;\n",
              "    border-radius: 50%;\n",
              "    cursor: pointer;\n",
              "    display: none;\n",
              "    fill: var(--fill-color);\n",
              "    height: 32px;\n",
              "    padding: 0;\n",
              "    width: 32px;\n",
              "  }\n",
              "\n",
              "  .colab-df-quickchart:hover {\n",
              "    background-color: var(--hover-bg-color);\n",
              "    box-shadow: 0 1px 2px rgba(60, 64, 67, 0.3), 0 1px 3px 1px rgba(60, 64, 67, 0.15);\n",
              "    fill: var(--button-hover-fill-color);\n",
              "  }\n",
              "\n",
              "  .colab-df-quickchart-complete:disabled,\n",
              "  .colab-df-quickchart-complete:disabled:hover {\n",
              "    background-color: var(--disabled-bg-color);\n",
              "    fill: var(--disabled-fill-color);\n",
              "    box-shadow: none;\n",
              "  }\n",
              "\n",
              "  .colab-df-spinner {\n",
              "    border: 2px solid var(--fill-color);\n",
              "    border-color: transparent;\n",
              "    border-bottom-color: var(--fill-color);\n",
              "    animation:\n",
              "      spin 1s steps(1) infinite;\n",
              "  }\n",
              "\n",
              "  @keyframes spin {\n",
              "    0% {\n",
              "      border-color: transparent;\n",
              "      border-bottom-color: var(--fill-color);\n",
              "      border-left-color: var(--fill-color);\n",
              "    }\n",
              "    20% {\n",
              "      border-color: transparent;\n",
              "      border-left-color: var(--fill-color);\n",
              "      border-top-color: var(--fill-color);\n",
              "    }\n",
              "    30% {\n",
              "      border-color: transparent;\n",
              "      border-left-color: var(--fill-color);\n",
              "      border-top-color: var(--fill-color);\n",
              "      border-right-color: var(--fill-color);\n",
              "    }\n",
              "    40% {\n",
              "      border-color: transparent;\n",
              "      border-right-color: var(--fill-color);\n",
              "      border-top-color: var(--fill-color);\n",
              "    }\n",
              "    60% {\n",
              "      border-color: transparent;\n",
              "      border-right-color: var(--fill-color);\n",
              "    }\n",
              "    80% {\n",
              "      border-color: transparent;\n",
              "      border-right-color: var(--fill-color);\n",
              "      border-bottom-color: var(--fill-color);\n",
              "    }\n",
              "    90% {\n",
              "      border-color: transparent;\n",
              "      border-bottom-color: var(--fill-color);\n",
              "    }\n",
              "  }\n",
              "</style>\n",
              "\n",
              "      <script>\n",
              "        async function quickchart(key) {\n",
              "          const quickchartButtonEl =\n",
              "            document.querySelector('#' + key + ' button');\n",
              "          quickchartButtonEl.disabled = true;  // To prevent multiple clicks.\n",
              "          quickchartButtonEl.classList.add('colab-df-spinner');\n",
              "          try {\n",
              "            const charts = await google.colab.kernel.invokeFunction(\n",
              "                'suggestCharts', [key], {});\n",
              "          } catch (error) {\n",
              "            console.error('Error during call to suggestCharts:', error);\n",
              "          }\n",
              "          quickchartButtonEl.classList.remove('colab-df-spinner');\n",
              "          quickchartButtonEl.classList.add('colab-df-quickchart-complete');\n",
              "        }\n",
              "        (() => {\n",
              "          let quickchartButtonEl =\n",
              "            document.querySelector('#df-57003161-b32f-4a3c-bb63-8656f41b6ea8 button');\n",
              "          quickchartButtonEl.style.display =\n",
              "            google.colab.kernel.accessAllowed ? 'block' : 'none';\n",
              "        })();\n",
              "      </script>\n",
              "    </div>\n",
              "\n",
              "    </div>\n",
              "  </div>\n"
            ],
            "application/vnd.google.colaboratory.intrinsic+json": {
              "type": "dataframe",
              "summary": "{\n  \"name\": \"    print(\\\"Error: 'sample\",\n  \"rows\": 5,\n  \"fields\": [\n    {\n      \"column\": \"colA\",\n      \"properties\": {\n        \"dtype\": \"number\",\n        \"std\": 1,\n        \"min\": 1,\n        \"max\": 5,\n        \"num_unique_values\": 5,\n        \"samples\": [\n          2,\n          5,\n          3\n        ],\n        \"semantic_type\": \"\",\n        \"description\": \"\"\n      }\n    },\n    {\n      \"column\": \"colB\",\n      \"properties\": {\n        \"dtype\": \"number\",\n        \"std\": 1,\n        \"min\": 4,\n        \"max\": 8,\n        \"num_unique_values\": 5,\n        \"samples\": [\n          5,\n          8,\n          6\n        ],\n        \"semantic_type\": \"\",\n        \"description\": \"\"\n      }\n    }\n  ]\n}"
            }
          },
          "metadata": {}
        }
      ]
    },
    {
      "cell_type": "markdown",
      "metadata": {
        "id": "1ce0b4fa"
      },
      "source": [
        "**13. Create a 3D scatter plot using Plotly.**"
      ]
    },
    {
      "cell_type": "code",
      "metadata": {
        "colab": {
          "base_uri": "https://localhost:8080/",
          "height": 562
        },
        "id": "dfb8535a",
        "outputId": "27f331b7-252c-40d6-8d76-e85da10b6c63"
      },
      "source": [
        "import plotly.express as px\n",
        "import numpy as np\n",
        "\n",
        "# Generate sample 3D data\n",
        "np.random.seed(0)\n",
        "x = np.random.rand(50)\n",
        "y = np.random.rand(50)\n",
        "z = np.random.rand(50)\n",
        "\n",
        "# Create a 3D scatter plot\n",
        "fig = px.scatter_3d(x=x, y=y, z=z, title=\"Simple 3D Scatter Plot (Plotly)\")\n",
        "fig.show()"
      ],
      "execution_count": 14,
      "outputs": [
        {
          "output_type": "display_data",
          "data": {
            "text/html": [
              "<html>\n",
              "<head><meta charset=\"utf-8\" /></head>\n",
              "<body>\n",
              "    <div>            <script src=\"https://cdnjs.cloudflare.com/ajax/libs/mathjax/2.7.5/MathJax.js?config=TeX-AMS-MML_SVG\"></script><script type=\"text/javascript\">if (window.MathJax && window.MathJax.Hub && window.MathJax.Hub.Config) {window.MathJax.Hub.Config({SVG: {font: \"STIX-Web\"}});}</script>                <script type=\"text/javascript\">window.PlotlyConfig = {MathJaxConfig: 'local'};</script>\n",
              "        <script charset=\"utf-8\" src=\"https://cdn.plot.ly/plotly-2.35.2.min.js\"></script>                <div id=\"fe402196-ba56-44bd-8135-ed1f27990269\" class=\"plotly-graph-div\" style=\"height:525px; width:100%;\"></div>            <script type=\"text/javascript\">                                    window.PLOTLYENV=window.PLOTLYENV || {};                                    if (document.getElementById(\"fe402196-ba56-44bd-8135-ed1f27990269\")) {                    Plotly.newPlot(                        \"fe402196-ba56-44bd-8135-ed1f27990269\",                        [{\"hovertemplate\":\"x=%{x}\\u003cbr\\u003ey=%{y}\\u003cbr\\u003ez=%{z}\\u003cextra\\u003e\\u003c\\u002fextra\\u003e\",\"legendgroup\":\"\",\"marker\":{\"color\":\"#636efa\",\"symbol\":\"circle\"},\"mode\":\"markers\",\"name\":\"\",\"scene\":\"scene\",\"showlegend\":false,\"x\":[0.5488135039273248,0.7151893663724195,0.6027633760716439,0.5448831829968969,0.4236547993389047,0.6458941130666561,0.4375872112626925,0.8917730007820798,0.9636627605010293,0.3834415188257777,0.7917250380826646,0.5288949197529045,0.5680445610939323,0.925596638292661,0.07103605819788694,0.08712929970154071,0.02021839744032572,0.832619845547938,0.7781567509498505,0.8700121482468192,0.978618342232764,0.7991585642167236,0.46147936225293185,0.7805291762864555,0.11827442586893322,0.6399210213275238,0.1433532874090464,0.9446689170495839,0.5218483217500717,0.4146619399905236,0.26455561210462697,0.7742336894342167,0.45615033221654855,0.5684339488686485,0.018789800436355142,0.6176354970758771,0.6120957227224214,0.6169339968747569,0.9437480785146242,0.6818202991034834,0.359507900573786,0.43703195379934145,0.6976311959272649,0.06022547162926983,0.6667667154456677,0.6706378696181594,0.2103825610738409,0.1289262976548533,0.31542835092418386,0.3637107709426226],\"y\":[0.5701967704178796,0.43860151346232035,0.9883738380592262,0.10204481074802807,0.2088767560948347,0.16130951788499626,0.6531083254653984,0.2532916025397821,0.4663107728563063,0.24442559200160274,0.15896958364551972,0.11037514116430513,0.6563295894652734,0.1381829513486138,0.1965823616800535,0.3687251706609641,0.8209932298479351,0.09710127579306127,0.8379449074988039,0.09609840789396307,0.9764594650133958,0.4686512016477016,0.9767610881903371,0.604845519745046,0.7392635793983017,0.039187792254320675,0.2828069625764096,0.1201965612131689,0.29614019752214493,0.11872771895424405,0.317983179393976,0.41426299451466997,0.06414749634878436,0.6924721193700198,0.5666014542065752,0.2653894909394454,0.5232480534666997,0.09394051075844168,0.5759464955561793,0.9292961975762141,0.31856895245132366,0.6674103799636817,0.13179786240439217,0.7163272041185655,0.2894060929472011,0.18319136200711683,0.5865129348100832,0.020107546187493552,0.8289400292173631,0.004695476192547066],\"z\":[0.6778165367962301,0.27000797319216485,0.7351940221225949,0.9621885451174382,0.24875314351995803,0.5761573344178369,0.592041931271839,0.5722519057908734,0.2230816326406183,0.952749011516985,0.44712537861762736,0.8464086724711278,0.6994792753175043,0.29743695085513366,0.8137978197024772,0.39650574084698464,0.8811031971111616,0.5812728726358587,0.8817353618548528,0.6925315900777659,0.7252542798196405,0.5013243819267023,0.9560836347232239,0.6439901992296374,0.4238550485581797,0.6063932141279244,0.019193198309333526,0.30157481667454933,0.660173537492685,0.29007760721044407,0.6180154289988415,0.42876870094576613,0.13547406422245023,0.29828232595603077,0.5699649107012649,0.5908727612481732,0.5743252488495788,0.6532008198571336,0.6521032700016889,0.43141843543397396,0.896546595851063,0.36756187004789653,0.4358649252656268,0.8919233550156721,0.8061939890460857,0.7038885835403663,0.10022688731230112,0.9194826137446735,0.7142412995491114,0.9988470065678665],\"type\":\"scatter3d\"}],                        {\"template\":{\"data\":{\"histogram2dcontour\":[{\"type\":\"histogram2dcontour\",\"colorbar\":{\"outlinewidth\":0,\"ticks\":\"\"},\"colorscale\":[[0.0,\"#0d0887\"],[0.1111111111111111,\"#46039f\"],[0.2222222222222222,\"#7201a8\"],[0.3333333333333333,\"#9c179e\"],[0.4444444444444444,\"#bd3786\"],[0.5555555555555556,\"#d8576b\"],[0.6666666666666666,\"#ed7953\"],[0.7777777777777778,\"#fb9f3a\"],[0.8888888888888888,\"#fdca26\"],[1.0,\"#f0f921\"]]}],\"choropleth\":[{\"type\":\"choropleth\",\"colorbar\":{\"outlinewidth\":0,\"ticks\":\"\"}}],\"histogram2d\":[{\"type\":\"histogram2d\",\"colorbar\":{\"outlinewidth\":0,\"ticks\":\"\"},\"colorscale\":[[0.0,\"#0d0887\"],[0.1111111111111111,\"#46039f\"],[0.2222222222222222,\"#7201a8\"],[0.3333333333333333,\"#9c179e\"],[0.4444444444444444,\"#bd3786\"],[0.5555555555555556,\"#d8576b\"],[0.6666666666666666,\"#ed7953\"],[0.7777777777777778,\"#fb9f3a\"],[0.8888888888888888,\"#fdca26\"],[1.0,\"#f0f921\"]]}],\"heatmap\":[{\"type\":\"heatmap\",\"colorbar\":{\"outlinewidth\":0,\"ticks\":\"\"},\"colorscale\":[[0.0,\"#0d0887\"],[0.1111111111111111,\"#46039f\"],[0.2222222222222222,\"#7201a8\"],[0.3333333333333333,\"#9c179e\"],[0.4444444444444444,\"#bd3786\"],[0.5555555555555556,\"#d8576b\"],[0.6666666666666666,\"#ed7953\"],[0.7777777777777778,\"#fb9f3a\"],[0.8888888888888888,\"#fdca26\"],[1.0,\"#f0f921\"]]}],\"heatmapgl\":[{\"type\":\"heatmapgl\",\"colorbar\":{\"outlinewidth\":0,\"ticks\":\"\"},\"colorscale\":[[0.0,\"#0d0887\"],[0.1111111111111111,\"#46039f\"],[0.2222222222222222,\"#7201a8\"],[0.3333333333333333,\"#9c179e\"],[0.4444444444444444,\"#bd3786\"],[0.5555555555555556,\"#d8576b\"],[0.6666666666666666,\"#ed7953\"],[0.7777777777777778,\"#fb9f3a\"],[0.8888888888888888,\"#fdca26\"],[1.0,\"#f0f921\"]]}],\"contourcarpet\":[{\"type\":\"contourcarpet\",\"colorbar\":{\"outlinewidth\":0,\"ticks\":\"\"}}],\"contour\":[{\"type\":\"contour\",\"colorbar\":{\"outlinewidth\":0,\"ticks\":\"\"},\"colorscale\":[[0.0,\"#0d0887\"],[0.1111111111111111,\"#46039f\"],[0.2222222222222222,\"#7201a8\"],[0.3333333333333333,\"#9c179e\"],[0.4444444444444444,\"#bd3786\"],[0.5555555555555556,\"#d8576b\"],[0.6666666666666666,\"#ed7953\"],[0.7777777777777778,\"#fb9f3a\"],[0.8888888888888888,\"#fdca26\"],[1.0,\"#f0f921\"]]}],\"surface\":[{\"type\":\"surface\",\"colorbar\":{\"outlinewidth\":0,\"ticks\":\"\"},\"colorscale\":[[0.0,\"#0d0887\"],[0.1111111111111111,\"#46039f\"],[0.2222222222222222,\"#7201a8\"],[0.3333333333333333,\"#9c179e\"],[0.4444444444444444,\"#bd3786\"],[0.5555555555555556,\"#d8576b\"],[0.6666666666666666,\"#ed7953\"],[0.7777777777777778,\"#fb9f3a\"],[0.8888888888888888,\"#fdca26\"],[1.0,\"#f0f921\"]]}],\"mesh3d\":[{\"type\":\"mesh3d\",\"colorbar\":{\"outlinewidth\":0,\"ticks\":\"\"}}],\"scatter\":[{\"fillpattern\":{\"fillmode\":\"overlay\",\"size\":10,\"solidity\":0.2},\"type\":\"scatter\"}],\"parcoords\":[{\"type\":\"parcoords\",\"line\":{\"colorbar\":{\"outlinewidth\":0,\"ticks\":\"\"}}}],\"scatterpolargl\":[{\"type\":\"scatterpolargl\",\"marker\":{\"colorbar\":{\"outlinewidth\":0,\"ticks\":\"\"}}}],\"bar\":[{\"error_x\":{\"color\":\"#2a3f5f\"},\"error_y\":{\"color\":\"#2a3f5f\"},\"marker\":{\"line\":{\"color\":\"#E5ECF6\",\"width\":0.5},\"pattern\":{\"fillmode\":\"overlay\",\"size\":10,\"solidity\":0.2}},\"type\":\"bar\"}],\"scattergeo\":[{\"type\":\"scattergeo\",\"marker\":{\"colorbar\":{\"outlinewidth\":0,\"ticks\":\"\"}}}],\"scatterpolar\":[{\"type\":\"scatterpolar\",\"marker\":{\"colorbar\":{\"outlinewidth\":0,\"ticks\":\"\"}}}],\"histogram\":[{\"marker\":{\"pattern\":{\"fillmode\":\"overlay\",\"size\":10,\"solidity\":0.2}},\"type\":\"histogram\"}],\"scattergl\":[{\"type\":\"scattergl\",\"marker\":{\"colorbar\":{\"outlinewidth\":0,\"ticks\":\"\"}}}],\"scatter3d\":[{\"type\":\"scatter3d\",\"line\":{\"colorbar\":{\"outlinewidth\":0,\"ticks\":\"\"}},\"marker\":{\"colorbar\":{\"outlinewidth\":0,\"ticks\":\"\"}}}],\"scattermapbox\":[{\"type\":\"scattermapbox\",\"marker\":{\"colorbar\":{\"outlinewidth\":0,\"ticks\":\"\"}}}],\"scatterternary\":[{\"type\":\"scatterternary\",\"marker\":{\"colorbar\":{\"outlinewidth\":0,\"ticks\":\"\"}}}],\"scattercarpet\":[{\"type\":\"scattercarpet\",\"marker\":{\"colorbar\":{\"outlinewidth\":0,\"ticks\":\"\"}}}],\"carpet\":[{\"aaxis\":{\"endlinecolor\":\"#2a3f5f\",\"gridcolor\":\"white\",\"linecolor\":\"white\",\"minorgridcolor\":\"white\",\"startlinecolor\":\"#2a3f5f\"},\"baxis\":{\"endlinecolor\":\"#2a3f5f\",\"gridcolor\":\"white\",\"linecolor\":\"white\",\"minorgridcolor\":\"white\",\"startlinecolor\":\"#2a3f5f\"},\"type\":\"carpet\"}],\"table\":[{\"cells\":{\"fill\":{\"color\":\"#EBF0F8\"},\"line\":{\"color\":\"white\"}},\"header\":{\"fill\":{\"color\":\"#C8D4E3\"},\"line\":{\"color\":\"white\"}},\"type\":\"table\"}],\"barpolar\":[{\"marker\":{\"line\":{\"color\":\"#E5ECF6\",\"width\":0.5},\"pattern\":{\"fillmode\":\"overlay\",\"size\":10,\"solidity\":0.2}},\"type\":\"barpolar\"}],\"pie\":[{\"automargin\":true,\"type\":\"pie\"}]},\"layout\":{\"autotypenumbers\":\"strict\",\"colorway\":[\"#636efa\",\"#EF553B\",\"#00cc96\",\"#ab63fa\",\"#FFA15A\",\"#19d3f3\",\"#FF6692\",\"#B6E880\",\"#FF97FF\",\"#FECB52\"],\"font\":{\"color\":\"#2a3f5f\"},\"hovermode\":\"closest\",\"hoverlabel\":{\"align\":\"left\"},\"paper_bgcolor\":\"white\",\"plot_bgcolor\":\"#E5ECF6\",\"polar\":{\"bgcolor\":\"#E5ECF6\",\"angularaxis\":{\"gridcolor\":\"white\",\"linecolor\":\"white\",\"ticks\":\"\"},\"radialaxis\":{\"gridcolor\":\"white\",\"linecolor\":\"white\",\"ticks\":\"\"}},\"ternary\":{\"bgcolor\":\"#E5ECF6\",\"aaxis\":{\"gridcolor\":\"white\",\"linecolor\":\"white\",\"ticks\":\"\"},\"baxis\":{\"gridcolor\":\"white\",\"linecolor\":\"white\",\"ticks\":\"\"},\"caxis\":{\"gridcolor\":\"white\",\"linecolor\":\"white\",\"ticks\":\"\"}},\"coloraxis\":{\"colorbar\":{\"outlinewidth\":0,\"ticks\":\"\"}},\"colorscale\":{\"sequential\":[[0.0,\"#0d0887\"],[0.1111111111111111,\"#46039f\"],[0.2222222222222222,\"#7201a8\"],[0.3333333333333333,\"#9c179e\"],[0.4444444444444444,\"#bd3786\"],[0.5555555555555556,\"#d8576b\"],[0.6666666666666666,\"#ed7953\"],[0.7777777777777778,\"#fb9f3a\"],[0.8888888888888888,\"#fdca26\"],[1.0,\"#f0f921\"]],\"sequentialminus\":[[0.0,\"#0d0887\"],[0.1111111111111111,\"#46039f\"],[0.2222222222222222,\"#7201a8\"],[0.3333333333333333,\"#9c179e\"],[0.4444444444444444,\"#bd3786\"],[0.5555555555555556,\"#d8576b\"],[0.6666666666666666,\"#ed7953\"],[0.7777777777777778,\"#fb9f3a\"],[0.8888888888888888,\"#fdca26\"],[1.0,\"#f0f921\"]],\"diverging\":[[0,\"#8e0152\"],[0.1,\"#c51b7d\"],[0.2,\"#de77ae\"],[0.3,\"#f1b6da\"],[0.4,\"#fde0ef\"],[0.5,\"#f7f7f7\"],[0.6,\"#e6f5d0\"],[0.7,\"#b8e186\"],[0.8,\"#7fbc41\"],[0.9,\"#4d9221\"],[1,\"#276419\"]]},\"xaxis\":{\"gridcolor\":\"white\",\"linecolor\":\"white\",\"ticks\":\"\",\"title\":{\"standoff\":15},\"zerolinecolor\":\"white\",\"automargin\":true,\"zerolinewidth\":2},\"yaxis\":{\"gridcolor\":\"white\",\"linecolor\":\"white\",\"ticks\":\"\",\"title\":{\"standoff\":15},\"zerolinecolor\":\"white\",\"automargin\":true,\"zerolinewidth\":2},\"scene\":{\"xaxis\":{\"backgroundcolor\":\"#E5ECF6\",\"gridcolor\":\"white\",\"linecolor\":\"white\",\"showbackground\":true,\"ticks\":\"\",\"zerolinecolor\":\"white\",\"gridwidth\":2},\"yaxis\":{\"backgroundcolor\":\"#E5ECF6\",\"gridcolor\":\"white\",\"linecolor\":\"white\",\"showbackground\":true,\"ticks\":\"\",\"zerolinecolor\":\"white\",\"gridwidth\":2},\"zaxis\":{\"backgroundcolor\":\"#E5ECF6\",\"gridcolor\":\"white\",\"linecolor\":\"white\",\"showbackground\":true,\"ticks\":\"\",\"zerolinecolor\":\"white\",\"gridwidth\":2}},\"shapedefaults\":{\"line\":{\"color\":\"#2a3f5f\"}},\"annotationdefaults\":{\"arrowcolor\":\"#2a3f5f\",\"arrowhead\":0,\"arrowwidth\":1},\"geo\":{\"bgcolor\":\"white\",\"landcolor\":\"#E5ECF6\",\"subunitcolor\":\"white\",\"showland\":true,\"showlakes\":true,\"lakecolor\":\"white\"},\"title\":{\"x\":0.05},\"mapbox\":{\"style\":\"light\"}}},\"scene\":{\"domain\":{\"x\":[0.0,1.0],\"y\":[0.0,1.0]},\"xaxis\":{\"title\":{\"text\":\"x\"}},\"yaxis\":{\"title\":{\"text\":\"y\"}},\"zaxis\":{\"title\":{\"text\":\"z\"}}},\"legend\":{\"tracegroupgap\":0},\"title\":{\"text\":\"Simple 3D Scatter Plot (Plotly)\"}},                        {\"responsive\": true}                    ).then(function(){\n",
              "                            \n",
              "var gd = document.getElementById('fe402196-ba56-44bd-8135-ed1f27990269');\n",
              "var x = new MutationObserver(function (mutations, observer) {{\n",
              "        var display = window.getComputedStyle(gd).display;\n",
              "        if (!display || display === 'none') {{\n",
              "            console.log([gd, 'removed!']);\n",
              "            Plotly.purge(gd);\n",
              "            observer.disconnect();\n",
              "        }}\n",
              "}});\n",
              "\n",
              "// Listen for the removal of the full notebook cells\n",
              "var notebookContainer = gd.closest('#notebook-container');\n",
              "if (notebookContainer) {{\n",
              "    x.observe(notebookContainer, {childList: true});\n",
              "}}\n",
              "\n",
              "// Listen for the clearing of the current output cell\n",
              "var outputEl = gd.closest('.output');\n",
              "if (outputEl) {{\n",
              "    x.observe(outputEl, {childList: true});\n",
              "}}\n",
              "\n",
              "                        })                };                            </script>        </div>\n",
              "</body>\n",
              "</html>"
            ]
          },
          "metadata": {}
        }
      ]
    }
  ]
}